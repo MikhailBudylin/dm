{
 "cells": [
  {
   "cell_type": "code",
   "execution_count": 2,
   "metadata": {},
   "outputs": [],
   "source": [
    "import pandas as pd\n",
    "import numpy as np\n",
    "import xgboost as xgb\n",
    "import lightgbm as lgb\n",
    "import sklearn.linear_model as LinModel\n",
    "import matplotlib.pylab as plt\n",
    "\n",
    "from sklearn.neighbors import KNeighborsRegressor\n",
    "from sklearn.ensemble import RandomForestRegressor, IsolationForest, ExtraTreesRegressor\n",
    "from sklearn.svm import SVR \n",
    "from sklearn.decomposition import PCA, FastICA, TruncatedSVD\n",
    "from sklearn.random_projection import GaussianRandomProjection, SparseRandomProjection\n",
    "from sklearn.manifold import TSNE\n",
    "from sklearn.cluster import KMeans\n",
    "from sklearn.metrics import r2_score\n",
    "from sklearn.preprocessing import LabelEncoder \n",
    "from sklearn.model_selection import KFold, cross_val_score\n",
    "from scipy.optimize import minimize\n",
    "\n",
    "plt.style.use('ggplot')"
   ]
  },
  {
   "cell_type": "markdown",
   "metadata": {},
   "source": [
    "# Read & Preparate"
   ]
  },
  {
   "cell_type": "code",
   "execution_count": 633,
   "metadata": {
    "collapsed": true
   },
   "outputs": [],
   "source": [
    "train = pd.read_csv('train.csv')\n",
    "test  = pd.read_csv('test.csv')\n",
    "\n",
    "#train = train.loc[train['y'] < 200]\n",
    "\n",
    "train['set'] = 1\n",
    "test['set']  = 0\n",
    "data  = pd.concat([train, test])\n",
    "test_id = test['ID']\n",
    "\n",
    "data.reset_index(drop=True, inplace=True)\n",
    "\n",
    "bin_features = data.columns[data.dtypes == int]\n",
    "cat_features = data.columns[data.dtypes == object]\n",
    "\n",
    "duplicate_features = ['X205', 'X385', 'X60', 'X44', 'X157', 'X67', 'X39', 'X263', 'X279',\n",
    "       'X130', 'X299', 'X254', 'X226', 'X326', 'X360', 'X199', 'X262',\n",
    "       'X214', 'X239', 'X53', 'X71', 'X84', 'X134', 'X147', 'X222', 'X48',\n",
    "       'X216', 'X62', 'X35', 'X37', 'X119', 'X293', 'X330', 'X76', 'X146',\n",
    "       'X296', 'X58', 'X364', 'X227', 'X382']\n",
    "\n",
    "low_std_feat = [ 'X11', 'X93', 'X107',  'X233', 'X235', 'X268', 'X289', 'X290', 'X297', 'X347' ]\n",
    "low_inique_feat = ['X4']\n",
    "\n",
    "data.drop(duplicate_features, 1, inplace=True)"
   ]
  },
  {
   "cell_type": "code",
   "execution_count": 634,
   "metadata": {
    "collapsed": true
   },
   "outputs": [],
   "source": [
    "cat_features = data.columns[data.dtypes == object]\n",
    "bin_features    = data.columns[data.dtypes == int ]\n",
    "bin_features = bin_features.drop(['ID','set'])"
   ]
  },
  {
   "cell_type": "code",
   "execution_count": 635,
   "metadata": {},
   "outputs": [
    {
     "data": {
      "text/html": [
       "<div>\n",
       "<style>\n",
       "    .dataframe thead tr:only-child th {\n",
       "        text-align: right;\n",
       "    }\n",
       "\n",
       "    .dataframe thead th {\n",
       "        text-align: left;\n",
       "    }\n",
       "\n",
       "    .dataframe tbody tr th {\n",
       "        vertical-align: top;\n",
       "    }\n",
       "</style>\n",
       "<table border=\"1\" class=\"dataframe\">\n",
       "  <thead>\n",
       "    <tr style=\"text-align: right;\">\n",
       "      <th></th>\n",
       "      <th>ID</th>\n",
       "      <th>X0</th>\n",
       "      <th>X1</th>\n",
       "      <th>X10</th>\n",
       "      <th>X100</th>\n",
       "      <th>X101</th>\n",
       "      <th>X102</th>\n",
       "      <th>X103</th>\n",
       "      <th>X104</th>\n",
       "      <th>X105</th>\n",
       "      <th>...</th>\n",
       "      <th>X8_15</th>\n",
       "      <th>X8_16</th>\n",
       "      <th>X8_17</th>\n",
       "      <th>X8_18</th>\n",
       "      <th>X8_19</th>\n",
       "      <th>X8_20</th>\n",
       "      <th>X8_21</th>\n",
       "      <th>X8_22</th>\n",
       "      <th>X8_23</th>\n",
       "      <th>X8_24</th>\n",
       "    </tr>\n",
       "  </thead>\n",
       "  <tbody>\n",
       "    <tr>\n",
       "      <th>0</th>\n",
       "      <td>0</td>\n",
       "      <td>k</td>\n",
       "      <td>v</td>\n",
       "      <td>0</td>\n",
       "      <td>0</td>\n",
       "      <td>0</td>\n",
       "      <td>0</td>\n",
       "      <td>0</td>\n",
       "      <td>0</td>\n",
       "      <td>0</td>\n",
       "      <td>...</td>\n",
       "      <td>0</td>\n",
       "      <td>0</td>\n",
       "      <td>0</td>\n",
       "      <td>0</td>\n",
       "      <td>0</td>\n",
       "      <td>0</td>\n",
       "      <td>0</td>\n",
       "      <td>0</td>\n",
       "      <td>0</td>\n",
       "      <td>0</td>\n",
       "    </tr>\n",
       "    <tr>\n",
       "      <th>1</th>\n",
       "      <td>6</td>\n",
       "      <td>k</td>\n",
       "      <td>t</td>\n",
       "      <td>0</td>\n",
       "      <td>1</td>\n",
       "      <td>1</td>\n",
       "      <td>0</td>\n",
       "      <td>0</td>\n",
       "      <td>0</td>\n",
       "      <td>0</td>\n",
       "      <td>...</td>\n",
       "      <td>0</td>\n",
       "      <td>0</td>\n",
       "      <td>0</td>\n",
       "      <td>0</td>\n",
       "      <td>0</td>\n",
       "      <td>0</td>\n",
       "      <td>0</td>\n",
       "      <td>0</td>\n",
       "      <td>0</td>\n",
       "      <td>0</td>\n",
       "    </tr>\n",
       "    <tr>\n",
       "      <th>2</th>\n",
       "      <td>7</td>\n",
       "      <td>az</td>\n",
       "      <td>w</td>\n",
       "      <td>0</td>\n",
       "      <td>0</td>\n",
       "      <td>1</td>\n",
       "      <td>0</td>\n",
       "      <td>0</td>\n",
       "      <td>0</td>\n",
       "      <td>0</td>\n",
       "      <td>...</td>\n",
       "      <td>0</td>\n",
       "      <td>0</td>\n",
       "      <td>0</td>\n",
       "      <td>0</td>\n",
       "      <td>0</td>\n",
       "      <td>0</td>\n",
       "      <td>0</td>\n",
       "      <td>0</td>\n",
       "      <td>1</td>\n",
       "      <td>0</td>\n",
       "    </tr>\n",
       "    <tr>\n",
       "      <th>3</th>\n",
       "      <td>9</td>\n",
       "      <td>az</td>\n",
       "      <td>t</td>\n",
       "      <td>0</td>\n",
       "      <td>0</td>\n",
       "      <td>1</td>\n",
       "      <td>0</td>\n",
       "      <td>0</td>\n",
       "      <td>0</td>\n",
       "      <td>0</td>\n",
       "      <td>...</td>\n",
       "      <td>0</td>\n",
       "      <td>0</td>\n",
       "      <td>0</td>\n",
       "      <td>0</td>\n",
       "      <td>0</td>\n",
       "      <td>0</td>\n",
       "      <td>0</td>\n",
       "      <td>0</td>\n",
       "      <td>0</td>\n",
       "      <td>0</td>\n",
       "    </tr>\n",
       "    <tr>\n",
       "      <th>4</th>\n",
       "      <td>13</td>\n",
       "      <td>az</td>\n",
       "      <td>v</td>\n",
       "      <td>0</td>\n",
       "      <td>0</td>\n",
       "      <td>1</td>\n",
       "      <td>0</td>\n",
       "      <td>0</td>\n",
       "      <td>0</td>\n",
       "      <td>0</td>\n",
       "      <td>...</td>\n",
       "      <td>0</td>\n",
       "      <td>0</td>\n",
       "      <td>0</td>\n",
       "      <td>0</td>\n",
       "      <td>0</td>\n",
       "      <td>0</td>\n",
       "      <td>0</td>\n",
       "      <td>0</td>\n",
       "      <td>0</td>\n",
       "      <td>0</td>\n",
       "    </tr>\n",
       "  </tbody>\n",
       "</table>\n",
       "<p>5 rows × 550 columns</p>\n",
       "</div>"
      ],
      "text/plain": [
       "   ID  X0 X1  X10  X100  X101  X102  X103  X104  X105  ...    X8_15  X8_16  \\\n",
       "0   0   k  v    0     0     0     0     0     0     0  ...        0      0   \n",
       "1   6   k  t    0     1     1     0     0     0     0  ...        0      0   \n",
       "2   7  az  w    0     0     1     0     0     0     0  ...        0      0   \n",
       "3   9  az  t    0     0     1     0     0     0     0  ...        0      0   \n",
       "4  13  az  v    0     0     1     0     0     0     0  ...        0      0   \n",
       "\n",
       "   X8_17  X8_18  X8_19  X8_20  X8_21  X8_22  X8_23  X8_24  \n",
       "0      0      0      0      0      0      0      0      0  \n",
       "1      0      0      0      0      0      0      0      0  \n",
       "2      0      0      0      0      0      0      1      0  \n",
       "3      0      0      0      0      0      0      0      0  \n",
       "4      0      0      0      0      0      0      0      0  \n",
       "\n",
       "[5 rows x 550 columns]"
      ]
     },
     "execution_count": 635,
     "metadata": {},
     "output_type": "execute_result"
    }
   ],
   "source": [
    "dummy_categ = np.array([])\n",
    "for cat in cat_features:\n",
    "    dummy = pd.get_dummies(data[cat])\n",
    "    dummy_name = [cat + '_' + str(x) for x in xrange(dummy.shape[1])]\n",
    "    dummy.columns = dummy_name\n",
    "    dummy_categ = np.append(dummy_categ, dummy_name)\n",
    "    data = pd.concat([data, dummy], axis=1)\n",
    "data.head()"
   ]
  },
  {
   "cell_type": "code",
   "execution_count": 636,
   "metadata": {},
   "outputs": [
    {
     "data": {
      "text/html": [
       "<div>\n",
       "<style>\n",
       "    .dataframe thead tr:only-child th {\n",
       "        text-align: right;\n",
       "    }\n",
       "\n",
       "    .dataframe thead th {\n",
       "        text-align: left;\n",
       "    }\n",
       "\n",
       "    .dataframe tbody tr th {\n",
       "        vertical-align: top;\n",
       "    }\n",
       "</style>\n",
       "<table border=\"1\" class=\"dataframe\">\n",
       "  <thead>\n",
       "    <tr style=\"text-align: right;\">\n",
       "      <th></th>\n",
       "      <th>ID</th>\n",
       "      <th>X0</th>\n",
       "      <th>X1</th>\n",
       "      <th>X10</th>\n",
       "      <th>X100</th>\n",
       "      <th>X101</th>\n",
       "      <th>X102</th>\n",
       "      <th>X103</th>\n",
       "      <th>X104</th>\n",
       "      <th>X105</th>\n",
       "      <th>...</th>\n",
       "      <th>X8_15</th>\n",
       "      <th>X8_16</th>\n",
       "      <th>X8_17</th>\n",
       "      <th>X8_18</th>\n",
       "      <th>X8_19</th>\n",
       "      <th>X8_20</th>\n",
       "      <th>X8_21</th>\n",
       "      <th>X8_22</th>\n",
       "      <th>X8_23</th>\n",
       "      <th>X8_24</th>\n",
       "    </tr>\n",
       "  </thead>\n",
       "  <tbody>\n",
       "    <tr>\n",
       "      <th>0</th>\n",
       "      <td>0</td>\n",
       "      <td>37</td>\n",
       "      <td>23</td>\n",
       "      <td>0</td>\n",
       "      <td>0</td>\n",
       "      <td>0</td>\n",
       "      <td>0</td>\n",
       "      <td>0</td>\n",
       "      <td>0</td>\n",
       "      <td>0</td>\n",
       "      <td>...</td>\n",
       "      <td>0</td>\n",
       "      <td>0</td>\n",
       "      <td>0</td>\n",
       "      <td>0</td>\n",
       "      <td>0</td>\n",
       "      <td>0</td>\n",
       "      <td>0</td>\n",
       "      <td>0</td>\n",
       "      <td>0</td>\n",
       "      <td>0</td>\n",
       "    </tr>\n",
       "    <tr>\n",
       "      <th>1</th>\n",
       "      <td>6</td>\n",
       "      <td>37</td>\n",
       "      <td>21</td>\n",
       "      <td>0</td>\n",
       "      <td>1</td>\n",
       "      <td>1</td>\n",
       "      <td>0</td>\n",
       "      <td>0</td>\n",
       "      <td>0</td>\n",
       "      <td>0</td>\n",
       "      <td>...</td>\n",
       "      <td>0</td>\n",
       "      <td>0</td>\n",
       "      <td>0</td>\n",
       "      <td>0</td>\n",
       "      <td>0</td>\n",
       "      <td>0</td>\n",
       "      <td>0</td>\n",
       "      <td>0</td>\n",
       "      <td>0</td>\n",
       "      <td>0</td>\n",
       "    </tr>\n",
       "    <tr>\n",
       "      <th>2</th>\n",
       "      <td>7</td>\n",
       "      <td>24</td>\n",
       "      <td>24</td>\n",
       "      <td>0</td>\n",
       "      <td>0</td>\n",
       "      <td>1</td>\n",
       "      <td>0</td>\n",
       "      <td>0</td>\n",
       "      <td>0</td>\n",
       "      <td>0</td>\n",
       "      <td>...</td>\n",
       "      <td>0</td>\n",
       "      <td>0</td>\n",
       "      <td>0</td>\n",
       "      <td>0</td>\n",
       "      <td>0</td>\n",
       "      <td>0</td>\n",
       "      <td>0</td>\n",
       "      <td>0</td>\n",
       "      <td>1</td>\n",
       "      <td>0</td>\n",
       "    </tr>\n",
       "    <tr>\n",
       "      <th>3</th>\n",
       "      <td>9</td>\n",
       "      <td>24</td>\n",
       "      <td>21</td>\n",
       "      <td>0</td>\n",
       "      <td>0</td>\n",
       "      <td>1</td>\n",
       "      <td>0</td>\n",
       "      <td>0</td>\n",
       "      <td>0</td>\n",
       "      <td>0</td>\n",
       "      <td>...</td>\n",
       "      <td>0</td>\n",
       "      <td>0</td>\n",
       "      <td>0</td>\n",
       "      <td>0</td>\n",
       "      <td>0</td>\n",
       "      <td>0</td>\n",
       "      <td>0</td>\n",
       "      <td>0</td>\n",
       "      <td>0</td>\n",
       "      <td>0</td>\n",
       "    </tr>\n",
       "    <tr>\n",
       "      <th>4</th>\n",
       "      <td>13</td>\n",
       "      <td>24</td>\n",
       "      <td>23</td>\n",
       "      <td>0</td>\n",
       "      <td>0</td>\n",
       "      <td>1</td>\n",
       "      <td>0</td>\n",
       "      <td>0</td>\n",
       "      <td>0</td>\n",
       "      <td>0</td>\n",
       "      <td>...</td>\n",
       "      <td>0</td>\n",
       "      <td>0</td>\n",
       "      <td>0</td>\n",
       "      <td>0</td>\n",
       "      <td>0</td>\n",
       "      <td>0</td>\n",
       "      <td>0</td>\n",
       "      <td>0</td>\n",
       "      <td>0</td>\n",
       "      <td>0</td>\n",
       "    </tr>\n",
       "  </tbody>\n",
       "</table>\n",
       "<p>5 rows × 550 columns</p>\n",
       "</div>"
      ],
      "text/plain": [
       "   ID  X0  X1  X10  X100  X101  X102  X103  X104  X105  ...    X8_15  X8_16  \\\n",
       "0   0  37  23    0     0     0     0     0     0     0  ...        0      0   \n",
       "1   6  37  21    0     1     1     0     0     0     0  ...        0      0   \n",
       "2   7  24  24    0     0     1     0     0     0     0  ...        0      0   \n",
       "3   9  24  21    0     0     1     0     0     0     0  ...        0      0   \n",
       "4  13  24  23    0     0     1     0     0     0     0  ...        0      0   \n",
       "\n",
       "   X8_17  X8_18  X8_19  X8_20  X8_21  X8_22  X8_23  X8_24  \n",
       "0      0      0      0      0      0      0      0      0  \n",
       "1      0      0      0      0      0      0      0      0  \n",
       "2      0      0      0      0      0      0      1      0  \n",
       "3      0      0      0      0      0      0      0      0  \n",
       "4      0      0      0      0      0      0      0      0  \n",
       "\n",
       "[5 rows x 550 columns]"
      ]
     },
     "execution_count": 636,
     "metadata": {},
     "output_type": "execute_result"
    }
   ],
   "source": [
    "for c in train.columns:\n",
    "    if train[c].dtype == 'object':\n",
    "        lbl = LabelEncoder()\n",
    "        lbl.fit(list(train[c].values) + list(test[c].values))\n",
    "        train[c] = lbl.transform(list(train[c].values))\n",
    "        test[c] = lbl.transform(list(test[c].values))\n",
    "        data[c] = lbl.transform(list(data[c].values))\n",
    "data.head()"
   ]
  },
  {
   "cell_type": "code",
   "execution_count": 637,
   "metadata": {},
   "outputs": [
    {
     "data": {
      "image/png": "[encoded data removed]",
      "text/plain": [
       "<matplotlib.figure.Figure at 0x7f6103e83bd0>"
      ]
     },
     "metadata": {},
     "output_type": "display_data"
    },
    {
     "data": {
      "image/png": "[encoded data removed]",
      "text/plain": [
       "<matplotlib.figure.Figure at 0x7f61027c6390>"
      ]
     },
     "metadata": {},
     "output_type": "display_data"
    }
   ],
   "source": [
    "n_comp_pca = 12#12\n",
    "n_comp_ica = 12#12\n",
    "n_comp_svd = 2\n",
    "\n",
    "pca = PCA(n_components = n_comp_pca)\n",
    "ica = FastICA(n_components=n_comp_ica, max_iter=2000, random_state=2)\n",
    "\n",
    "\n",
    "pca_comp = pca.fit_transform(data[bin_features])\n",
    "plt.scatter(pca_comp[:,0], pca_comp[:,1])\n",
    "plt.show()\n",
    "\n",
    "ica_comp = ica.fit_transform(data[bin_features])\n",
    "plt.scatter(ica_comp[:,0], ica_comp[:,1])\n",
    "plt.show()\n",
    "\n",
    "#tsvd_comp = tsvd.fit_transform(data[bin_features], random_state = 123)\n",
    "#plt.scatter(tsvd_comp[:,0], tsvd_comp[:,1])\n",
    "#plt.show()\n",
    "\n",
    "for i in xrange(n_comp_pca):\n",
    "    data['PCA_' + str(i+1)] = pca_comp[:,i]\n",
    "for i in xrange(n_comp_ica):\n",
    "    data['ICA_' + str(i+1)] = ica_comp[:,i]\n",
    "#for i in xrange(n_comp_svd):\n",
    "#    data['SVD_' + str(i+1)] = tsvd_comp[:,i]"
   ]
  },
  {
   "cell_type": "code",
   "execution_count": 638,
   "metadata": {
    "collapsed": true
   },
   "outputs": [],
   "source": [
    "mean_y = data.groupby(['X0'])['y'].mean()\n",
    "\n",
    "group1 = mean_y[ (mean_y <  85) ].index.tolist()\n",
    "group2 = mean_y[ (mean_y <  99) & (mean_y >= 85)].index.tolist()\n",
    "group3 = mean_y[ (mean_y < 108) & (mean_y >= 99)].index.tolist()\n",
    "group4 = mean_y[ (mean_y < 114) & (mean_y >= 108)].index.tolist()\n",
    "group5 = mean_y[ (mean_y >= 114)].index.tolist()\n",
    "\n",
    "label1 = data['X0'].isin(group1).values\n",
    "label2 = data['X0'].isin(group2).values\n",
    "label3 = data['X0'].isin(group3).values\n",
    "label4 = data['X0'].isin(group4).values\n",
    "label5 = data['X0'].isin(group5).values\n",
    "\n",
    "#l1 = x_test['X0'].isin(group1).values\n",
    "#l2 = x_test['X0'].isin(group2).values\n",
    "#l3 = x_test['X0'].isin(group3).values\n",
    "#l4 = x_test['X0'].isin(group4).values\n",
    "#l5 = x_test['X0'].isin(group4).values"
   ]
  },
  {
   "cell_type": "code",
   "execution_count": 639,
   "metadata": {},
   "outputs": [],
   "source": [
    "#data['label'] = np.nan\n",
    "#for i, label in enumerate([label1, label2, label3, label4, label5]):\n",
    "#    data['label'].iloc[label] = i\n",
    "#data['label'].fillna(1, inplace=True)\n",
    "\n",
    "data['sum_bins'] = data[bin_features].sum(axis=1)"
   ]
  },
  {
   "cell_type": "code",
   "execution_count": 640,
   "metadata": {},
   "outputs": [
    {
     "name": "stdout",
     "output_type": "stream",
     "text": [
      "(4209, 361)\n",
      "(4209, 564)\n"
     ]
    },
    {
     "data": {
      "text/html": [
       "<div>\n",
       "<style>\n",
       "    .dataframe thead tr:only-child th {\n",
       "        text-align: right;\n",
       "    }\n",
       "\n",
       "    .dataframe thead th {\n",
       "        text-align: left;\n",
       "    }\n",
       "\n",
       "    .dataframe tbody tr th {\n",
       "        vertical-align: top;\n",
       "    }\n",
       "</style>\n",
       "<table border=\"1\" class=\"dataframe\">\n",
       "  <thead>\n",
       "    <tr style=\"text-align: right;\">\n",
       "      <th></th>\n",
       "      <th>X0</th>\n",
       "      <th>X1</th>\n",
       "      <th>X10</th>\n",
       "      <th>X100</th>\n",
       "      <th>X101</th>\n",
       "      <th>X102</th>\n",
       "      <th>X103</th>\n",
       "      <th>X104</th>\n",
       "      <th>X105</th>\n",
       "      <th>X106</th>\n",
       "      <th>...</th>\n",
       "      <th>ICA_4</th>\n",
       "      <th>ICA_5</th>\n",
       "      <th>ICA_6</th>\n",
       "      <th>ICA_7</th>\n",
       "      <th>ICA_8</th>\n",
       "      <th>ICA_9</th>\n",
       "      <th>ICA_10</th>\n",
       "      <th>ICA_11</th>\n",
       "      <th>ICA_12</th>\n",
       "      <th>sum_bins</th>\n",
       "    </tr>\n",
       "  </thead>\n",
       "  <tbody>\n",
       "    <tr>\n",
       "      <th>0</th>\n",
       "      <td>37</td>\n",
       "      <td>23</td>\n",
       "      <td>0</td>\n",
       "      <td>0</td>\n",
       "      <td>0</td>\n",
       "      <td>0</td>\n",
       "      <td>0</td>\n",
       "      <td>0</td>\n",
       "      <td>0</td>\n",
       "      <td>0</td>\n",
       "      <td>...</td>\n",
       "      <td>-0.011724</td>\n",
       "      <td>-0.005438</td>\n",
       "      <td>0.009842</td>\n",
       "      <td>-0.021288</td>\n",
       "      <td>-0.000034</td>\n",
       "      <td>-0.008645</td>\n",
       "      <td>0.012018</td>\n",
       "      <td>-0.000356</td>\n",
       "      <td>-0.005683</td>\n",
       "      <td>46</td>\n",
       "    </tr>\n",
       "    <tr>\n",
       "      <th>1</th>\n",
       "      <td>37</td>\n",
       "      <td>21</td>\n",
       "      <td>0</td>\n",
       "      <td>1</td>\n",
       "      <td>1</td>\n",
       "      <td>0</td>\n",
       "      <td>0</td>\n",
       "      <td>0</td>\n",
       "      <td>0</td>\n",
       "      <td>0</td>\n",
       "      <td>...</td>\n",
       "      <td>0.006516</td>\n",
       "      <td>-0.009089</td>\n",
       "      <td>0.004881</td>\n",
       "      <td>0.006358</td>\n",
       "      <td>0.006526</td>\n",
       "      <td>0.001437</td>\n",
       "      <td>0.010729</td>\n",
       "      <td>0.001911</td>\n",
       "      <td>-0.012048</td>\n",
       "      <td>47</td>\n",
       "    </tr>\n",
       "    <tr>\n",
       "      <th>2</th>\n",
       "      <td>24</td>\n",
       "      <td>24</td>\n",
       "      <td>0</td>\n",
       "      <td>0</td>\n",
       "      <td>1</td>\n",
       "      <td>0</td>\n",
       "      <td>0</td>\n",
       "      <td>0</td>\n",
       "      <td>0</td>\n",
       "      <td>0</td>\n",
       "      <td>...</td>\n",
       "      <td>-0.002742</td>\n",
       "      <td>-0.002287</td>\n",
       "      <td>0.001263</td>\n",
       "      <td>-0.011802</td>\n",
       "      <td>-0.008134</td>\n",
       "      <td>0.000378</td>\n",
       "      <td>-0.004614</td>\n",
       "      <td>-0.049996</td>\n",
       "      <td>-0.002348</td>\n",
       "      <td>63</td>\n",
       "    </tr>\n",
       "    <tr>\n",
       "      <th>3</th>\n",
       "      <td>24</td>\n",
       "      <td>21</td>\n",
       "      <td>0</td>\n",
       "      <td>0</td>\n",
       "      <td>1</td>\n",
       "      <td>0</td>\n",
       "      <td>0</td>\n",
       "      <td>0</td>\n",
       "      <td>0</td>\n",
       "      <td>0</td>\n",
       "      <td>...</td>\n",
       "      <td>0.000709</td>\n",
       "      <td>-0.002055</td>\n",
       "      <td>0.002291</td>\n",
       "      <td>-0.001650</td>\n",
       "      <td>0.001201</td>\n",
       "      <td>0.001277</td>\n",
       "      <td>0.001546</td>\n",
       "      <td>-0.050621</td>\n",
       "      <td>-0.002810</td>\n",
       "      <td>54</td>\n",
       "    </tr>\n",
       "    <tr>\n",
       "      <th>4</th>\n",
       "      <td>24</td>\n",
       "      <td>23</td>\n",
       "      <td>0</td>\n",
       "      <td>0</td>\n",
       "      <td>1</td>\n",
       "      <td>0</td>\n",
       "      <td>0</td>\n",
       "      <td>0</td>\n",
       "      <td>0</td>\n",
       "      <td>0</td>\n",
       "      <td>...</td>\n",
       "      <td>0.001641</td>\n",
       "      <td>-0.000994</td>\n",
       "      <td>-0.000462</td>\n",
       "      <td>0.000163</td>\n",
       "      <td>0.000049</td>\n",
       "      <td>0.003740</td>\n",
       "      <td>0.000398</td>\n",
       "      <td>-0.057122</td>\n",
       "      <td>0.001490</td>\n",
       "      <td>52</td>\n",
       "    </tr>\n",
       "  </tbody>\n",
       "</table>\n",
       "<p>5 rows × 572 columns</p>\n",
       "</div>"
      ],
      "text/plain": [
       "   X0  X1  X10  X100  X101  X102  X103  X104  X105  X106    ...        ICA_4  \\\n",
       "0  37  23    0     0     0     0     0     0     0     0    ...    -0.011724   \n",
       "1  37  21    0     1     1     0     0     0     0     0    ...     0.006516   \n",
       "2  24  24    0     0     1     0     0     0     0     0    ...    -0.002742   \n",
       "3  24  21    0     0     1     0     0     0     0     0    ...     0.000709   \n",
       "4  24  23    0     0     1     0     0     0     0     0    ...     0.001641   \n",
       "\n",
       "      ICA_5     ICA_6     ICA_7     ICA_8     ICA_9    ICA_10    ICA_11  \\\n",
       "0 -0.005438  0.009842 -0.021288 -0.000034 -0.008645  0.012018 -0.000356   \n",
       "1 -0.009089  0.004881  0.006358  0.006526  0.001437  0.010729  0.001911   \n",
       "2 -0.002287  0.001263 -0.011802 -0.008134  0.000378 -0.004614 -0.049996   \n",
       "3 -0.002055  0.002291 -0.001650  0.001201  0.001277  0.001546 -0.050621   \n",
       "4 -0.000994 -0.000462  0.000163  0.000049  0.003740  0.000398 -0.057122   \n",
       "\n",
       "     ICA_12  sum_bins  \n",
       "0 -0.005683        46  \n",
       "1 -0.012048        47  \n",
       "2 -0.002348        63  \n",
       "3 -0.002810        54  \n",
       "4  0.001490        52  \n",
       "\n",
       "[5 rows x 572 columns]"
      ]
     },
     "execution_count": 640,
     "metadata": {},
     "output_type": "execute_result"
    }
   ],
   "source": [
    "x_train = data.loc[data['set'] == 1].drop(['set','ID','y'], 1)\n",
    "x_test  = data.loc[data['set'] == 0].drop(['set','ID','y'], 1)\n",
    "y_train = data.loc[data['set'] == 1, 'y'].values\n",
    "\n",
    "y_mean = y_train.mean()\n",
    "\n",
    "x_train1 = x_train.drop(dummy_categ, 1)\n",
    "x_train2 = x_train.drop(cat_features, 1)\n",
    "x_test1  = x_test.drop(dummy_categ, 1)\n",
    "x_test2  = x_test.drop(cat_features, 1)\n",
    "\n",
    "print x_train1.shape\n",
    "print x_train2.shape\n",
    "x_train.head()"
   ]
  },
  {
   "cell_type": "markdown",
   "metadata": {},
   "source": [
    "# XGBoost"
   ]
  },
  {
   "cell_type": "code",
   "execution_count": 642,
   "metadata": {},
   "outputs": [
    {
     "name": "stdout",
     "output_type": "stream",
     "text": [
      "0.568490753526\n",
      "[ 0.62007741  0.45005555  0.59858574  0.54409367  0.6296414 ]\n",
      "CPU times: user 1min 37s, sys: 528 ms, total: 1min 38s\n",
      "Wall time: 26.6 s\n"
     ]
    }
   ],
   "source": [
    "%%time\n",
    "xgbst = xgb.XGBRegressor( max_depth = 2, learning_rate = 0.02, n_estimators = 400, \n",
    "                         subsample = 0.95, colsample_bytree = 0.95, base_score=y_mean)\n",
    "\n",
    "cv_score = cross_val_score(xgbst, x_train1, y_train, cv=5, scoring='r2', n_jobs=1)\n",
    "print cv_score.mean()\n",
    "print cv_score"
   ]
  },
  {
   "cell_type": "markdown",
   "metadata": {},
   "source": [
    "# LightGBM"
   ]
  },
  {
   "cell_type": "code",
   "execution_count": 643,
   "metadata": {},
   "outputs": [
    {
     "name": "stdout",
     "output_type": "stream",
     "text": [
      "0.568648518644\n",
      "[ 0.61670274  0.44622405  0.59957847  0.54400035  0.63673699]\n",
      "CPU times: user 26 s, sys: 340 ms, total: 26.3 s\n",
      "Wall time: 7.51 s\n"
     ]
    }
   ],
   "source": [
    "%%time\n",
    "lgbm = lgb.LGBMRegressor(num_leaves= 5 , max_depth = 3, learning_rate = 0.02, n_estimators = 270, \n",
    "                         max_bin=40000, objective='regression_l2', \n",
    "                         subsample=0.9, subsample_freq=10, colsample_bytree=0.95 )\n",
    "\n",
    "cv_score = cross_val_score(lgbm, x_train1, y_train, cv=5, scoring='r2', n_jobs=1)\n",
    "print cv_score.mean()\n",
    "print cv_score"
   ]
  },
  {
   "cell_type": "markdown",
   "metadata": {},
   "source": [
    "# RandomForest"
   ]
  },
  {
   "cell_type": "code",
   "execution_count": 644,
   "metadata": {},
   "outputs": [
    {
     "name": "stdout",
     "output_type": "stream",
     "text": [
      "0.56666335284\n",
      "[ 0.61480905  0.44141653  0.59285028  0.54726403  0.63697688]\n"
     ]
    }
   ],
   "source": [
    "rfr_features = [ 'X0', 'X314', 'X261']\n",
    "rfr = RandomForestRegressor(n_estimators=120, max_features=1, n_jobs=-1, random_state=432)\n",
    "\n",
    "cv_score = cross_val_score(rfr, x_train1[rfr_features], y_train, cv=5, scoring='r2', n_jobs=1)\n",
    "print cv_score.mean()\n",
    "print cv_score"
   ]
  },
  {
   "cell_type": "markdown",
   "metadata": {},
   "source": [
    "# ExtraTrees"
   ]
  },
  {
   "cell_type": "code",
   "execution_count": 645,
   "metadata": {},
   "outputs": [
    {
     "name": "stdout",
     "output_type": "stream",
     "text": [
      "0.567761784211\n",
      "[ 0.61390003  0.44149957  0.59913856  0.54687369  0.63739707]\n"
     ]
    }
   ],
   "source": [
    "rfr_features = [ 'X0', 'X314', 'X261']\n",
    "etr = ExtraTreesRegressor(n_estimators = 120, n_jobs=-1, max_features = 1, random_state = 531)\n",
    "\n",
    "cv_score = cross_val_score(etr, x_train1[rfr_features], y_train, cv=5, scoring='r2', n_jobs=1)\n",
    "print cv_score.mean()\n",
    "print cv_score"
   ]
  },
  {
   "cell_type": "markdown",
   "metadata": {},
   "source": [
    "# kNN Regressor"
   ]
  },
  {
   "cell_type": "code",
   "execution_count": 646,
   "metadata": {},
   "outputs": [
    {
     "name": "stdout",
     "output_type": "stream",
     "text": [
      "0.566963977581\n",
      "[ 0.6163305   0.43844335  0.59384514  0.54901666  0.63718423]\n",
      "CPU times: user 4.99 s, sys: 12 ms, total: 5 s\n",
      "Wall time: 2.09 s\n"
     ]
    }
   ],
   "source": [
    "%%time\n",
    "knn_features = [u'X104', u'X127', u'X136', u'X153', u'X155', u'X156', u'X159', u'X161',\n",
    "       u'X165', u'X169', u'X17', u'X189', u'X200', u'X204', u'X228', u'X230',\n",
    "       u'X238', u'X253', u'X26', u'X267', u'X274', u'X276', u'X277', u'X278',\n",
    "       u'X288', u'X302', u'X306', u'X307', u'X309', u'X311', u'X32', u'X320',\n",
    "       u'X339', u'X357', u'X359', u'X384', u'X45', u'X47', u'X70', u'X79']\n",
    "\n",
    "#knn_features = [u'X115', u'X118', u'X126', u'X127', u'X148', u'X153', u'X160', u'X169',\n",
    "#       u'X17', u'X176', u'X181', u'X184', u'X200', u'X204', u'X232', u'X234',\n",
    "#       u'X235', u'X238', u'X253', u'X26', u'X267', u'X270', u'X282', u'X290',\n",
    "#       u'X291', u'X30', u'X302', u'X306', u'X307', u'X309', u'X311', u'X314',\n",
    "#       u'X316', u'X32', u'X320', u'X335', u'X359', u'X384', u'X47', u'X54',\n",
    "#       u'X74', u'X79']\n",
    "\n",
    "knr = KNeighborsRegressor(n_neighbors = 100, weights = 'uniform', metric='minkowski', p = 2, n_jobs = -1 , \n",
    "                          algorithm='auto')\n",
    "\n",
    "cv_score = cross_val_score(knr, x_train[knn_features] , y_train, scoring = 'r2', cv=5, )\n",
    "print cv_score.mean()\n",
    "print cv_score"
   ]
  },
  {
   "cell_type": "markdown",
   "metadata": {},
   "source": [
    "# LinearRegression"
   ]
  },
  {
   "cell_type": "code",
   "execution_count": 647,
   "metadata": {
    "scrolled": true
   },
   "outputs": [
    {
     "name": "stdout",
     "output_type": "stream",
     "text": [
      "0.564778814395\n",
      "[ 0.60381919  0.4381464   0.59695338  0.55090839  0.63406672]\n",
      "CPU times: user 432 ms, sys: 332 ms, total: 764 ms\n",
      "Wall time: 9.4 s\n"
     ]
    }
   ],
   "source": [
    "%%time\n",
    "lin = LinModel.Lasso(alpha=0.003, fit_intercept=True, normalize=True)\n",
    "\n",
    "cv_score = cross_val_score(lin, x_train2, y_train, scoring='r2', cv = 5, n_jobs = -1)\n",
    "\n",
    "print cv_score.mean()\n",
    "print cv_score"
   ]
  },
  {
   "cell_type": "markdown",
   "metadata": {},
   "source": [
    "# SVR"
   ]
  },
  {
   "cell_type": "code",
   "execution_count": 648,
   "metadata": {},
   "outputs": [
    {
     "name": "stdout",
     "output_type": "stream",
     "text": [
      "0.564745072325\n",
      "[ 0.60008925  0.4361654   0.60218491  0.53936972  0.64591608]\n",
      "CPU times: user 432 ms, sys: 320 ms, total: 752 ms\n",
      "Wall time: 25.4 s\n"
     ]
    }
   ],
   "source": [
    "%%time\n",
    "svr = SVR(kernel='linear', C = 0.5, epsilon=5.)\n",
    "\n",
    "cv_score = cross_val_score(svr, x_train2, y_train, scoring='r2', cv = 5, n_jobs=-1)\n",
    "\n",
    "print cv_score.mean()\n",
    "print cv_score"
   ]
  },
  {
   "cell_type": "markdown",
   "metadata": {},
   "source": [
    "# OOF + CV"
   ]
  },
  {
   "cell_type": "code",
   "execution_count": 649,
   "metadata": {
    "collapsed": true
   },
   "outputs": [],
   "source": [
    "def OOF(estimator, x_train, y_train, k_folds = 5):\n",
    "    if type(x_train) is pd.DataFrame:\n",
    "        x_train = x_train.values\n",
    "    scores = np.array([])\n",
    "    y_pred_cv_all = np.zeros(len(x_train))\n",
    "    kf_split = KFold(k_folds, shuffle=False)\n",
    "    for train_idx , test_idx in kf_split.split(x_train):   \n",
    "        estimator.fit(x_train[train_idx], y_train[train_idx])\n",
    "        y_pred_cv     = estimator.predict(x_train[test_idx])\n",
    "        y_pred_cv_all[test_idx] = y_pred_cv\n",
    "        score = r2_score(y_train[test_idx], y_pred_cv)\n",
    "        scores = np.append(scores, score)   \n",
    "    return scores, y_pred_cv_all"
   ]
  },
  {
   "cell_type": "code",
   "execution_count": 651,
   "metadata": {},
   "outputs": [
    {
     "name": "stdout",
     "output_type": "stream",
     "text": [
      "xgb  :  [ 0.62007741  0.45005555  0.59858574  0.54409367  0.6296414 ] mean :  0.568490753526\n",
      "lgb  :  [ 0.61670274  0.44622405  0.59957847  0.54400035  0.63673699] mean :  0.568648518644\n",
      "knr  :  [ 0.6163305   0.43844335  0.59384514  0.54901666  0.63718423] mean :  0.566963977581\n",
      "lin  :  [ 0.60381919  0.4381464   0.59695338  0.55090839  0.63406672] mean :  0.564778814395\n",
      "svr  :  [ 0.60008925  0.4361654   0.60218491  0.53936972  0.64591608] mean :  0.564745072325\n",
      "rfr  :  [ 0.61480905  0.44141653  0.59285028  0.54726403  0.63697688] mean :  0.56666335284\n",
      "etr  :  [ 0.61390003  0.44149957  0.59913856  0.54687369  0.63739707] mean :  0.567761784211\n"
     ]
    }
   ],
   "source": [
    "estimators  = [xgbst, lgbm, knr, lin, svr, rfr, etr]\n",
    "estim_names = ['xgb', 'lgb', 'knr', 'lin', 'svr', 'rfr', 'etr']\n",
    "x_trains    = [x_train1, x_train1,\n",
    "               x_train1[knn_features],\n",
    "               x_train2, x_train2, \n",
    "               x_train1[rfr_features], x_train1[rfr_features]]\n",
    "\n",
    "n_est = len(estimators)\n",
    "\n",
    "x_meta = np.empty(shape = (len(y_train), len(estimators)))\n",
    "\n",
    "k_folds = 5\n",
    "\n",
    "for i, (estimator, name, x_train_) in enumerate(zip(estimators, estim_names, x_trains)):\n",
    "    scores_, x_meta_ = OOF(estimator, x_train_, y_train, k_folds)\n",
    "    x_meta[:,i] = x_meta_\n",
    "    print name, ' : ' , scores_, 'mean : '  , scores_.mean()"
   ]
  },
  {
   "cell_type": "markdown",
   "metadata": {},
   "source": [
    "# Experiments"
   ]
  },
  {
   "cell_type": "code",
   "execution_count": 617,
   "metadata": {},
   "outputs": [
    {
     "name": "stdout",
     "output_type": "stream",
     "text": [
      "      fun: -0.56395408239851608\n",
      " hess_inv: <7x7 LbfgsInvHessProduct with dtype=float64>\n",
      "      jac: array([ 0.01895786,  0.01568228,  0.0144148 ,  0.01827056,  0.01430376,\n",
      "        0.01405815,  0.01505275])\n",
      "  message: 'CONVERGENCE: REL_REDUCTION_OF_F_<=_FACTR*EPSMCH'\n",
      "     nfev: 112\n",
      "      nit: 4\n",
      "   status: 0\n",
      "  success: True\n",
      "        x: array([ 0.12151578,  0.14250725,  0.15235083,  0.125934  ,  0.15201438,\n",
      "        0.15626892,  0.14966792])\n",
      "1.0\n",
      "-0.563671696145\n"
     ]
    }
   ],
   "source": [
    "def error(w):\n",
    "    y = (w*x_meta).sum(1)\n",
    "    return -r2_score(y_train, y)\n",
    "print minimize(error, x0 = [0.2, 0.2, 0.2, 0.2, 0.2, 0.2, 0.2], bounds = [(0,1) for i in xrange(n_est)])\n",
    "w = [ 0.15,  0.15,  0.15,  0.15  ,  0.16, 0.12,  0.12]\n",
    "print sum(w)\n",
    "print error(w)"
   ]
  },
  {
   "cell_type": "code",
   "execution_count": 144,
   "metadata": {
    "collapsed": true
   },
   "outputs": [],
   "source": [
    "stacker1 = lgb.LGBMRegressor(num_leaves = 4, max_depth=3, learning_rate=0.01, n_estimators = 450,\n",
    "                             reg_alpha=0.2, reg_lambda=0.2, subsample_freq = 10)\n",
    "score1, y_1 = OOF(stacker1, x_meta, y_train, 5)\n",
    "print score1\n",
    "print score1.mean()\n",
    "print r2_score(y_train, y_1)"
   ]
  },
  {
   "cell_type": "code",
   "execution_count": 562,
   "metadata": {},
   "outputs": [
    {
     "name": "stdout",
     "output_type": "stream",
     "text": [
      "0.574275756197\n",
      "0.57174113548\n"
     ]
    }
   ],
   "source": [
    "inds = np.random.permutation(len(y_train))\n",
    "\n",
    "print r2_score(y_train[inds[:3300]], (w*x_meta).sum(1)[inds[:3300]])\n",
    "print r2_score(y_train[inds[:3300]], x_meta[inds[:3300],0])"
   ]
  },
  {
   "cell_type": "code",
   "execution_count": 529,
   "metadata": {},
   "outputs": [
    {
     "data": {
      "image/png": "[encoded data removed]",
      "text/plain": [
       "<matplotlib.figure.Figure at 0x7f6101bf8c90>"
      ]
     },
     "metadata": {},
     "output_type": "display_data"
    }
   ],
   "source": [
    "plt.figure(figsize=(12,12))\n",
    "for label in xrange(5):\n",
    "    #print (x_train['label'] == label).sum()\n",
    "    plt.scatter(x_meta[:,6][x_train['label'] == label], y_train[x_train['label'] == label], s = 3)\n",
    "plt.plot(np.arange(60,185,5), np.arange(60,185,5))\n",
    "plt.xlim(60,180)\n",
    "plt.ylim(60,180)\n",
    "plt.show()"
   ]
  },
  {
   "cell_type": "code",
   "execution_count": null,
   "metadata": {},
   "outputs": [],
   "source": []
  },
  {
   "cell_type": "code",
   "execution_count": null,
   "metadata": {},
   "outputs": [],
   "source": []
  },
  {
   "cell_type": "code",
   "execution_count": 530,
   "metadata": {},
   "outputs": [
    {
     "data": {
      "text/plain": [
       "array([], shape=(0, 7), dtype=float64)"
      ]
     },
     "execution_count": 530,
     "metadata": {},
     "output_type": "execute_result"
    }
   ],
   "source": [
    "y_preds[x_test1['label'].isnull(), :]"
   ]
  },
  {
   "cell_type": "markdown",
   "metadata": {},
   "source": [
    "# Train xgb, lgb, knr, lin, svr, rfr, etr"
   ]
  },
  {
   "cell_type": "code",
   "execution_count": 618,
   "metadata": {},
   "outputs": [
    {
     "name": "stdout",
     "output_type": "stream",
     "text": [
      "xgb  :  ok\n",
      "lgb  :  ok\n",
      "knr  :  ok\n",
      "lin  :  ok\n",
      "svr  :  ok\n",
      "rfr  :  ok\n",
      "etr  :  ok\n"
     ]
    }
   ],
   "source": [
    "estimators  = [xgbst, lgbm, knr, lin, svr, rfr, etr]\n",
    "estim_names = ['xgb', 'lgb', 'knr', 'lin', 'svr', 'rfr', 'etr']\n",
    "x_trains    = [x_train1, x_train1,\n",
    "               x_train1[knn_features],\n",
    "               x_train2, x_train2, \n",
    "               x_train1[rfr_features], x_train1[rfr_features]]\n",
    "\n",
    "x_tests     = [x_test1, x_test1,\n",
    "               x_test1[knn_features],\n",
    "               x_test2, x_test2, \n",
    "               x_test1[rfr_features], x_test1[rfr_features]]\n",
    "\n",
    "\n",
    "y_preds = np.empty(shape = (len(y_train), len(estimators)))\n",
    "\n",
    "for i, (estimator, name, x_train_, x_test_) in enumerate(zip(estimators, estim_names, x_trains, x_tests)):\n",
    "    estimator.fit(x_train_, y_train)\n",
    "    y_preds[:,i] = estimator.predict(x_test_)\n",
    "    print name, ' : ' , 'ok'"
   ]
  },
  {
   "cell_type": "code",
   "execution_count": 619,
   "metadata": {},
   "outputs": [
    {
     "data": {
      "text/plain": [
       "array([  81.19736246,   96.68403633,   81.36437356, ...,   92.97117078,\n",
       "        111.68708324,   93.3800913 ])"
      ]
     },
     "execution_count": 619,
     "metadata": {},
     "output_type": "execute_result"
    }
   ],
   "source": [
    "w = [ 0.12151578,  0.14250725,  0.15235083,  0.125934  ,  0.15201438,\n",
    "        0.15626892,  0.14966792]\n",
    "\n",
    "y_res = (w*y_preds).sum(1)\n",
    "y_res"
   ]
  },
  {
   "cell_type": "markdown",
   "metadata": {},
   "source": [
    "# Summm"
   ]
  },
  {
   "cell_type": "code",
   "execution_count": null,
   "metadata": {},
   "outputs": [],
   "source": []
  },
  {
   "cell_type": "markdown",
   "metadata": {},
   "source": [
    "# Write result"
   ]
  },
  {
   "cell_type": "code",
   "execution_count": 620,
   "metadata": {},
   "outputs": [
    {
     "data": {
      "text/html": [
       "<div>\n",
       "<style>\n",
       "    .dataframe thead tr:only-child th {\n",
       "        text-align: right;\n",
       "    }\n",
       "\n",
       "    .dataframe thead th {\n",
       "        text-align: left;\n",
       "    }\n",
       "\n",
       "    .dataframe tbody tr th {\n",
       "        vertical-align: top;\n",
       "    }\n",
       "</style>\n",
       "<table border=\"1\" class=\"dataframe\">\n",
       "  <thead>\n",
       "    <tr style=\"text-align: right;\">\n",
       "      <th></th>\n",
       "      <th>ID</th>\n",
       "      <th>y</th>\n",
       "    </tr>\n",
       "  </thead>\n",
       "  <tbody>\n",
       "    <tr>\n",
       "      <th>0</th>\n",
       "      <td>1</td>\n",
       "      <td>81.197362</td>\n",
       "    </tr>\n",
       "    <tr>\n",
       "      <th>1</th>\n",
       "      <td>2</td>\n",
       "      <td>96.684036</td>\n",
       "    </tr>\n",
       "    <tr>\n",
       "      <th>2</th>\n",
       "      <td>3</td>\n",
       "      <td>81.364374</td>\n",
       "    </tr>\n",
       "    <tr>\n",
       "      <th>3</th>\n",
       "      <td>4</td>\n",
       "      <td>78.312173</td>\n",
       "    </tr>\n",
       "    <tr>\n",
       "      <th>4</th>\n",
       "      <td>5</td>\n",
       "      <td>111.928449</td>\n",
       "    </tr>\n",
       "    <tr>\n",
       "      <th>5</th>\n",
       "      <td>8</td>\n",
       "      <td>93.125124</td>\n",
       "    </tr>\n",
       "    <tr>\n",
       "      <th>6</th>\n",
       "      <td>10</td>\n",
       "      <td>111.626858</td>\n",
       "    </tr>\n",
       "    <tr>\n",
       "      <th>7</th>\n",
       "      <td>11</td>\n",
       "      <td>94.230666</td>\n",
       "    </tr>\n",
       "    <tr>\n",
       "      <th>8</th>\n",
       "      <td>12</td>\n",
       "      <td>116.120845</td>\n",
       "    </tr>\n",
       "  </tbody>\n",
       "</table>\n",
       "</div>"
      ],
      "text/plain": [
       "   ID           y\n",
       "0   1   81.197362\n",
       "1   2   96.684036\n",
       "2   3   81.364374\n",
       "3   4   78.312173\n",
       "4   5  111.928449\n",
       "5   8   93.125124\n",
       "6  10  111.626858\n",
       "7  11   94.230666\n",
       "8  12  116.120845"
      ]
     },
     "execution_count": 620,
     "metadata": {},
     "output_type": "execute_result"
    }
   ],
   "source": [
    "output = pd.DataFrame({'ID' : test_id, 'y' : y_res}, index=None)\n",
    "output.to_csv('result_sub.csv', index=None)\n",
    "output.head(9)"
   ]
  }
 ],
 "metadata": {
  "kernelspec": {
   "display_name": "Python 2",
   "language": "python",
   "name": "python2"
  },
  "language_info": {
   "codemirror_mode": {
    "name": "ipython",
    "version": 2
   },
   "file_extension": ".py",
   "mimetype": "text/x-python",
   "name": "python",
   "nbconvert_exporter": "python",
   "pygments_lexer": "ipython2",
   "version": "2.7.13"
  }
 },
 "nbformat": 4,
 "nbformat_minor": 2
}
