{
 "cells": [
  {
   "cell_type": "code",
   "execution_count": 39,
   "metadata": {},
   "outputs": [],
   "source": [
    "import pandas as pd\n",
    "import numpy as np\n",
    "from tqdm import tqdm_notebook\n",
    "from scipy.optimize import minimize\n",
    "from sklearn.metrics import log_loss\n",
    "import matplotlib.pylab as plt\n",
    "\n",
    "from keras.models import Sequential\n",
    "from keras.layers import Dense, Dropout\n",
    "from keras import optimizers\n",
    "\n",
    "plt.style.use('ggplot')"
   ]
  },
  {
   "cell_type": "code",
   "execution_count": 43,
   "metadata": {},
   "outputs": [],
   "source": [
    "train = pd.read_csv('train.csv', delimiter=';')\n",
    "test  = pd.read_csv('test.csv', delimiter=';')\n",
    "\n",
    "test.replace({'None' : 999}, inplace=True)\n",
    "test[['smoke', 'alco', 'active']] = test[['smoke', 'alco', 'active']].astype(int)\n",
    "\n",
    "test.replace({999 : np.nan}, inplace=True)\n",
    "test[['gluc', 'cholesterol']] = test[['gluc', 'cholesterol']].astype(int)\n",
    "\n",
    "N_train = train.shape[0]\n",
    "\n",
    "data = pd.concat([train, test], 0).reset_index(drop=True)"
   ]
  },
  {
   "cell_type": "code",
   "execution_count": 44,
   "metadata": {
    "collapsed": true
   },
   "outputs": [],
   "source": [
    "cat_feat = ['alco', 'smoke', 'active', 'gluc', 'cholesterol', 'gender']\n",
    "for col in cat_feat:\n",
    "    dummy = pd.get_dummies(data[col], prefix = col)\n",
    "    data = pd.concat([data, dummy], 1)\n",
    "data.drop(cat_feat, 1, inplace=True)"
   ]
  },
  {
   "cell_type": "code",
   "execution_count": null,
   "metadata": {},
   "outputs": [],
   "source": []
  },
  {
   "cell_type": "code",
   "execution_count": 45,
   "metadata": {
    "collapsed": true
   },
   "outputs": [],
   "source": [
    "feat = data.drop('cardio', 1).columns\n",
    "for col in feat:\n",
    "    data[feat] = (data[feat] - data[feat].mean())/data[feat].std()"
   ]
  },
  {
   "cell_type": "code",
   "execution_count": 46,
   "metadata": {
    "collapsed": true
   },
   "outputs": [],
   "source": [
    "##### for submit\n",
    "x_train = data[:N_train].drop(['id', 'cardio'], 1).values\n",
    "y_train = data[:N_train]['cardio'].values\n",
    "\n",
    "x_test = data[N_train:].drop(['id', 'cardio'], 1).values\n",
    "##### for cv\n",
    "x_train = data.loc[:int(0.8*N_train)].drop(['id', 'cardio'], 1).values\n",
    "y_train = data.loc[:int(0.8*N_train)]['cardio'].values\n",
    "\n",
    "x_test = data.loc[int(0.8*N_train):N_train-1].drop(['id', 'cardio'], 1).values\n",
    "y_test = data.loc[int(0.8*N_train):N_train-1]['cardio'].values"
   ]
  },
  {
   "cell_type": "code",
   "execution_count": null,
   "metadata": {},
   "outputs": [],
   "source": []
  },
  {
   "cell_type": "code",
   "execution_count": 48,
   "metadata": {},
   "outputs": [
    {
     "name": "stdout",
     "output_type": "stream",
     "text": [
      "11488/14000 [=======================>......] - ETA: 0s\n",
      "0.55033045933\n"
     ]
    }
   ],
   "source": [
    "model = Sequential()\n",
    "opt = optimizers.adam(lr = 0.05)\n",
    "model.add(Dense(32, activation='relu', input_dim=x_train.shape[1]))\n",
    "model.add(Dense(32, activation='relu'))\n",
    "model.add(Dense(32, activation='relu'))\n",
    "model.add(Dense(32, activation='relu'))\n",
    "model.add(Dense(1, activation='sigmoid'))\n",
    "model.compile(optimizer = opt,\n",
    "              loss = 'binary_crossentropy',\n",
    "              metrics = ['binary_crossentropy'])\n",
    "\n",
    "model.fit(x_train, y_train, batch_size=1024, epochs = 20, verbose=0)\n",
    "y1 = model.predict_proba(x_test)\n",
    "print \n",
    "print log_loss(y_test, y1)\n",
    "del model"
   ]
  },
  {
   "cell_type": "code",
   "execution_count": 49,
   "metadata": {},
   "outputs": [
    {
     "name": "stdout",
     "output_type": "stream",
     "text": [
      "12512/14000 [=========================>....] - ETA: 0s\n",
      "0.550536226197\n"
     ]
    }
   ],
   "source": [
    "model = Sequential()\n",
    "opt = optimizers.adam(lr = 0.05)\n",
    "model.add(Dense(32, activation='sigmoid', input_dim=x_train.shape[1]))\n",
    "model.add(Dense(32, activation='sigmoid'))\n",
    "model.add(Dense(32, activation='sigmoid'))\n",
    "model.add(Dense(32, activation='sigmoid'))\n",
    "model.add(Dense(1, activation='sigmoid'))\n",
    "model.compile(optimizer = opt,\n",
    "              loss = 'binary_crossentropy',\n",
    "              metrics = ['binary_crossentropy'])\n",
    "\n",
    "model.fit(x_train, y_train, batch_size = 1024, epochs = 10, verbose=0)\n",
    "y2 = model.predict_proba(x_test)\n",
    "print \n",
    "print log_loss(y_test, y2)\n",
    "del model"
   ]
  },
  {
   "cell_type": "code",
   "execution_count": 50,
   "metadata": {},
   "outputs": [
    {
     "name": "stdout",
     "output_type": "stream",
     "text": [
      "10240/14000 [====================>.........] - ETA: 0s\n",
      "0.551655084857\n"
     ]
    }
   ],
   "source": [
    "model = Sequential()\n",
    "opt = optimizers.adam(lr = 0.01)\n",
    "model.add(Dense(64, activation='relu', input_dim=x_train.shape[1]))\n",
    "model.add(Dense(32, activation='relu'))\n",
    "model.add(Dense(16, activation='relu'))\n",
    "model.add(Dense(8, activation='relu'))\n",
    "model.add(Dense(1, activation='sigmoid'))\n",
    "model.compile(optimizer = opt,\n",
    "              loss = 'binary_crossentropy',\n",
    "              metrics = ['binary_crossentropy'])\n",
    "\n",
    "model.fit(x_train, y_train, batch_size=1024, epochs = 20, verbose=0)\n",
    "y3 = model.predict_proba(x_test)\n",
    "print \n",
    "print log_loss(y_test, y3)\n",
    "del model"
   ]
  },
  {
   "cell_type": "code",
   "execution_count": 51,
   "metadata": {},
   "outputs": [
    {
     "name": "stdout",
     "output_type": "stream",
     "text": [
      "12256/14000 [=========================>....] - ETA: 0s\n",
      "0.549145329597\n"
     ]
    }
   ],
   "source": [
    "model = Sequential()\n",
    "opt = optimizers.adam(lr = 0.01)\n",
    "model.add(Dense(64, activation='sigmoid', input_dim=x_train.shape[1]))\n",
    "model.add(Dense(32, activation='sigmoid'))\n",
    "model.add(Dense(16, activation='sigmoid'))\n",
    "model.add(Dense(8, activation='sigmoid'))\n",
    "model.add(Dense(1, activation='sigmoid'))\n",
    "model.compile(optimizer = opt,\n",
    "              loss = 'binary_crossentropy',\n",
    "              metrics = ['binary_crossentropy'])\n",
    "\n",
    "model.fit(x_train, y_train, batch_size=1024, epochs = 20, verbose=0)\n",
    "y4 = model.predict_proba(x_test)\n",
    "print \n",
    "print log_loss(y_test, y4)\n",
    "del model"
   ]
  },
  {
   "cell_type": "code",
   "execution_count": 52,
   "metadata": {},
   "outputs": [
    {
     "name": "stdout",
     "output_type": "stream",
     "text": [
      " 8288/14000 [================>.............] - ETA: 0s\n",
      "0.548997860692\n"
     ]
    }
   ],
   "source": [
    "model = Sequential()\n",
    "opt = optimizers.adam(lr = 0.01)\n",
    "model.add(Dense(12, activation='relu', input_dim=x_train.shape[1]))\n",
    "model.add(Dense(32, activation='relu'))\n",
    "model.add(Dense(12, activation='relu'))\n",
    "model.add(Dense(6, activation='relu'))\n",
    "model.add(Dense(1, activation='sigmoid'))\n",
    "model.compile(optimizer = opt,\n",
    "              loss = 'binary_crossentropy',\n",
    "              metrics = ['binary_crossentropy'])\n",
    "\n",
    "model.fit(x_train, y_train, batch_size=1024, epochs = 20, verbose=0)\n",
    "y5 = model.predict_proba(x_test)\n",
    "print \n",
    "print log_loss(y_test, y5)\n",
    "del model"
   ]
  },
  {
   "cell_type": "code",
   "execution_count": 53,
   "metadata": {},
   "outputs": [
    {
     "name": "stdout",
     "output_type": "stream",
     "text": [
      "12480/14000 [=========================>....] - ETA: 0s\n",
      "0.551745479349\n"
     ]
    }
   ],
   "source": [
    "model = Sequential()\n",
    "opt = optimizers.adam(lr = 0.03)\n",
    "model.add(Dense(12, activation='sigmoid', input_dim=x_train.shape[1]))\n",
    "model.add(Dense(32, activation='sigmoid'))\n",
    "model.add(Dense(12, activation='sigmoid'))\n",
    "model.add(Dense(6, activation='sigmoid'))\n",
    "model.add(Dense(1, activation='sigmoid'))\n",
    "model.compile(optimizer = opt,\n",
    "              loss = 'binary_crossentropy',\n",
    "              metrics = ['binary_crossentropy'])\n",
    "\n",
    "model.fit(x_train, y_train, batch_size=1024, epochs = 20, verbose=0)\n",
    "y6 = model.predict_proba(x_test)\n",
    "print \n",
    "print log_loss(y_test, y6)\n",
    "del model"
   ]
  },
  {
   "cell_type": "code",
   "execution_count": 54,
   "metadata": {},
   "outputs": [
    {
     "name": "stdout",
     "output_type": "stream",
     "text": [
      "13728/14000 [============================>.] - ETA: 0s\n",
      "0.553103063048\n"
     ]
    }
   ],
   "source": [
    "model = Sequential()\n",
    "opt = optimizers.adam(lr = 0.03)\n",
    "model.add(Dense(128, activation='sigmoid', input_dim=x_train.shape[1]))\n",
    "model.add(Dense(128, activation='sigmoid'))\n",
    "model.add(Dense(1, activation='sigmoid'))\n",
    "model.compile(optimizer = opt,\n",
    "              loss = 'binary_crossentropy',\n",
    "              metrics = ['binary_crossentropy'])\n",
    "\n",
    "model.fit(x_train, y_train, batch_size=1024, epochs = 20, verbose=0)\n",
    "y7 = model.predict_proba(x_test)\n",
    "print \n",
    "print log_loss(y_test, y7)\n",
    "del model"
   ]
  },
  {
   "cell_type": "code",
   "execution_count": 55,
   "metadata": {},
   "outputs": [
    {
     "name": "stdout",
     "output_type": "stream",
     "text": [
      " 9856/14000 [====================>.........] - ETA: 0s\n",
      "0.550387466933\n"
     ]
    }
   ],
   "source": [
    "model = Sequential()\n",
    "opt = optimizers.adam(lr = 0.03)\n",
    "model.add(Dense(128, activation='relu', input_dim=x_train.shape[1]))\n",
    "model.add(Dense(128, activation='relu'))\n",
    "model.add(Dense(1, activation='sigmoid'))\n",
    "model.compile(optimizer = opt,\n",
    "              loss = 'binary_crossentropy',\n",
    "              metrics = ['binary_crossentropy'])\n",
    "\n",
    "model.fit(x_train, y_train, batch_size=1024, epochs = 20, verbose=0)\n",
    "y8 = model.predict_proba(x_test)\n",
    "print \n",
    "print log_loss(y_test, y8)\n",
    "del model"
   ]
  },
  {
   "cell_type": "code",
   "execution_count": 56,
   "metadata": {},
   "outputs": [
    {
     "name": "stdout",
     "output_type": "stream",
     "text": [
      "13792/14000 [============================>.] - ETA: 0s\n",
      "0.549253208594\n"
     ]
    }
   ],
   "source": [
    "model = Sequential()\n",
    "opt = optimizers.adam(lr = 0.03)\n",
    "model.add(Dense(128, activation='sigmoid', input_dim=x_train.shape[1]))\n",
    "model.add(Dense(32, activation='sigmoid'))\n",
    "model.add(Dense(4, activation='sigmoid'))\n",
    "model.add(Dense(1, activation='sigmoid'))\n",
    "model.compile(optimizer = opt,\n",
    "              loss = 'binary_crossentropy',\n",
    "              metrics = ['binary_crossentropy'])\n",
    "\n",
    "model.fit(x_train, y_train, batch_size=1024, epochs = 20, verbose=0)\n",
    "y9 = model.predict_proba(x_test)\n",
    "print \n",
    "print log_loss(y_test, y9)\n",
    "del model"
   ]
  },
  {
   "cell_type": "code",
   "execution_count": 57,
   "metadata": {},
   "outputs": [
    {
     "name": "stdout",
     "output_type": "stream",
     "text": [
      "12128/14000 [========================>.....] - ETA: 0s\n",
      "0.550358667218\n"
     ]
    }
   ],
   "source": [
    "model = Sequential()\n",
    "opt = optimizers.adam(lr = 0.03)\n",
    "model.add(Dense(64, activation='relu', input_dim=x_train.shape[1]))\n",
    "model.add(Dense(64, activation='relu'))\n",
    "model.add(Dense(1, activation='sigmoid'))\n",
    "model.compile(optimizer = opt,\n",
    "              loss = 'binary_crossentropy',\n",
    "              metrics = ['binary_crossentropy'])\n",
    "\n",
    "model.fit(x_train, y_train, batch_size=1024, epochs = 20, verbose=0)\n",
    "y10 = model.predict_proba(x_test)\n",
    "print \n",
    "print log_loss(y_test, y10)\n",
    "del model"
   ]
  },
  {
   "cell_type": "code",
   "execution_count": 58,
   "metadata": {},
   "outputs": [
    {
     "name": "stdout",
     "output_type": "stream",
     "text": [
      "12704/14000 [==========================>...] - ETA: 0s\n",
      "0.548657273827\n"
     ]
    }
   ],
   "source": [
    "model = Sequential()\n",
    "opt = optimizers.adam(lr = 0.03)\n",
    "model.add(Dense(64, activation='sigmoid', input_dim=x_train.shape[1]))\n",
    "model.add(Dense(64, activation='sigmoid'))\n",
    "model.add(Dense(1, activation='sigmoid'))\n",
    "model.compile(optimizer = opt,\n",
    "              loss = 'binary_crossentropy',\n",
    "              metrics = ['binary_crossentropy'])\n",
    "\n",
    "model.fit(x_train, y_train, batch_size=1024, epochs = 20, verbose=0)\n",
    "y11 = model.predict_proba(x_test)\n",
    "print \n",
    "print log_loss(y_test, y11)\n",
    "del model"
   ]
  },
  {
   "cell_type": "code",
   "execution_count": 59,
   "metadata": {
    "scrolled": false
   },
   "outputs": [
    {
     "name": "stdout",
     "output_type": "stream",
     "text": [
      "12896/14000 [==========================>...] - ETA: 0s\n",
      "0.549103642769\n"
     ]
    }
   ],
   "source": [
    "model = Sequential()\n",
    "opt = optimizers.adam(lr = 0.01)\n",
    "model.add(Dense(20, activation='relu', input_dim=x_train.shape[1]))\n",
    "model.add(Dense(40, activation='relu'))\n",
    "model.add(Dense(60, activation='relu'))\n",
    "model.add(Dropout(0.1))\n",
    "model.add(Dense(60, activation='relu'))\n",
    "model.add(Dense(40, activation='relu'))\n",
    "model.add(Dense(20, activation='relu'))\n",
    "model.add(Dense(1, activation='sigmoid'))\n",
    "model.compile(optimizer = opt,\n",
    "              loss = 'binary_crossentropy',\n",
    "              metrics = ['binary_crossentropy'])\n",
    "\n",
    "model.fit(x_train, y_train, batch_size = 1034, epochs = 20, verbose=0)\n",
    "y12 = model.predict_proba(x_test)\n",
    "print \n",
    "print log_loss(y_test, y12)\n",
    "del model"
   ]
  },
  {
   "cell_type": "code",
   "execution_count": null,
   "metadata": {},
   "outputs": [],
   "source": []
  },
  {
   "cell_type": "code",
   "execution_count": 62,
   "metadata": {},
   "outputs": [
    {
     "data": {
      "text/plain": [
       "0.54613444609274819"
      ]
     },
     "execution_count": 62,
     "metadata": {},
     "output_type": "execute_result"
    }
   ],
   "source": [
    "# cv\n",
    "y_nn = ((y1 + y2 + y3 + y4 + y5 + y6 + y7 + y8 + y9 + y10 + y11 + y12)/12).T[0]\n",
    "log_loss(y_test, y_nn)"
   ]
  },
  {
   "cell_type": "code",
   "execution_count": 61,
   "metadata": {},
   "outputs": [],
   "source": []
  },
  {
   "cell_type": "code",
   "execution_count": null,
   "metadata": {
    "collapsed": true
   },
   "outputs": [],
   "source": []
  },
  {
   "cell_type": "code",
   "execution_count": null,
   "metadata": {
    "collapsed": true
   },
   "outputs": [],
   "source": []
  },
  {
   "cell_type": "code",
   "execution_count": null,
   "metadata": {
    "collapsed": true
   },
   "outputs": [],
   "source": []
  },
  {
   "cell_type": "code",
   "execution_count": null,
   "metadata": {
    "collapsed": true
   },
   "outputs": [],
   "source": []
  }
 ],
 "metadata": {
  "kernelspec": {
   "display_name": "Python 2",
   "language": "python",
   "name": "python2"
  },
  "language_info": {
   "codemirror_mode": {
    "name": "ipython",
    "version": 2
   },
   "file_extension": ".py",
   "mimetype": "text/x-python",
   "name": "python",
   "nbconvert_exporter": "python",
   "pygments_lexer": "ipython2",
   "version": "2.7.13"
  }
 },
 "nbformat": 4,
 "nbformat_minor": 2
}
