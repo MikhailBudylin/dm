{
 "cells": [
  {
   "cell_type": "code",
   "execution_count": 56,
   "metadata": {},
   "outputs": [],
   "source": [
    "import pandas as pd\n",
    "import numpy as np\n",
    "import lightgbm as lgb\n",
    "import xgboost as xgb\n",
    "from sklearn.model_selection import KFold, cross_val_score as cv_scoring\n",
    "from sklearn.metrics import log_loss\n",
    "from tqdm import tqdm_notebook\n",
    "import matplotlib.pylab as plt\n",
    "import copy\n",
    "from catboost import CatBoostClassifier, CatBoost\n",
    "\n",
    "from keras.models import Sequential\n",
    "from keras.layers import Dense, Dropout\n",
    "from keras import optimizers\n",
    "from keras.wrappers.scikit_learn import KerasClassifier \n",
    "\n",
    "plt.style.use('ggplot')"
   ]
  },
  {
   "cell_type": "code",
   "execution_count": null,
   "metadata": {
    "collapsed": true
   },
   "outputs": [],
   "source": []
  },
  {
   "cell_type": "code",
   "execution_count": null,
   "metadata": {
    "collapsed": true
   },
   "outputs": [],
   "source": []
  },
  {
   "cell_type": "code",
   "execution_count": null,
   "metadata": {
    "collapsed": true
   },
   "outputs": [],
   "source": []
  },
  {
   "cell_type": "code",
   "execution_count": 57,
   "metadata": {
    "collapsed": true
   },
   "outputs": [],
   "source": [
    "train = pd.read_csv('train.csv', delimiter=';', na_values='None')\n",
    "test  = pd.read_csv('test.csv', delimiter=';', na_values='None')\n",
    "\n",
    "N_train = train.shape[0]\n",
    "data = pd.concat([train, test], 0).reset_index(drop=True)"
   ]
  },
  {
   "cell_type": "code",
   "execution_count": null,
   "metadata": {
    "collapsed": true
   },
   "outputs": [],
   "source": []
  },
  {
   "cell_type": "code",
   "execution_count": null,
   "metadata": {
    "collapsed": true
   },
   "outputs": [],
   "source": []
  },
  {
   "cell_type": "code",
   "execution_count": null,
   "metadata": {
    "collapsed": true
   },
   "outputs": [],
   "source": []
  },
  {
   "cell_type": "code",
   "execution_count": 58,
   "metadata": {
    "collapsed": true
   },
   "outputs": [],
   "source": [
    "data = np.abs(data)\n",
    "\n",
    "while np.any(data['ap_hi'] > 800):\n",
    "    data.loc[data['ap_hi'] > 800, 'ap_hi'] /= 10\n",
    "\n",
    "for i in xrange(3):\n",
    "    data.loc[data['ap_hi'] < 22, 'ap_hi'] *= 10\n",
    "\n",
    "while np.any(data['ap_lo'] > 600):\n",
    "    data.loc[data['ap_lo'] > 600, 'ap_lo'] /= 10\n",
    "\n",
    "for i in xrange(3):\n",
    "    data.loc[data['ap_lo'] < 11, 'ap_lo'] *= 10\n",
    "    \n",
    "data['bmi'] = data['weight'] / (data['height'] / 100) ** 2"
   ]
  },
  {
   "cell_type": "code",
   "execution_count": null,
   "metadata": {
    "collapsed": true
   },
   "outputs": [],
   "source": []
  },
  {
   "cell_type": "code",
   "execution_count": null,
   "metadata": {
    "collapsed": true
   },
   "outputs": [],
   "source": []
  },
  {
   "cell_type": "code",
   "execution_count": null,
   "metadata": {
    "collapsed": true
   },
   "outputs": [],
   "source": []
  },
  {
   "cell_type": "code",
   "execution_count": 59,
   "metadata": {
    "collapsed": true
   },
   "outputs": [],
   "source": [
    "x_train = data[:N_train].drop(['id', 'cardio'], 1)\n",
    "y_train = data[:N_train]['cardio']\n",
    "\n",
    "x_test = data[N_train:].drop(['id', 'cardio'], 1)"
   ]
  },
  {
   "cell_type": "code",
   "execution_count": null,
   "metadata": {
    "collapsed": true
   },
   "outputs": [],
   "source": []
  },
  {
   "cell_type": "code",
   "execution_count": null,
   "metadata": {
    "collapsed": true
   },
   "outputs": [],
   "source": []
  },
  {
   "cell_type": "code",
   "execution_count": null,
   "metadata": {
    "collapsed": true
   },
   "outputs": [],
   "source": []
  },
  {
   "cell_type": "code",
   "execution_count": 60,
   "metadata": {
    "collapsed": true
   },
   "outputs": [],
   "source": [
    "data_nn = copy.deepcopy(data)\n",
    "features = data_nn.columns.drop('cardio')\n",
    "\n",
    "data_nn[features] = (data_nn[features] - data_nn[features].mean()) / data_nn[features].std()\n",
    "data_nn = data_nn.fillna(data_nn.mean())"
   ]
  },
  {
   "cell_type": "code",
   "execution_count": 61,
   "metadata": {
    "collapsed": true
   },
   "outputs": [],
   "source": [
    "x_train_nn = data_nn[:N_train].drop(['id', 'cardio'], 1).values\n",
    "y_train_nn = data_nn[:N_train]['cardio'].values\n",
    "\n",
    "x_test_nn = data_nn[N_train:].drop(['id', 'cardio'], 1).values\n",
    "\n",
    "#x_train_nn = data_nn.loc[:int(0.8*N_train)-1].drop(['id', 'cardio'], 1).values\n",
    "#y_train_nn = data_nn.loc[:int(0.8*N_train)-1]['cardio'].values\n",
    "\n",
    "#x_test_nn = data_nn.loc[int(0.8*N_train):N_train-1].drop(['id', 'cardio'], 1).values\n",
    "\n",
    "\n",
    "#y_test_nn = data_nn.loc[int(0.8*N_train):N_train-1]['cardio'].values"
   ]
  },
  {
   "cell_type": "code",
   "execution_count": null,
   "metadata": {
    "collapsed": true
   },
   "outputs": [],
   "source": []
  },
  {
   "cell_type": "code",
   "execution_count": null,
   "metadata": {
    "collapsed": true
   },
   "outputs": [],
   "source": []
  },
  {
   "cell_type": "code",
   "execution_count": 73,
   "metadata": {},
   "outputs": [
    {
     "data": {
      "text/plain": [
       "array([0])"
      ]
     },
     "execution_count": 73,
     "metadata": {},
     "output_type": "execute_result"
    }
   ],
   "source": [
    "np.random.randint(0,1,1)"
   ]
  },
  {
   "cell_type": "code",
   "execution_count": 78,
   "metadata": {},
   "outputs": [
    {
     "data": {
      "application/vnd.jupyter.widget-view+json": {
       "model_id": "5b388adbb9a24616bd01bcca86ba9f4b"
      }
     },
     "metadata": {},
     "output_type": "display_data"
    },
    {
     "name": "stdout",
     "output_type": "stream",
     "text": [
      "\n"
     ]
    }
   ],
   "source": [
    "y_pred_cb = np.zeros(len(x_test))\n",
    "\n",
    "n = 15\n",
    "\n",
    "for i in tqdm_notebook(xrange(n)):\n",
    "    model = CatBoostClassifier(iterations = 500 + np.random.randint(-50,50,1)[0], \n",
    "                               l2_leaf_reg = 3 + np.random.uniform(-1, 1, 1)[0],\n",
    "                               depth = 6 + np.random.randint(-1, 2, 1)[0],\n",
    "                               learning_rate=0.03 + np.random.uniform(-0.01, 0.01, 1)[0],\n",
    "                           )\n",
    "    \n",
    "    model.fit(x_train, y_train)\n",
    "    \n",
    "    y_pred_cb += model.predict_proba(x_test)[:,1]\n",
    "\n",
    "y_pred_cb /= n"
   ]
  },
  {
   "cell_type": "code",
   "execution_count": 79,
   "metadata": {},
   "outputs": [
    {
     "data": {
      "text/plain": [
       "array([ 0.50442863,  0.53199236,  0.40463755, ...,  0.43266525,\n",
       "        0.31372551,  0.6790423 ])"
      ]
     },
     "execution_count": 79,
     "metadata": {},
     "output_type": "execute_result"
    }
   ],
   "source": [
    "y_pred_cb"
   ]
  },
  {
   "cell_type": "code",
   "execution_count": null,
   "metadata": {
    "collapsed": true
   },
   "outputs": [],
   "source": []
  },
  {
   "cell_type": "code",
   "execution_count": null,
   "metadata": {
    "collapsed": true
   },
   "outputs": [],
   "source": []
  },
  {
   "cell_type": "code",
   "execution_count": 53,
   "metadata": {
    "collapsed": true
   },
   "outputs": [],
   "source": [
    "ltrain = lgb.Dataset(x_train, y_train)"
   ]
  },
  {
   "cell_type": "code",
   "execution_count": 54,
   "metadata": {
    "collapsed": true,
    "scrolled": false
   },
   "outputs": [],
   "source": [
    "def cv_score(params):\n",
    "    score = 0\n",
    "    for i in xrange(1):\n",
    "        \n",
    "        lgb_params = {\n",
    "                        'objective'        : 'binary',\n",
    "                        'metric'           : 'binary_logloss',\n",
    "                        'num_leaves'       : max(5,int(params['num_leaves'])),\n",
    "                        'max_depth'        : max(1, int(params['max_depth'])),\n",
    "                        'learning_rate'    : max(0.0001, params['learning_rate']),\n",
    "                        'feature_fraction' : max(0.5, min(1, params['feature_fraction'])),\n",
    "                        'bagging_fraction' : max(0.5, min(1, params['bagging_fraction'])),\n",
    "                        'bagging_freq'     : max(1, int(params['bagging_freq'])),\n",
    "                        'colsample_bytree' : max(0.5, min(1, params['colsample_bytree'])),\n",
    "                        'max_bin'          : max(100, int(params['max_bin'])),\n",
    "                        'reg_alpha'        : max(0, params['reg_alpha']),\n",
    "                        'reg_lambda'       : max(0, params['reg_lambda']),\n",
    "                        'seed'             : np.random.randint(0, 64101, 1)[0],\n",
    "                    }\n",
    "        \n",
    "        ltrain = lgb.Dataset(x_train, y_train)\n",
    "        \n",
    "        cv_result = lgb.cv(lgb_params, ltrain, num_boost_round = 1000, nfold = 5, \n",
    "                   early_stopping_rounds=20, verbose_eval = 0)\n",
    "        \n",
    "        score = score + min(cv_result['binary_logloss-mean']) \n",
    "        #print score\n",
    "        \n",
    "    return score / 1\n",
    "\n",
    "lgb_params = {\n",
    "                'objective'        : 'binary',\n",
    "                'metric'           : 'binary_logloss',\n",
    "                'num_leaves'       : 22,\n",
    "                'max_depth'        : 6,\n",
    "                'learning_rate'    : 0.02,\n",
    "                'feature_fraction' : 0.7,\n",
    "                'bagging_fraction' : 0.9,\n",
    "                'bagging_freq'     : 5,\n",
    "                'colsample_bytree' : 0.9,\n",
    "                'max_bin'          : 10,\n",
    "                'reg_alpha'        : 10,\n",
    "                'reg_lambda'       : 10,\n",
    "            }\n",
    "\n",
    "#cv_score(lgb_params)"
   ]
  },
  {
   "cell_type": "code",
   "execution_count": 59,
   "metadata": {
    "collapsed": true,
    "scrolled": false
   },
   "outputs": [],
   "source": [
    "def diff_evol(func, params_bounds, N_samples, N_epochs, p_mut, w):\n",
    "    \n",
    "    param_names = params_bounds.keys()\n",
    "    bounds      = params_bounds.values()\n",
    "    \n",
    "    scores = np.array([])\n",
    "    \n",
    "    n_coord = len(bounds)\n",
    "    \n",
    "    samples = np.array([np.random.uniform(x[0], x[1], size = N_samples) for x in bounds]).T\n",
    "    \n",
    "    for epoch in tqdm_notebook(range(N_epochs)):\n",
    "        for it in xrange(N_samples):\n",
    "            N_best = min(N_samples, len(samples))\n",
    "            i, j, k = np.random.randint(0, N_best, 3)\n",
    "            new_sample = np.copy(samples[it])\n",
    "            coord_to_mut = np.random.binomial(1, p_mut, n_coord).astype(bool)\n",
    "            if coord_to_mut.any():\n",
    "                new_sample[coord_to_mut] = samples[i][coord_to_mut] +\\\n",
    "                    w*(samples[j][coord_to_mut] - samples[k][coord_to_mut])\n",
    "                \n",
    "                samples = np.vstack([samples, new_sample])\n",
    "        \n",
    "        #n_center = samples.mean(axis=0)\n",
    "        \n",
    "        rand_samples = np.array([np.random.uniform(x[0], x[1], \n",
    "                                                   size = int((0.2)*N_samples)) for x in bounds]).T\n",
    "        \n",
    "        samples = np.vstack([samples, rand_samples])\n",
    "        \n",
    "        \n",
    "        print 'epoch = %d'%epoch\n",
    "        for sample in samples[N_samples:]:\n",
    "            q = dict([(name, param) for name, param in zip(param_names, sample)])\n",
    "            #print q\n",
    "            score = cv_score(q)\n",
    "            scores = np.append(scores, score)\n",
    "            print score\n",
    "        \n",
    "        indices = np.argsort(scores)[:N_samples]\n",
    "        scores = scores[indices]\n",
    "        samples = samples[indices]\n",
    "        samples = samples[:N_samples]\n",
    "        scores = scores[:N_samples]\n",
    "        \n",
    "        print scores\n",
    "        \n",
    "    report = [{}, {}, {}, {}, {}]\n",
    "    for j, mini_report in enumerate(report):\n",
    "        for i, name in enumerate(param_names):\n",
    "            mini_report[name] = samples[j][i]\n",
    "        \n",
    "    return report"
   ]
  },
  {
   "cell_type": "code",
   "execution_count": 56,
   "metadata": {
    "collapsed": true
   },
   "outputs": [],
   "source": [
    "params_bounds = {\n",
    "                'num_leaves'       : (5, 50),\n",
    "                'max_depth'        : (2, 25),\n",
    "                'learning_rate'    : (0.002, 0.02),\n",
    "                'feature_fraction' : (0.5, 1.0),\n",
    "                'bagging_fraction' : (0.5, 1.0),\n",
    "                'bagging_freq'     : (1, 25),\n",
    "                'colsample_bytree' : (0.5, 1.0),\n",
    "                'max_bin'          : (200, 55000),\n",
    "                'reg_alpha'        : (0, 32),\n",
    "                'reg_lambda'       : (0, 32),\n",
    "}"
   ]
  },
  {
   "cell_type": "code",
   "execution_count": 57,
   "metadata": {
    "scrolled": false
   },
   "outputs": [
    {
     "data": {
      "application/vnd.jupyter.widget-view+json": {
       "model_id": "7b61b7386eac4d57803ea60f4f2ec0c2"
      }
     },
     "metadata": {},
     "output_type": "display_data"
    },
    {
     "name": "stdout",
     "output_type": "stream",
     "text": [
      "epoch = 0\n",
      "0.541397228598\n",
      "0.541961140359\n",
      "0.540260749861\n",
      "0.540252902329\n",
      "0.541699204923\n",
      "0.542287132574\n",
      "0.540383534767\n",
      "0.540498330095\n",
      "0.547198306746\n",
      "0.540538729342\n",
      "0.540212749653\n",
      "0.540392407453\n",
      "[ 0.54021275  0.5402529   0.54026075  0.54038353  0.54039241  0.54049833\n",
      "  0.54053873  0.54139723  0.5416992   0.54196114]\n",
      "epoch = 1\n",
      "0.541415345463\n",
      "0.540634775656\n",
      "0.540291533399\n",
      "0.540193309441\n",
      "0.550440607059\n",
      "0.540467308942\n",
      "0.540242793827\n",
      "0.553476431231\n",
      "0.543062386149\n",
      "0.541396141805\n",
      "[ 0.54019331  0.54021275  0.54024279  0.5402529   0.54026075  0.54029153\n",
      "  0.54038353  0.54039241  0.54046731  0.54049833]\n",
      "epoch = 2\n",
      "0.54015759961\n",
      "0.541204547579\n",
      "0.540301759198\n",
      "0.540604920493\n",
      "0.540239592199\n",
      "0.540271411584\n",
      "0.542207999615\n",
      "0.540399130402\n",
      "0.54034004976\n",
      "0.540270084183\n",
      "0.54576279329\n",
      "[ 0.5401576   0.54019331  0.54021275  0.54023959  0.54024279  0.5402529\n",
      "  0.54026075  0.54027008  0.54027141  0.54029153]\n",
      "epoch = 3\n",
      "0.540280948972\n",
      "0.540228919309\n",
      "0.5412419207\n",
      "0.540304051589\n",
      "0.540144007819\n",
      "0.54129015852\n",
      "0.550929178846\n",
      "0.54026564835\n",
      "0.540262245471\n",
      "0.540298162515\n",
      "0.540141107411\n",
      "[ 0.54014111  0.54014401  0.5401576   0.54019331  0.54021275  0.54022892\n",
      "  0.54023959  0.54024279  0.5402529   0.54026075]\n",
      "epoch = 4\n",
      "0.540176543138\n",
      "0.54036008969\n",
      "0.540309738275\n",
      "0.540270744417\n",
      "0.541142831062\n",
      "0.540259256829\n",
      "0.540231145356\n",
      "0.540305058962\n",
      "0.540713265721\n",
      "0.540342415321\n",
      "0.542397870018\n",
      "0.540556959915\n",
      "[ 0.54014111  0.54014401  0.5401576   0.54017654  0.54019331  0.54021275\n",
      "  0.54022892  0.54023115  0.54023959  0.54024279]\n",
      "\n"
     ]
    }
   ],
   "source": [
    "full_report = diff_evol(cv_score, params_bounds,  N_samples = 10, N_epochs = 5, p_mut = 0.2, w = 0.4)"
   ]
  },
  {
   "cell_type": "code",
   "execution_count": 58,
   "metadata": {},
   "outputs": [
    {
     "data": {
      "text/plain": [
       "[{'bagging_fraction': 0.77548149688865875,\n",
       "  'bagging_freq': 8.8876714538782728,\n",
       "  'colsample_bytree': 0.52574186877213946,\n",
       "  'feature_fraction': 0.82592550425630784,\n",
       "  'learning_rate': 0.0069055875316154335,\n",
       "  'max_bin': 10645.670344488455,\n",
       "  'max_depth': 12.892658634731252,\n",
       "  'num_leaves': 29.460005659570587,\n",
       "  'reg_alpha': 7.5323235299173739,\n",
       "  'reg_lambda': 28.252406887595278},\n",
       " {'bagging_fraction': 0.77548149688865875,\n",
       "  'bagging_freq': 8.8876714538782728,\n",
       "  'colsample_bytree': 0.52574186877213946,\n",
       "  'feature_fraction': 0.82592550425630784,\n",
       "  'learning_rate': 0.0069055875316154335,\n",
       "  'max_bin': 10645.670344488455,\n",
       "  'max_depth': 12.892658634731252,\n",
       "  'num_leaves': 29.460005659570587,\n",
       "  'reg_alpha': 7.5323235299173739,\n",
       "  'reg_lambda': 28.252406887595278},\n",
       " {'bagging_fraction': 0.77548149688865875,\n",
       "  'bagging_freq': 8.8876714538782728,\n",
       "  'colsample_bytree': 0.52574186877213946,\n",
       "  'feature_fraction': 0.82592550425630784,\n",
       "  'learning_rate': 0.0069055875316154335,\n",
       "  'max_bin': 10645.670344488455,\n",
       "  'max_depth': 12.892658634731252,\n",
       "  'num_leaves': 29.460005659570587,\n",
       "  'reg_alpha': 7.5323235299173739,\n",
       "  'reg_lambda': 28.252406887595278},\n",
       " {'bagging_fraction': 0.77548149688865875,\n",
       "  'bagging_freq': 8.8876714538782728,\n",
       "  'colsample_bytree': 0.52574186877213946,\n",
       "  'feature_fraction': 0.82592550425630784,\n",
       "  'learning_rate': 0.0069055875316154335,\n",
       "  'max_bin': 10645.670344488455,\n",
       "  'max_depth': 12.892658634731252,\n",
       "  'num_leaves': 29.460005659570587,\n",
       "  'reg_alpha': 7.5323235299173739,\n",
       "  'reg_lambda': 28.252406887595278},\n",
       " {'bagging_fraction': 0.77548149688865875,\n",
       "  'bagging_freq': 8.8876714538782728,\n",
       "  'colsample_bytree': 0.52574186877213946,\n",
       "  'feature_fraction': 0.82592550425630784,\n",
       "  'learning_rate': 0.0069055875316154335,\n",
       "  'max_bin': 10645.670344488455,\n",
       "  'max_depth': 12.892658634731252,\n",
       "  'num_leaves': 29.460005659570587,\n",
       "  'reg_alpha': 7.5323235299173739,\n",
       "  'reg_lambda': 28.252406887595278}]"
      ]
     },
     "execution_count": 58,
     "metadata": {},
     "output_type": "execute_result"
    }
   ],
   "source": [
    "full_report"
   ]
  },
  {
   "cell_type": "code",
   "execution_count": 60,
   "metadata": {},
   "outputs": [
    {
     "data": {
      "text/plain": [
       "{'bagging_fraction': 0.77548149688865875,\n",
       " 'bagging_freq': 8.8876714538782728,\n",
       " 'colsample_bytree': 0.52574186877213946,\n",
       " 'feature_fraction': 0.82592550425630784,\n",
       " 'learning_rate': 0.0069055875316154335,\n",
       " 'max_bin': 10645.670344488455,\n",
       " 'max_depth': 12.892658634731252,\n",
       " 'num_leaves': 29.460005659570587,\n",
       " 'reg_alpha': 7.5323235299173739,\n",
       " 'reg_lambda': 28.252406887595278}"
      ]
     },
     "execution_count": 60,
     "metadata": {},
     "output_type": "execute_result"
    }
   ],
   "source": [
    "report = full_report[0]\n",
    "\n",
    "report"
   ]
  },
  {
   "cell_type": "code",
   "execution_count": 61,
   "metadata": {},
   "outputs": [
    {
     "name": "stdout",
     "output_type": "stream",
     "text": [
      "[10]\tcv_agg's binary_logloss: 0.677354 + 0.00012138\n",
      "[20]\tcv_agg's binary_logloss: 0.6643 + 0.000208064\n",
      "[30]\tcv_agg's binary_logloss: 0.651362 + 0.000315803\n",
      "[40]\tcv_agg's binary_logloss: 0.6412 + 0.000433937\n",
      "[50]\tcv_agg's binary_logloss: 0.632391 + 0.000540133\n",
      "[60]\tcv_agg's binary_logloss: 0.624272 + 0.00062243\n",
      "[70]\tcv_agg's binary_logloss: 0.616198 + 0.000705429\n",
      "[80]\tcv_agg's binary_logloss: 0.60881 + 0.000775931\n",
      "[90]\tcv_agg's binary_logloss: 0.60308 + 0.000858969\n",
      "[100]\tcv_agg's binary_logloss: 0.597474 + 0.000930741\n",
      "[110]\tcv_agg's binary_logloss: 0.591895 + 0.000984853\n",
      "[120]\tcv_agg's binary_logloss: 0.586858 + 0.00103035\n",
      "[130]\tcv_agg's binary_logloss: 0.582847 + 0.00107089\n",
      "[140]\tcv_agg's binary_logloss: 0.578652 + 0.00111339\n",
      "[150]\tcv_agg's binary_logloss: 0.575285 + 0.00114515\n",
      "[160]\tcv_agg's binary_logloss: 0.572057 + 0.00120843\n",
      "[170]\tcv_agg's binary_logloss: 0.569622 + 0.00123892\n",
      "[180]\tcv_agg's binary_logloss: 0.567021 + 0.00128101\n",
      "[190]\tcv_agg's binary_logloss: 0.564505 + 0.0013236\n",
      "[200]\tcv_agg's binary_logloss: 0.562319 + 0.00136372\n",
      "[210]\tcv_agg's binary_logloss: 0.560514 + 0.00139207\n",
      "[220]\tcv_agg's binary_logloss: 0.558681 + 0.00141775\n",
      "[230]\tcv_agg's binary_logloss: 0.557023 + 0.0014404\n",
      "[240]\tcv_agg's binary_logloss: 0.555529 + 0.00148375\n",
      "[250]\tcv_agg's binary_logloss: 0.554207 + 0.0015154\n",
      "[260]\tcv_agg's binary_logloss: 0.553083 + 0.00153018\n",
      "[270]\tcv_agg's binary_logloss: 0.55202 + 0.00155516\n",
      "[280]\tcv_agg's binary_logloss: 0.551084 + 0.00157848\n",
      "[290]\tcv_agg's binary_logloss: 0.550259 + 0.0015919\n",
      "[300]\tcv_agg's binary_logloss: 0.549499 + 0.00160338\n",
      "[310]\tcv_agg's binary_logloss: 0.548767 + 0.00162845\n",
      "[320]\tcv_agg's binary_logloss: 0.548063 + 0.00165204\n",
      "[330]\tcv_agg's binary_logloss: 0.547529 + 0.00167043\n",
      "[340]\tcv_agg's binary_logloss: 0.546929 + 0.0016766\n",
      "[350]\tcv_agg's binary_logloss: 0.546362 + 0.0017077\n",
      "[360]\tcv_agg's binary_logloss: 0.545916 + 0.0017195\n",
      "[370]\tcv_agg's binary_logloss: 0.545407 + 0.00173134\n",
      "[380]\tcv_agg's binary_logloss: 0.54497 + 0.00173219\n",
      "[390]\tcv_agg's binary_logloss: 0.544593 + 0.00174343\n",
      "[400]\tcv_agg's binary_logloss: 0.544279 + 0.00174816\n",
      "[410]\tcv_agg's binary_logloss: 0.543967 + 0.00175995\n",
      "[420]\tcv_agg's binary_logloss: 0.543688 + 0.00176606\n",
      "[430]\tcv_agg's binary_logloss: 0.543429 + 0.00177535\n",
      "[440]\tcv_agg's binary_logloss: 0.543154 + 0.00177735\n",
      "[450]\tcv_agg's binary_logloss: 0.54291 + 0.00178396\n",
      "[460]\tcv_agg's binary_logloss: 0.542714 + 0.00179259\n",
      "[470]\tcv_agg's binary_logloss: 0.542531 + 0.00180574\n",
      "[480]\tcv_agg's binary_logloss: 0.542366 + 0.00181164\n",
      "[490]\tcv_agg's binary_logloss: 0.542195 + 0.00181583\n",
      "[500]\tcv_agg's binary_logloss: 0.542044 + 0.00182747\n",
      "[510]\tcv_agg's binary_logloss: 0.541912 + 0.00183447\n",
      "[520]\tcv_agg's binary_logloss: 0.541796 + 0.00184818\n",
      "[530]\tcv_agg's binary_logloss: 0.54169 + 0.00185321\n",
      "[540]\tcv_agg's binary_logloss: 0.54159 + 0.00185546\n",
      "[550]\tcv_agg's binary_logloss: 0.541485 + 0.00185375\n",
      "[560]\tcv_agg's binary_logloss: 0.541388 + 0.00185161\n",
      "[570]\tcv_agg's binary_logloss: 0.541282 + 0.00186401\n",
      "[580]\tcv_agg's binary_logloss: 0.541198 + 0.0018718\n",
      "[590]\tcv_agg's binary_logloss: 0.541109 + 0.00187361\n",
      "[600]\tcv_agg's binary_logloss: 0.541026 + 0.00187644\n",
      "[610]\tcv_agg's binary_logloss: 0.540954 + 0.00186962\n",
      "[620]\tcv_agg's binary_logloss: 0.540886 + 0.00186342\n",
      "[630]\tcv_agg's binary_logloss: 0.540814 + 0.00186175\n",
      "[640]\tcv_agg's binary_logloss: 0.540757 + 0.00185815\n",
      "[650]\tcv_agg's binary_logloss: 0.540705 + 0.00185643\n",
      "[660]\tcv_agg's binary_logloss: 0.540661 + 0.00185468\n",
      "[670]\tcv_agg's binary_logloss: 0.54062 + 0.00185594\n",
      "[680]\tcv_agg's binary_logloss: 0.54058 + 0.0018463\n",
      "[690]\tcv_agg's binary_logloss: 0.540551 + 0.0018483\n",
      "[700]\tcv_agg's binary_logloss: 0.540521 + 0.00184149\n",
      "[710]\tcv_agg's binary_logloss: 0.540481 + 0.00184228\n",
      "[720]\tcv_agg's binary_logloss: 0.540456 + 0.00184402\n",
      "[730]\tcv_agg's binary_logloss: 0.540424 + 0.00184652\n",
      "[740]\tcv_agg's binary_logloss: 0.540401 + 0.00184357\n",
      "[750]\tcv_agg's binary_logloss: 0.540377 + 0.00184152\n",
      "[760]\tcv_agg's binary_logloss: 0.540345 + 0.0018254\n",
      "[770]\tcv_agg's binary_logloss: 0.540318 + 0.00182588\n",
      "[780]\tcv_agg's binary_logloss: 0.540291 + 0.00182395\n",
      "[790]\tcv_agg's binary_logloss: 0.540275 + 0.00182566\n",
      "[800]\tcv_agg's binary_logloss: 0.54026 + 0.00182354\n",
      "[810]\tcv_agg's binary_logloss: 0.540243 + 0.00182232\n",
      "[820]\tcv_agg's binary_logloss: 0.540232 + 0.0018189\n",
      "[830]\tcv_agg's binary_logloss: 0.540216 + 0.0018176\n",
      "[840]\tcv_agg's binary_logloss: 0.5402 + 0.00181981\n",
      "[850]\tcv_agg's binary_logloss: 0.540196 + 0.00182586\n",
      "[860]\tcv_agg's binary_logloss: 0.540185 + 0.00182481\n",
      "[870]\tcv_agg's binary_logloss: 0.540171 + 0.00182018\n",
      "[880]\tcv_agg's binary_logloss: 0.540152 + 0.00181369\n",
      "[890]\tcv_agg's binary_logloss: 0.540145 + 0.00180584\n",
      "[900]\tcv_agg's binary_logloss: 0.540153 + 0.00180444\n",
      "[910]\tcv_agg's binary_logloss: 0.540155 + 0.00180183\n"
     ]
    }
   ],
   "source": [
    "lgb_params = {\n",
    "                'objective'        : 'binary',\n",
    "                'metric'           : 'binary_logloss',\n",
    "                'num_leaves'       : max(5,int(report['num_leaves'])),\n",
    "                'max_depth'        : max(1, int(report['max_depth'])),\n",
    "                'learning_rate'    : max(0.0001, report['learning_rate']),\n",
    "                'feature_fraction' : max(0.5, min(1, report['feature_fraction'])),\n",
    "                'bagging_fraction' : max(0.5, min(1, report['bagging_fraction'])),\n",
    "                'bagging_freq'     : max(1, int(report['bagging_freq'])),\n",
    "                'colsample_bytree' : max(0.5, min(1, report['colsample_bytree'])),\n",
    "                'max_bin'          : max(100, int(report['max_bin'])),\n",
    "                'reg_alpha'        : max(0, report['reg_alpha']),\n",
    "                'reg_lambda'       : max(0, report['reg_lambda']),\n",
    "            }\n",
    "\n",
    "\n",
    "cv_result = lgb.cv(lgb_params, ltrain, num_boost_round=1000, nfold=5, \n",
    "                   early_stopping_rounds=20, verbose_eval=10)\n"
   ]
  },
  {
   "cell_type": "code",
   "execution_count": 62,
   "metadata": {
    "collapsed": true
   },
   "outputs": [],
   "source": [
    "sign = lambda x: 1 if x >= 0 else -1"
   ]
  },
  {
   "cell_type": "code",
   "execution_count": 65,
   "metadata": {},
   "outputs": [
    {
     "data": {
      "application/vnd.jupyter.widget-view+json": {
       "model_id": "6a7319b9e5d144d7945a5d435ee77159"
      }
     },
     "metadata": {},
     "output_type": "display_data"
    },
    {
     "name": "stdout",
     "output_type": "stream",
     "text": [
      "oK\n"
     ]
    }
   ],
   "source": [
    "n = 100\n",
    "\n",
    "n_trees = len(cv_result['binary_logloss-mean'])\n",
    "\n",
    "y_preds = np.empty(shape = (n, len(x_test)))\n",
    "\n",
    "for i in tqdm_notebook(xrange(n)):\n",
    "    \n",
    "    lgb_params = {\n",
    "            'objective' : 'binary',\n",
    "            'metric' : 'binary_logloss',\n",
    "            'num_leaves'       : max(5,int(report['num_leaves'])),\n",
    "            'max_depth'        : max(1, int(report['max_depth'])),\n",
    "            'learning_rate'    : max(0.0001, report['learning_rate']),\n",
    "            'feature_fraction' : max(0.5, min(1, report['feature_fraction'])),\n",
    "            'bagging_fraction' : max(0.5, min(1, report['bagging_fraction'])),\n",
    "            'bagging_freq'     : max(1, int(report['bagging_freq'])),\n",
    "            'colsample_bytree' : max(0.5, min(1, report['colsample_bytree'])),\n",
    "            'max_bin'          : max(100, int(report['max_bin'])),\n",
    "            'reg_alpha'        : max(0, report['reg_alpha']),\n",
    "            'reg_lambda'       : max(0, report['reg_lambda']),\n",
    "            'seed' : i*7 - 1 + (i**2)//973, }\n",
    "        \n",
    "    ltrain = lgb.Dataset(x_train, y_train) \n",
    "    \n",
    "    model = lgb.train(lgb_params, ltrain, num_boost_round = n_trees )\n",
    "    \n",
    "    y_preds[i] = model.predict(x_test)\n",
    "    \n",
    "    del model\n",
    "print 'oK'"
   ]
  },
  {
   "cell_type": "code",
   "execution_count": 66,
   "metadata": {},
   "outputs": [
    {
     "data": {
      "text/plain": [
       "array([ 0.48927958,  0.55688665,  0.41157235, ...,  0.47417598,\n",
       "        0.30176907,  0.68695352])"
      ]
     },
     "execution_count": 66,
     "metadata": {},
     "output_type": "execute_result"
    }
   ],
   "source": [
    "y_pred_lgb = y_preds.mean(0)\n",
    "y_pred_lgb"
   ]
  },
  {
   "cell_type": "code",
   "execution_count": null,
   "metadata": {
    "collapsed": true
   },
   "outputs": [],
   "source": []
  },
  {
   "cell_type": "code",
   "execution_count": 38,
   "metadata": {
    "collapsed": true
   },
   "outputs": [],
   "source": []
  },
  {
   "cell_type": "code",
   "execution_count": null,
   "metadata": {
    "collapsed": true
   },
   "outputs": [],
   "source": []
  },
  {
   "cell_type": "code",
   "execution_count": 32,
   "metadata": {},
   "outputs": [
    {
     "data": {
      "application/vnd.jupyter.widget-view+json": {
       "model_id": "f58884e6d5d3443b85f4a45901e42a5d"
      }
     },
     "metadata": {},
     "output_type": "display_data"
    },
    {
     "name": "stdout",
     "output_type": "stream",
     "text": [
      "\n",
      "27200/30000 [==========================>...] - ETA: 0s\n",
      "28256/30000 [===========================>..] - ETA: 0s\n",
      "29376/30000 [============================>.] - ETA: 0s\n",
      "28224/30000 [===========================>..] - ETA: 0s\n",
      "28800/30000 [===========================>..] - ETA: 0s\n",
      "29856/30000 [============================>.] - ETA: 0s\n",
      "29920/30000 [============================>.] - ETA: 0s\n",
      "26944/30000 [=========================>....] - ETA: 0s\n",
      "28800/30000 [===========================>..] - ETA: 0s\n",
      "28960/30000 [===========================>..] - ETA: 0s\n",
      "29984/30000 [============================>.] - ETA: 0s\n",
      "28224/30000 [===========================>..] - ETA: 0s\n",
      "27520/30000 [==========================>...] - ETA: 0s\n",
      "28896/30000 [===========================>..] - ETA: 0s ETA: \n",
      "28832/30000 [===========================>..] - ETA: 0s\n",
      "27072/30000 [==========================>...] - ETA: 0s\n",
      "29408/30000 [============================>.] - ETA: 0s\n",
      "27072/30000 [==========================>...] - ETA: 0s\n",
      "27072/30000 [==========================>...] - ETA: 0s\n",
      "27360/30000 [==========================>...] - ETA: 0s\n",
      "29472/30000 [============================>.] - ETA: 0s\n",
      "28128/30000 [===========================>..] - ETA: 0s\n",
      "26848/30000 [=========================>....] - ETA: 0s\n",
      "29472/30000 [============================>.] - ETA: 0s\n",
      "28832/30000 [===========================>..] - ETA: 0s\n",
      "28224/30000 [===========================>..] - ETA: 0s\n",
      "27584/30000 [==========================>...] - ETA: 0s\n",
      "28512/30000 [===========================>..] - ETA: 0s\n",
      "29056/30000 [============================>.] - ETA: 0s\n",
      "27296/30000 [==========================>...] - ETA: 0s\n",
      "28096/30000 [===========================>..] - ETA: 0s\n",
      "27488/30000 [==========================>...] - ETA: 0s\n",
      "27776/30000 [==========================>...] - ETA: 0s\n",
      "27328/30000 [==========================>...] - ETA: 0s\n",
      "29472/30000 [============================>.] - ETA: 0s\n",
      "27296/30000 [==========================>...] - ETA: 0s\n",
      "28480/30000 [===========================>..] - ETA: 0s\n",
      "27872/30000 [==========================>...] - ETA: 0s\n",
      "28192/30000 [===========================>..] - ETA: 0s\n",
      "29760/30000 [============================>.] - ETA: 0s\n",
      "27712/30000 [==========================>...] - ETA: 0s\n",
      "28640/30000 [===========================>..] - ETA: 0s\n",
      "27360/30000 [==========================>...] - ETA: 0s\n",
      "28704/30000 [===========================>..] - ETA: 0s\n",
      "29152/30000 [============================>.] - ETA: 0s\n",
      "29312/30000 [============================>.] - ETA: 0s\n",
      "28320/30000 [===========================>..] - ETA: 0s\n",
      "27840/30000 [==========================>...] - ETA: 0s\n",
      "27552/30000 [==========================>...] - ETA: 0s\n",
      "27200/30000 [==========================>...] - ETA: 0s\n",
      "29312/30000 [============================>.] - ETA: 0s\n",
      "27040/30000 [==========================>...] - ETA: 0s\n",
      "29824/30000 [============================>.] - ETA: 0s\n",
      "28224/30000 [===========================>..] - ETA: 0s\n",
      "29024/30000 [============================>.] - ETA: 0s\n",
      "29504/30000 [============================>.] - ETA: 0s\n",
      "28768/30000 [===========================>..] - ETA: 0s\n",
      "29760/30000 [============================>.] - ETA:  - ETA: 0s\n",
      "29568/30000 [============================>.] - ETA: 0s\n",
      "27840/30000 [==========================>...] - ETA: 0s\n",
      "29152/30000 [============================>.] - ETA: 0s\n",
      "27872/30000 [==========================>...] - ETA: 0s\n",
      "28576/30000 [===========================>..] - ETA: 0s\n",
      "27360/30000 [==========================>...] - ETA: 0s\n"
     ]
    }
   ],
   "source": [
    "n = 64\n",
    "y_nn_preds1 = np.empty(shape=(n, len(x_test_nn)))\n",
    "for i in tqdm_notebook(xrange(n)):\n",
    "    model = Sequential()\n",
    "    opt = optimizers.adam(lr = 0.01)\n",
    "    model.add(Dense(12, activation='relu', input_dim=x_train_nn.shape[1]))\n",
    "    model.add(Dense(24, activation='tanh'))\n",
    "    model.add(Dense(48, activation='relu'))\n",
    "    model.add(Dense(24, activation='tanh'))\n",
    "    model.add(Dense(12, activation='relu'))\n",
    "    model.add(Dense(1, activation='sigmoid'))\n",
    "    model.compile(optimizer = opt,\n",
    "                  loss = 'binary_crossentropy',\n",
    "                  metrics = ['binary_crossentropy'])\n",
    "    \n",
    "    \n",
    "    inds = (np.random.randint(0, len(x_train_nn), len(x_train_nn)))\n",
    "    \n",
    "    model.fit(x_train_nn[inds], y_train_nn[inds], batch_size = 1000, epochs = 15, verbose=0)\n",
    "    y_nn = model.predict_proba(x_test_nn).T[0]\n",
    "    y_nn_preds1[i] = y_nn\n",
    "    print \n",
    "#    print log_loss(y_test_nn, y_nn)\n",
    "    del model"
   ]
  },
  {
   "cell_type": "code",
   "execution_count": 34,
   "metadata": {},
   "outputs": [
    {
     "data": {
      "text/plain": [
       "array([ 0.47340662,  0.50431734,  0.41439968, ...,  0.43550645,\n",
       "        0.40926907,  0.73371202])"
      ]
     },
     "execution_count": 34,
     "metadata": {},
     "output_type": "execute_result"
    }
   ],
   "source": [
    "#log_loss(y_test_nn, y_nn_preds1.mean(0))\n",
    "y_nn_preds1.mean(0)"
   ]
  },
  {
   "cell_type": "code",
   "execution_count": null,
   "metadata": {
    "collapsed": true
   },
   "outputs": [],
   "source": []
  },
  {
   "cell_type": "code",
   "execution_count": null,
   "metadata": {
    "collapsed": true
   },
   "outputs": [],
   "source": []
  },
  {
   "cell_type": "code",
   "execution_count": 80,
   "metadata": {},
   "outputs": [
    {
     "data": {
      "text/html": [
       "<div>\n",
       "<style>\n",
       "    .dataframe thead tr:only-child th {\n",
       "        text-align: right;\n",
       "    }\n",
       "\n",
       "    .dataframe thead th {\n",
       "        text-align: left;\n",
       "    }\n",
       "\n",
       "    .dataframe tbody tr th {\n",
       "        vertical-align: top;\n",
       "    }\n",
       "</style>\n",
       "<table border=\"1\" class=\"dataframe\">\n",
       "  <thead>\n",
       "    <tr style=\"text-align: right;\">\n",
       "      <th></th>\n",
       "      <th>0</th>\n",
       "    </tr>\n",
       "  </thead>\n",
       "  <tbody>\n",
       "    <tr>\n",
       "      <th>0</th>\n",
       "      <td>0.504429</td>\n",
       "    </tr>\n",
       "    <tr>\n",
       "      <th>1</th>\n",
       "      <td>0.531992</td>\n",
       "    </tr>\n",
       "    <tr>\n",
       "      <th>2</th>\n",
       "      <td>0.404638</td>\n",
       "    </tr>\n",
       "    <tr>\n",
       "      <th>3</th>\n",
       "      <td>0.543625</td>\n",
       "    </tr>\n",
       "    <tr>\n",
       "      <th>4</th>\n",
       "      <td>0.212363</td>\n",
       "    </tr>\n",
       "    <tr>\n",
       "      <th>5</th>\n",
       "      <td>0.275070</td>\n",
       "    </tr>\n",
       "    <tr>\n",
       "      <th>6</th>\n",
       "      <td>0.218567</td>\n",
       "    </tr>\n",
       "  </tbody>\n",
       "</table>\n",
       "</div>"
      ],
      "text/plain": [
       "          0\n",
       "0  0.504429\n",
       "1  0.531992\n",
       "2  0.404638\n",
       "3  0.543625\n",
       "4  0.212363\n",
       "5  0.275070\n",
       "6  0.218567"
      ]
     },
     "execution_count": 80,
     "metadata": {},
     "output_type": "execute_result"
    }
   ],
   "source": [
    "output = pd.DataFrame(y_pred_cb)\n",
    "output.to_csv('cb.csv', header=None, index=None)\n",
    "output.head(7)"
   ]
  },
  {
   "cell_type": "code",
   "execution_count": 67,
   "metadata": {},
   "outputs": [
    {
     "data": {
      "text/html": [
       "<div>\n",
       "<style>\n",
       "    .dataframe thead tr:only-child th {\n",
       "        text-align: right;\n",
       "    }\n",
       "\n",
       "    .dataframe thead th {\n",
       "        text-align: left;\n",
       "    }\n",
       "\n",
       "    .dataframe tbody tr th {\n",
       "        vertical-align: top;\n",
       "    }\n",
       "</style>\n",
       "<table border=\"1\" class=\"dataframe\">\n",
       "  <thead>\n",
       "    <tr style=\"text-align: right;\">\n",
       "      <th></th>\n",
       "      <th>0</th>\n",
       "    </tr>\n",
       "  </thead>\n",
       "  <tbody>\n",
       "    <tr>\n",
       "      <th>0</th>\n",
       "      <td>0.489280</td>\n",
       "    </tr>\n",
       "    <tr>\n",
       "      <th>1</th>\n",
       "      <td>0.556887</td>\n",
       "    </tr>\n",
       "    <tr>\n",
       "      <th>2</th>\n",
       "      <td>0.411572</td>\n",
       "    </tr>\n",
       "    <tr>\n",
       "      <th>3</th>\n",
       "      <td>0.546964</td>\n",
       "    </tr>\n",
       "    <tr>\n",
       "      <th>4</th>\n",
       "      <td>0.207609</td>\n",
       "    </tr>\n",
       "    <tr>\n",
       "      <th>5</th>\n",
       "      <td>0.276292</td>\n",
       "    </tr>\n",
       "    <tr>\n",
       "      <th>6</th>\n",
       "      <td>0.209870</td>\n",
       "    </tr>\n",
       "  </tbody>\n",
       "</table>\n",
       "</div>"
      ],
      "text/plain": [
       "          0\n",
       "0  0.489280\n",
       "1  0.556887\n",
       "2  0.411572\n",
       "3  0.546964\n",
       "4  0.207609\n",
       "5  0.276292\n",
       "6  0.209870"
      ]
     },
     "execution_count": 67,
     "metadata": {},
     "output_type": "execute_result"
    }
   ],
   "source": [
    "output = pd.DataFrame(y_pred_lgb)\n",
    "output.to_csv('lgb.csv', header=None, index=None)\n",
    "output.head(7)"
   ]
  },
  {
   "cell_type": "code",
   "execution_count": 33,
   "metadata": {},
   "outputs": [
    {
     "ename": "NameError",
     "evalue": "name 'y_nn_preds1' is not defined",
     "output_type": "error",
     "traceback": [
      "\u001b[0;31m---------------------------------------------------------------------------\u001b[0m",
      "\u001b[0;31mNameError\u001b[0m                                 Traceback (most recent call last)",
      "\u001b[0;32m<ipython-input-33-d3741f21d6f5>\u001b[0m in \u001b[0;36m<module>\u001b[0;34m()\u001b[0m\n\u001b[0;32m----> 1\u001b[0;31m \u001b[0moutput\u001b[0m \u001b[0;34m=\u001b[0m \u001b[0mpd\u001b[0m\u001b[0;34m.\u001b[0m\u001b[0mDataFrame\u001b[0m\u001b[0;34m(\u001b[0m \u001b[0my_nn_preds1\u001b[0m\u001b[0;34m.\u001b[0m\u001b[0mmean\u001b[0m\u001b[0;34m(\u001b[0m\u001b[0;36m0\u001b[0m\u001b[0;34m)\u001b[0m \u001b[0;34m)\u001b[0m\u001b[0;34m\u001b[0m\u001b[0m\n\u001b[0m\u001b[1;32m      2\u001b[0m \u001b[0moutput\u001b[0m\u001b[0;34m.\u001b[0m\u001b[0mto_csv\u001b[0m\u001b[0;34m(\u001b[0m\u001b[0;34m'nn.csv'\u001b[0m\u001b[0;34m,\u001b[0m \u001b[0mheader\u001b[0m\u001b[0;34m=\u001b[0m\u001b[0mNone\u001b[0m\u001b[0;34m,\u001b[0m \u001b[0mindex\u001b[0m\u001b[0;34m=\u001b[0m\u001b[0mNone\u001b[0m\u001b[0;34m)\u001b[0m\u001b[0;34m\u001b[0m\u001b[0m\n\u001b[1;32m      3\u001b[0m \u001b[0moutput\u001b[0m\u001b[0;34m.\u001b[0m\u001b[0mhead\u001b[0m\u001b[0;34m(\u001b[0m\u001b[0;36m7\u001b[0m\u001b[0;34m)\u001b[0m\u001b[0;34m\u001b[0m\u001b[0m\n",
      "\u001b[0;31mNameError\u001b[0m: name 'y_nn_preds1' is not defined"
     ]
    }
   ],
   "source": [
    "output = pd.DataFrame( y_nn_preds1.mean(0) )\n",
    "output.to_csv('nn.csv', header=None, index=None)\n",
    "output.head(7)"
   ]
  }
 ],
 "metadata": {
  "kernelspec": {
   "display_name": "Python 2",
   "language": "python",
   "name": "python2"
  },
  "language_info": {
   "codemirror_mode": {
    "name": "ipython",
    "version": 2
   },
   "file_extension": ".py",
   "mimetype": "text/x-python",
   "name": "python",
   "nbconvert_exporter": "python",
   "pygments_lexer": "ipython2",
   "version": "2.7.13"
  }
 },
 "nbformat": 4,
 "nbformat_minor": 2
}
