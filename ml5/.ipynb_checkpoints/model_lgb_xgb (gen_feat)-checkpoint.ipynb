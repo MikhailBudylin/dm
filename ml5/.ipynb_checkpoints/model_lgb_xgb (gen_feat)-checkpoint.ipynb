{
 "cells": [
  {
   "cell_type": "code",
   "execution_count": 151,
   "metadata": {
    "collapsed": true
   },
   "outputs": [],
   "source": [
    "import pandas as pd\n",
    "import numpy as np\n",
    "import xgboost as xgb\n",
    "import lightgbm as lgb\n",
    "from sklearn.model_selection import KFold, cross_val_score as cv_scoring\n",
    "from sklearn.metrics import log_loss\n",
    "from sklearn.neighbors import KNeighborsClassifier\n",
    "from sklearn.ensemble import AdaBoostClassifier\n",
    "from sklearn.linear_model import LogisticRegression\n",
    "from sklearn.tree import DecisionTreeClassifier\n",
    "from tqdm import tqdm_notebook\n",
    "from scipy.optimize import minimize\n",
    "import matplotlib.pylab as plt\n",
    "from bayes_opt import BayesianOptimization\n",
    "from tqdm import tqdm\n",
    "plt.style.use('ggplot')"
   ]
  },
  {
   "cell_type": "markdown",
   "metadata": {},
   "source": [
    "# Read_Data"
   ]
  },
  {
   "cell_type": "code",
   "execution_count": 171,
   "metadata": {
    "collapsed": true
   },
   "outputs": [],
   "source": [
    "train = pd.read_csv('train.csv', delimiter=';')\n",
    "test  = pd.read_csv('test.csv', delimiter=';')\n",
    "\n",
    "test.replace({'None' : 999}, inplace=True)\n",
    "test[['smoke', 'alco', 'active']] = test[['smoke', 'alco', 'active']].astype(int)\n",
    "\n",
    "test.replace({999 : np.nan}, inplace=True)\n",
    "test[['gluc', 'cholesterol']] = test[['gluc', 'cholesterol']].astype(int)\n",
    "\n",
    "N_train = train.shape[0]\n",
    "data = pd.concat([train, test], 0).reset_index(drop=True)"
   ]
  },
  {
   "cell_type": "code",
   "execution_count": null,
   "metadata": {
    "collapsed": true
   },
   "outputs": [],
   "source": []
  },
  {
   "cell_type": "markdown",
   "metadata": {},
   "source": [
    "# Data_Cleaning"
   ]
  },
  {
   "cell_type": "code",
   "execution_count": 172,
   "metadata": {
    "collapsed": true
   },
   "outputs": [],
   "source": [
    "clean = False\n",
    "\n",
    "if clean:\n",
    "    bad_index = (data.height < 110) & (data.weight > 150)\n",
    "    buf = data.loc[bad_index, 'height']\n",
    "    data.loc[bad_index, 'height'] = data.loc[bad_index, 'weight']\n",
    "    data.loc[bad_index, 'weight'] = buf\n",
    "    \n",
    "    data.loc[data.height < 90, 'height'] += 100\n",
    "    \n",
    "    data.loc[(data.height >= 100) & (data.height < 110), 'height'] += 60 \n",
    "    \n",
    "    data.loc[(data.height >= 110) & (data.height < 120) & (data.weight < 110), 'height'] += 60\n",
    "    \n",
    "    data.loc[(data.height == data.ap_hi) & (data.weight == data.ap_lo), 'height'] = np.nan\n",
    "    data.loc[(data.height == data.ap_hi) & (data.weight == data.ap_lo), 'weight'] = np.nan\n",
    "    \n",
    "    data.loc[data.height <= 130, ['weight', 'height']] = [np.nan, np.nan]\n",
    "    data.loc[(data.height <= 135) & (data.weight > 60), 'height'] = np.nan\n",
    "    data.loc[(data.height < 140) & (data.weight > 80), 'height'] = np.nan\n",
    "    data.loc[data.height > 210, 'height'] = np.nan\n",
    "    \n",
    "    data.loc[data.weight < 20, 'weight'] *= 10\n",
    "    \n",
    "    data.loc[data.weight <= 30, 'weight'] = np.nan\n",
    "    data.loc[(data.weight < 36) & (data.height > 160), 'weight'] = np.nan\n",
    "    \n",
    "    data.loc[(data.weight > 140) & (data.height == data.weight), 'weight'] = np.nan\n",
    "    \n",
    "    data.loc[data.weight > 125, 'weight'] = np.nan\n",
    "    \n",
    "    data.replace({'weight': {120.0: np.nan}}, inplace=True)\n",
    "    \n",
    "    data['ap_hi'] = np.abs(data['ap_hi'])\n",
    "    data['ap_lo'] = np.abs(data['ap_lo'])\n",
    "\n",
    "    data.loc[data.ap_lo > 5000, 'ap_lo'] /= 100\n",
    "    data.loc[data.ap_hi > 5000, 'ap_hi'] /= 100\n",
    "    data.loc[data.ap_hi > 250, 'ap_hi'] /= 10\n",
    "    data.loc[data.ap_lo > 250, 'ap_lo'] /= 10\n",
    "    \n",
    "    data.loc[[12494, 60477, 51749], ['ap_hi', 'ap_lo']] = [np.nan, np.nan]\n",
    "    data.loc[[75399], 'ap_lo'] = 200\n",
    "    data.loc[6580, ['ap_hi', 'ap_lo']] = [np.nan, np.nan]\n",
    "    data.loc[data.ap_hi < 10, 'ap_hi'] = np.nan\n",
    "    \n",
    "    data.loc[data.ap_hi == 906, ['ap_hi', 'ap_lo']] = [np.nan, np.nan]\n",
    "    data.loc[data.ap_hi == 90.6, ['ap_hi', 'ap_lo']] = [np.nan, np.nan]\n",
    "    data.loc[data.ap_hi == 701, ['ap_hi', 'ap_lo']] = [110, 70]\n",
    "    data.loc[data.ap_hi == 309, ['ap_hi', 'ap_lo']] = [np.nan, np.nan]\n",
    "    data.loc[data.ap_hi == 30.9, ['ap_hi', 'ap_lo']] = [np.nan, np.nan]\n",
    "    data.loc[data.ap_hi == 806, ['ap_hi', 'ap_lo']] = [np.nan, np.nan]\n",
    "    data.loc[data.ap_hi == 509, ['ap_hi', 'ap_lo']] = [np.nan, np.nan]\n",
    "    data.loc[data.ap_hi == 50.9, ['ap_hi', 'ap_lo']] = [np.nan, np.nan]\n",
    "    data.loc[data.ap_hi == 50.9, ['ap_hi', 'ap_lo']] = [np.nan, np.nan]\n",
    "    data.loc[data.ap_hi == 40.1, ['ap_hi', 'ap_lo']] = [np.nan, np.nan]\n",
    "    \n",
    "    data.loc[data.ap_hi == 400, 'ap_hi'] = 100\n",
    "    data.loc[data.ap_hi == 401, 'ap_hi'] = 101\n",
    "    data.loc[data.ap_hi == 410, 'ap_hi'] = 110\n",
    "    data.loc[data.ap_hi == 470, 'ap_hi'] = 170\n",
    "    data.loc[data.ap_lo == 410, 'ap_lo'] = 110\n",
    "    data.loc[data.ap_lo == 470, 'ap_lo'] = 170\n",
    "        \n",
    "    data.loc[(data.ap_hi == 138) & (data.ap_lo == 0), ['ap_hi', 'ap_lo']] = [np.nan, np.nan]\n",
    "    data.loc[(data.ap_hi == 149) & (data.ap_lo == 0), ['ap_hi', 'ap_lo']] = [np.nan, np.nan]\n",
    "    data.loc[(data.ap_hi == 90.7) & (data.ap_lo == 0), ['ap_hi', 'ap_lo']] = [np.nan, np.nan]\n",
    "    data.loc[(data.ap_hi == 148) & (data.ap_lo == 0), ['ap_hi', 'ap_lo']] = [np.nan, np.nan]\n",
    "    data.loc[(data.ap_hi == 80.6) & (data.ap_lo == 0), ['ap_hi', 'ap_lo']] = [np.nan, np.nan]\n",
    "    data.loc[(data.ap_hi == 108) & (data.ap_lo == 0), ['ap_hi', 'ap_lo']] = [np.nan, np.nan]\n",
    "    data.loc[(data.ap_hi == 121) & (data.ap_lo == 0), ['ap_hi', 'ap_lo']] = [np.nan, np.nan]\n",
    "    data.loc[(data.ap_hi == 117) & (data.ap_lo == 0), ['ap_hi', 'ap_lo']] = [np.nan, np.nan]\n",
    "    data.loc[(data.ap_hi == 118) & (data.ap_lo == 0), ['ap_hi', 'ap_lo']] = [np.nan, np.nan]\n",
    "\n",
    "    data.loc[data.ap_lo == 0, 'ap_lo'] = np.nan\n",
    "\n",
    "    data.replace({'ap_lo': {1: 100}}, inplace=True)\n",
    "\n",
    "    data.loc[data.ap_hi < 30, 'ap_hi'] *= 10\n",
    "    data.loc[data.ap_lo < 20, 'ap_lo'] *= 10\n",
    "    \n",
    "    data.replace({'ap_lo': {20: np.nan, 30: 80}}, inplace=True)\n",
    "    \n",
    "    bad_index = data.ap_hi < data.ap_lo\n",
    "    buf = data.loc[bad_index, 'ap_hi']\n",
    "    data.loc[bad_index, 'ap_hi'] = data.loc[bad_index, 'ap_lo']\n",
    "    data.loc[bad_index, 'ap_lo'] = buf"
   ]
  },
  {
   "cell_type": "markdown",
   "metadata": {},
   "source": [
    "# Add_Features"
   ]
  },
  {
   "cell_type": "code",
   "execution_count": 173,
   "metadata": {
    "collapsed": true
   },
   "outputs": [],
   "source": [
    "data['chol+gluc'] = data['cholesterol'].astype(str) + data['gluc'].astype(str) \n",
    "data['chol+gluc'] = pd.factorize(data['chol+gluc'])[0]"
   ]
  },
  {
   "cell_type": "code",
   "execution_count": 174,
   "metadata": {
    "collapsed": true
   },
   "outputs": [],
   "source": [
    "data['ap+chol'] = data['cholesterol'].astype(str) + data['ap_hi'].dropna().astype(int).astype(str)\n",
    "data['ap+chol'] = pd.factorize(data['ap+chol'])[0]\n",
    "\n",
    "data['age+ap'] = (data['age']//365).astype(str) + data['ap_hi'].astype(str)\n",
    "data['age+ap'] = pd.factorize(data['age+ap'])[0]"
   ]
  },
  {
   "cell_type": "code",
   "execution_count": 175,
   "metadata": {
    "collapsed": true
   },
   "outputs": [],
   "source": [
    "data['imt'] = data['weight'] / (data['height']/100) ** 2\n",
    "\n",
    "data['ap-'] = data['ap_hi'] - data['ap_lo']\n",
    "data['ap*'] = data['ap_hi'] * data['ap_lo'] / 10000\n",
    "data['ap+'] = data['ap_hi'] + data['ap_lo']\n",
    "data['ap/'] = data['ap_hi'] / data['ap_lo']\n",
    "\n",
    "data['h/w'] = data['height'] / data['weight']\n",
    "data['h*w'] = data['height'] * data['weight'] / 10000\n",
    "\n",
    "data['age/ap'] = data['age'] / data['ap_hi']\n",
    "data['ap/age'] = data['ap_hi'] / data['age']\n",
    "data['age/w'] = data['age'] / data['weight']\n",
    "data['age/h'] = data['age'] / data['height']\n",
    "\n",
    "data['age*ap'] = data['age'] * data['ap_hi'] / 1000\n",
    "data['age*w']  = data['age'] * data['weight'] / 1000\n",
    "data['age*chol'] = data['age'] * data['cholesterol']\n",
    "data['age*gluc'] = data['age'] * data['gluc']"
   ]
  },
  {
   "cell_type": "code",
   "execution_count": 176,
   "metadata": {
    "collapsed": true
   },
   "outputs": [],
   "source": [
    "mean_y = data.groupby(['cholesterol'])['cardio'].mean().reset_index()\n",
    "mean_y = mean_y.rename(columns = {'cardio' : 'p_chol'})\n",
    "data = pd.merge(data, mean_y, on = 'cholesterol', how = 'left')\n",
    "\n",
    "mean_y = data.groupby(['gluc'])['cardio'].mean().reset_index()\n",
    "mean_y = mean_y.rename(columns = {'cardio' : 'p_gluc'})\n",
    "data = pd.merge(data, mean_y, on = 'gluc', how = 'left')\n",
    "\n",
    "mean_y = data.groupby(['chol+gluc'])['cardio'].mean().reset_index()\n",
    "mean_y = mean_y.rename(columns = {'cardio' : 'p_ch+gl'})\n",
    "data = pd.merge(data, mean_y, on = 'chol+gluc', how = 'left')"
   ]
  },
  {
   "cell_type": "code",
   "execution_count": null,
   "metadata": {
    "collapsed": true
   },
   "outputs": [],
   "source": []
  },
  {
   "cell_type": "code",
   "execution_count": null,
   "metadata": {
    "collapsed": true
   },
   "outputs": [],
   "source": []
  },
  {
   "cell_type": "markdown",
   "metadata": {},
   "source": [
    "# Selected_Features "
   ]
  },
  {
   "cell_type": "code",
   "execution_count": 199,
   "metadata": {
    "collapsed": true
   },
   "outputs": [],
   "source": [
    "use_feat = [u'active', u'age', u'alco', u'ap_hi', u'ap_lo', u'gender', u'height',\n",
    "       u'smoke', u'chol+gluc', u'ap+chol', u'imt', u'ap*', u'ap+', u'h/w',\n",
    "       u'h*w', u'ap/age', u'age*ap', u'age*w', u'age*gluc', u'p_chol',\n",
    "       u'p_gluc', u'p_ch+gl']"
   ]
  },
  {
   "cell_type": "markdown",
   "metadata": {},
   "source": [
    "# Train_Test"
   ]
  },
  {
   "cell_type": "code",
   "execution_count": 180,
   "metadata": {
    "collapsed": true
   },
   "outputs": [],
   "source": [
    "x_train = data[:N_train].drop(['id', 'cardio'], 1)\n",
    "y_train = data[:N_train]['cardio']\n",
    "\n",
    "x_test = data[N_train:].drop(['id', 'cardio'], 1)\n",
    "\n",
    "#x_train = data.loc[:int(0.8*N_train)-1].drop(['id', 'cardio'], 1)\n",
    "#y_train = data.loc[:int(0.8*N_train)-1]['cardio']\n",
    "\n",
    "#x_test = data.loc[int(0.8*N_train):N_train-1].drop(['id', 'cardio'], 1)\n",
    "#y_test = data.loc[int(0.8*N_train):N_train-1]['cardio']"
   ]
  },
  {
   "cell_type": "code",
   "execution_count": 181,
   "metadata": {},
   "outputs": [
    {
     "data": {
      "text/html": [
       "<div>\n",
       "<style>\n",
       "    .dataframe thead tr:only-child th {\n",
       "        text-align: right;\n",
       "    }\n",
       "\n",
       "    .dataframe thead th {\n",
       "        text-align: left;\n",
       "    }\n",
       "\n",
       "    .dataframe tbody tr th {\n",
       "        vertical-align: top;\n",
       "    }\n",
       "</style>\n",
       "<table border=\"1\" class=\"dataframe\">\n",
       "  <thead>\n",
       "    <tr style=\"text-align: right;\">\n",
       "      <th></th>\n",
       "      <th>active</th>\n",
       "      <th>age</th>\n",
       "      <th>alco</th>\n",
       "      <th>ap_hi</th>\n",
       "      <th>ap_lo</th>\n",
       "      <th>cholesterol</th>\n",
       "      <th>gender</th>\n",
       "      <th>gluc</th>\n",
       "      <th>height</th>\n",
       "      <th>smoke</th>\n",
       "      <th>...</th>\n",
       "      <th>age*chol</th>\n",
       "      <th>age*gluc</th>\n",
       "      <th>p_chol</th>\n",
       "      <th>p_gluc</th>\n",
       "      <th>p_ch+gl</th>\n",
       "      <th>age+smoke</th>\n",
       "      <th>age+active</th>\n",
       "      <th>age+alco</th>\n",
       "      <th>age+chol</th>\n",
       "      <th>smoke+chol</th>\n",
       "    </tr>\n",
       "  </thead>\n",
       "  <tbody>\n",
       "    <tr>\n",
       "      <th>0</th>\n",
       "      <td>NaN</td>\n",
       "      <td>18393.0</td>\n",
       "      <td>NaN</td>\n",
       "      <td>110.0</td>\n",
       "      <td>80.0</td>\n",
       "      <td>1</td>\n",
       "      <td>2.0</td>\n",
       "      <td>1</td>\n",
       "      <td>168.0</td>\n",
       "      <td>0.0</td>\n",
       "      <td>...</td>\n",
       "      <td>18393.0</td>\n",
       "      <td>18393.0</td>\n",
       "      <td>0.440107</td>\n",
       "      <td>0.48059</td>\n",
       "      <td>0.434911</td>\n",
       "      <td>0</td>\n",
       "      <td>0</td>\n",
       "      <td>0</td>\n",
       "      <td>0</td>\n",
       "      <td>0</td>\n",
       "    </tr>\n",
       "    <tr>\n",
       "      <th>1</th>\n",
       "      <td>NaN</td>\n",
       "      <td>20228.0</td>\n",
       "      <td>NaN</td>\n",
       "      <td>140.0</td>\n",
       "      <td>90.0</td>\n",
       "      <td>3</td>\n",
       "      <td>1.0</td>\n",
       "      <td>1</td>\n",
       "      <td>156.0</td>\n",
       "      <td>0.0</td>\n",
       "      <td>...</td>\n",
       "      <td>60684.0</td>\n",
       "      <td>20228.0</td>\n",
       "      <td>0.765435</td>\n",
       "      <td>0.48059</td>\n",
       "      <td>0.821236</td>\n",
       "      <td>1</td>\n",
       "      <td>1</td>\n",
       "      <td>1</td>\n",
       "      <td>1</td>\n",
       "      <td>1</td>\n",
       "    </tr>\n",
       "    <tr>\n",
       "      <th>2</th>\n",
       "      <td>0.0</td>\n",
       "      <td>18857.0</td>\n",
       "      <td>0.0</td>\n",
       "      <td>130.0</td>\n",
       "      <td>70.0</td>\n",
       "      <td>3</td>\n",
       "      <td>1.0</td>\n",
       "      <td>1</td>\n",
       "      <td>165.0</td>\n",
       "      <td>0.0</td>\n",
       "      <td>...</td>\n",
       "      <td>56571.0</td>\n",
       "      <td>18857.0</td>\n",
       "      <td>0.765435</td>\n",
       "      <td>0.48059</td>\n",
       "      <td>0.821236</td>\n",
       "      <td>2</td>\n",
       "      <td>2</td>\n",
       "      <td>2</td>\n",
       "      <td>2</td>\n",
       "      <td>1</td>\n",
       "    </tr>\n",
       "    <tr>\n",
       "      <th>3</th>\n",
       "      <td>1.0</td>\n",
       "      <td>17623.0</td>\n",
       "      <td>0.0</td>\n",
       "      <td>150.0</td>\n",
       "      <td>100.0</td>\n",
       "      <td>1</td>\n",
       "      <td>2.0</td>\n",
       "      <td>1</td>\n",
       "      <td>169.0</td>\n",
       "      <td>0.0</td>\n",
       "      <td>...</td>\n",
       "      <td>17623.0</td>\n",
       "      <td>17623.0</td>\n",
       "      <td>0.440107</td>\n",
       "      <td>0.48059</td>\n",
       "      <td>0.434911</td>\n",
       "      <td>3</td>\n",
       "      <td>3</td>\n",
       "      <td>3</td>\n",
       "      <td>3</td>\n",
       "      <td>0</td>\n",
       "    </tr>\n",
       "    <tr>\n",
       "      <th>4</th>\n",
       "      <td>0.0</td>\n",
       "      <td>17474.0</td>\n",
       "      <td>0.0</td>\n",
       "      <td>100.0</td>\n",
       "      <td>60.0</td>\n",
       "      <td>1</td>\n",
       "      <td>1.0</td>\n",
       "      <td>1</td>\n",
       "      <td>156.0</td>\n",
       "      <td>NaN</td>\n",
       "      <td>...</td>\n",
       "      <td>17474.0</td>\n",
       "      <td>17474.0</td>\n",
       "      <td>0.440107</td>\n",
       "      <td>0.48059</td>\n",
       "      <td>0.434911</td>\n",
       "      <td>4</td>\n",
       "      <td>4</td>\n",
       "      <td>4</td>\n",
       "      <td>4</td>\n",
       "      <td>2</td>\n",
       "    </tr>\n",
       "  </tbody>\n",
       "</table>\n",
       "<p>5 rows × 37 columns</p>\n",
       "</div>"
      ],
      "text/plain": [
       "   active      age  alco  ap_hi  ap_lo  cholesterol  gender  gluc  height  \\\n",
       "0     NaN  18393.0   NaN  110.0   80.0            1     2.0     1   168.0   \n",
       "1     NaN  20228.0   NaN  140.0   90.0            3     1.0     1   156.0   \n",
       "2     0.0  18857.0   0.0  130.0   70.0            3     1.0     1   165.0   \n",
       "3     1.0  17623.0   0.0  150.0  100.0            1     2.0     1   169.0   \n",
       "4     0.0  17474.0   0.0  100.0   60.0            1     1.0     1   156.0   \n",
       "\n",
       "   smoke     ...      age*chol  age*gluc    p_chol   p_gluc   p_ch+gl  \\\n",
       "0    0.0     ...       18393.0   18393.0  0.440107  0.48059  0.434911   \n",
       "1    0.0     ...       60684.0   20228.0  0.765435  0.48059  0.821236   \n",
       "2    0.0     ...       56571.0   18857.0  0.765435  0.48059  0.821236   \n",
       "3    0.0     ...       17623.0   17623.0  0.440107  0.48059  0.434911   \n",
       "4    NaN     ...       17474.0   17474.0  0.440107  0.48059  0.434911   \n",
       "\n",
       "   age+smoke  age+active  age+alco  age+chol  smoke+chol  \n",
       "0          0           0         0         0           0  \n",
       "1          1           1         1         1           1  \n",
       "2          2           2         2         2           1  \n",
       "3          3           3         3         3           0  \n",
       "4          4           4         4         4           2  \n",
       "\n",
       "[5 rows x 37 columns]"
      ]
     },
     "execution_count": 181,
     "metadata": {},
     "output_type": "execute_result"
    }
   ],
   "source": [
    "x_train.head()"
   ]
  },
  {
   "cell_type": "markdown",
   "metadata": {},
   "source": [
    "# CV_and_Train"
   ]
  },
  {
   "cell_type": "code",
   "execution_count": 162,
   "metadata": {
    "collapsed": true
   },
   "outputs": [],
   "source": [
    "lgb_params = {\n",
    "    'objective' : 'binary',\n",
    "    'metric' : 'binary_logloss',\n",
    "    'num_leaves' : 16,\n",
    "    'max_depth' : 5,\n",
    "    'learning_rate' : 0.03,\n",
    "    'feature_fraction' : 0.9,\n",
    "    'bagging_fraction' : 0.9,\n",
    "    'bagging_freq' : 3,\n",
    "    'max_bin' : 500,\n",
    "}"
   ]
  },
  {
   "cell_type": "code",
   "execution_count": 164,
   "metadata": {
    "collapsed": true
   },
   "outputs": [],
   "source": [
    "ltrain = lgb.Dataset(x_train[use_feat], y_train)"
   ]
  },
  {
   "cell_type": "code",
   "execution_count": 165,
   "metadata": {},
   "outputs": [
    {
     "name": "stdout",
     "output_type": "stream",
     "text": [
      "[10]\tcv_agg's binary_logloss: 0.630679 + 0.000604427\n",
      "[20]\tcv_agg's binary_logloss: 0.594828 + 0.000917266\n",
      "[30]\tcv_agg's binary_logloss: 0.573401 + 0.0012272\n",
      "[40]\tcv_agg's binary_logloss: 0.560325 + 0.00146832\n",
      "[50]\tcv_agg's binary_logloss: 0.55235 + 0.00158572\n",
      "[60]\tcv_agg's binary_logloss: 0.547401 + 0.00171912\n",
      "[70]\tcv_agg's binary_logloss: 0.54436 + 0.00180847\n",
      "[80]\tcv_agg's binary_logloss: 0.542387 + 0.00184182\n",
      "[90]\tcv_agg's binary_logloss: 0.541079 + 0.00184814\n",
      "[100]\tcv_agg's binary_logloss: 0.540259 + 0.00190959\n",
      "[110]\tcv_agg's binary_logloss: 0.539665 + 0.00191392\n",
      "[120]\tcv_agg's binary_logloss: 0.539263 + 0.00188799\n",
      "[130]\tcv_agg's binary_logloss: 0.538941 + 0.00186675\n",
      "[140]\tcv_agg's binary_logloss: 0.538723 + 0.00184254\n",
      "[150]\tcv_agg's binary_logloss: 0.538535 + 0.00180427\n",
      "[160]\tcv_agg's binary_logloss: 0.538397 + 0.00175881\n",
      "[170]\tcv_agg's binary_logloss: 0.538338 + 0.00172729\n",
      "[180]\tcv_agg's binary_logloss: 0.538302 + 0.00171562\n",
      "[190]\tcv_agg's binary_logloss: 0.538248 + 0.00164059\n",
      "[200]\tcv_agg's binary_logloss: 0.538214 + 0.00164466\n",
      "[210]\tcv_agg's binary_logloss: 0.538191 + 0.00160553\n",
      "[220]\tcv_agg's binary_logloss: 0.538185 + 0.00159341\n",
      "[230]\tcv_agg's binary_logloss: 0.5382 + 0.00157763\n",
      "[240]\tcv_agg's binary_logloss: 0.538177 + 0.00155952\n",
      "[250]\tcv_agg's binary_logloss: 0.538193 + 0.00153481\n",
      "[260]\tcv_agg's binary_logloss: 0.538207 + 0.00152063\n"
     ]
    }
   ],
   "source": [
    "cv_result = lgb.cv(lgb_params, ltrain, num_boost_round=1000, nfold=5, \n",
    "                   early_stopping_rounds=20, verbose_eval=10)"
   ]
  },
  {
   "cell_type": "code",
   "execution_count": null,
   "metadata": {
    "collapsed": true
   },
   "outputs": [],
   "source": []
  },
  {
   "cell_type": "code",
   "execution_count": 61,
   "metadata": {
    "collapsed": true
   },
   "outputs": [],
   "source": [
    "dtrain = xgb.DMatrix(x_train[use_feat], y_train)\n",
    "dtest  = xgb.DMatrix(x_test[use_feat])"
   ]
  },
  {
   "cell_type": "code",
   "execution_count": 62,
   "metadata": {
    "collapsed": true
   },
   "outputs": [],
   "source": [
    "xgb_params = {\n",
    "    'objective' : 'binary:logistic',\n",
    "    'eval_metric' : 'logloss',\n",
    "    'max_depth' : 5,\n",
    "    'eta' : 0.02,\n",
    "    'subsample' : 0.9,\n",
    "    'colsample_bytree' : 0.9,\n",
    "}"
   ]
  },
  {
   "cell_type": "code",
   "execution_count": 63,
   "metadata": {},
   "outputs": [
    {
     "name": "stdout",
     "output_type": "stream",
     "text": [
      "[0]\ttrain-logloss:0.687685+1.4716e-05\ttest-logloss:0.687744+3.95242e-05\n",
      "[10]\ttrain-logloss:0.643344+0.00021295\ttest-logloss:0.643983+0.000333243\n",
      "[20]\ttrain-logloss:0.61254+0.000308309\ttest-logloss:0.613746+0.000621524\n",
      "[30]\ttrain-logloss:0.590713+0.000358464\ttest-logloss:0.592444+0.000832255\n",
      "[40]\ttrain-logloss:0.575141+0.000407724\ttest-logloss:0.577409+0.000983452\n",
      "[50]\ttrain-logloss:0.563874+0.000410834\ttest-logloss:0.56666+0.00114744\n",
      "[60]\ttrain-logloss:0.555636+0.00042872\ttest-logloss:0.558922+0.00125901\n",
      "[70]\ttrain-logloss:0.549557+0.00043677\ttest-logloss:0.553373+0.00135335\n",
      "[80]\ttrain-logloss:0.545004+0.000432822\ttest-logloss:0.549362+0.00142716\n",
      "[90]\ttrain-logloss:0.541587+0.000431577\ttest-logloss:0.546444+0.00151441\n",
      "[100]\ttrain-logloss:0.538927+0.000442727\ttest-logloss:0.544302+0.00156018\n",
      "[110]\ttrain-logloss:0.536872+0.000456215\ttest-logloss:0.54276+0.00160766\n",
      "[120]\ttrain-logloss:0.535187+0.00045194\ttest-logloss:0.54164+0.00165724\n",
      "[130]\ttrain-logloss:0.533794+0.000454131\ttest-logloss:0.540762+0.00169455\n",
      "[140]\ttrain-logloss:0.532613+0.000447529\ttest-logloss:0.540133+0.00171356\n",
      "[150]\ttrain-logloss:0.53155+0.000439175\ttest-logloss:0.539639+0.00172998\n",
      "[160]\ttrain-logloss:0.530623+0.000422439\ttest-logloss:0.539253+0.00173065\n",
      "[170]\ttrain-logloss:0.529799+0.000436808\ttest-logloss:0.538956+0.00172233\n",
      "[180]\ttrain-logloss:0.529036+0.000425188\ttest-logloss:0.538746+0.0017098\n",
      "[190]\ttrain-logloss:0.528348+0.000413469\ttest-logloss:0.538577+0.00171047\n",
      "[200]\ttrain-logloss:0.527706+0.000407279\ttest-logloss:0.538429+0.00169933\n",
      "[210]\ttrain-logloss:0.52711+0.000411904\ttest-logloss:0.538305+0.00167939\n",
      "[220]\ttrain-logloss:0.526539+0.000391864\ttest-logloss:0.538202+0.00166297\n",
      "[230]\ttrain-logloss:0.526019+0.000410367\ttest-logloss:0.538149+0.00165891\n",
      "[240]\ttrain-logloss:0.525533+0.000403696\ttest-logloss:0.538055+0.00164774\n",
      "[250]\ttrain-logloss:0.525038+0.000412816\ttest-logloss:0.538009+0.00161861\n",
      "[260]\ttrain-logloss:0.524564+0.000406593\ttest-logloss:0.537986+0.00162214\n",
      "[270]\ttrain-logloss:0.524119+0.000393676\ttest-logloss:0.537961+0.00162656\n",
      "[280]\ttrain-logloss:0.523689+0.000385543\ttest-logloss:0.537933+0.00160197\n",
      "[290]\ttrain-logloss:0.523246+0.000406514\ttest-logloss:0.537913+0.00157852\n",
      "[300]\ttrain-logloss:0.522843+0.000409957\ttest-logloss:0.53791+0.00155812\n",
      "[310]\ttrain-logloss:0.522455+0.000424521\ttest-logloss:0.537909+0.00155319\n"
     ]
    }
   ],
   "source": [
    "cv_result = xgb.cv(xgb_params, dtrain, num_boost_round=1000, nfold=5, \n",
    "                   early_stopping_rounds=20, verbose_eval=10)"
   ]
  },
  {
   "cell_type": "markdown",
   "metadata": {},
   "source": [
    "# Feature_Selection"
   ]
  },
  {
   "cell_type": "code",
   "execution_count": 166,
   "metadata": {
    "collapsed": true
   },
   "outputs": [],
   "source": [
    "n_splits = 10\n",
    "\n",
    "def get_score(x_train, y_train, n_splits):\n",
    "    kfold = KFold(n_splits=n_splits)\n",
    "    y_oof_lgb  = np.empty(len(x_train))\n",
    "\n",
    "    for train_idx, test_idx in kfold.split(x_train):\n",
    "        \n",
    "        ltrain_cv = lgb.Dataset(x_train.loc[train_idx], y_train[train_idx])\n",
    "        ltest_cv  = lgb.Dataset(x_train.loc[test_idx], y_train[test_idx])\n",
    "        eval_list = ltest_cv\n",
    "        \n",
    "        lgbm = lgb.train(lgb_params, ltrain_cv, num_boost_round = 1000, \n",
    "                          valid_sets=eval_list, early_stopping_rounds = 20, verbose_eval = 0)\n",
    "        \n",
    "        y_oof_lgb[test_idx] = lgbm.predict(x_train.loc[test_idx])\n",
    "    return log_loss(y_train, y_oof_lgb)"
   ]
  },
  {
   "cell_type": "code",
   "execution_count": 167,
   "metadata": {},
   "outputs": [
    {
     "name": "stderr",
     "output_type": "stream",
     "text": [
      "\n",
      "  0%|          | 0/20 [00:00<?, ?it/s]\u001b[A\n"
     ]
    },
    {
     "name": "stdout",
     "output_type": "stream",
     "text": [
      "0.538670290378\n",
      "0.538148687942\n",
      "0.538151785665\n",
      "0.537908448153\n",
      "0.5379024734\n",
      "0.538311542877\n",
      "0.538123730837\n",
      "0.53792961142\n",
      "0.537835285122\n",
      "0.538304823015\n",
      "0.537950439503\n",
      "0.538135973055\n",
      "0.53822088632\n",
      "0.538163080233\n",
      "0.538030012119\n",
      "0.53821162311\n",
      "0.538156707604\n",
      "0.537967154361\n",
      "0.538354825452\n",
      "0.538089506979\n",
      "0.538091939106\n",
      "0.539418463994\n",
      "0.539103934533\n",
      "0.53791060822\n",
      "0.538716967225\n",
      "0.538090284115\n",
      "0.538104069846\n",
      "0.538356364969\n",
      "0.538350500447\n",
      "0.538032480494\n",
      "0.538107293914\n",
      "0.538002714425\n",
      "0.538015881354\n"
     ]
    },
    {
     "name": "stderr",
     "output_type": "stream",
     "text": [
      "\n",
      "\r",
      "  5%|▌         | 1/20 [11:28<3:38:01, 688.52s/it]"
     ]
    },
    {
     "name": "stdout",
     "output_type": "stream",
     "text": [
      "0.538415215854\n",
      "epoch =  1\n",
      "[ 0.53783529  0.53790247  0.53790845  0.53791061  0.53792961]\n"
     ]
    },
    {
     "name": "stderr",
     "output_type": "stream",
     "text": [
      "\u001b[A"
     ]
    },
    {
     "name": "stdout",
     "output_type": "stream",
     "text": [
      "0.538211780417\n",
      "0.5385630095\n",
      "0.538559952266\n",
      "0.539044570983\n",
      "0.538086136638\n",
      "0.538115863923\n",
      "0.538118065129\n",
      "0.537989009904\n",
      "0.538297043506\n",
      "0.53793920724\n",
      "0.53814251483\n",
      "0.538146022366\n",
      "0.537959919933\n",
      "0.538194617277\n",
      "0.539021679485\n",
      "0.539480674737\n",
      "0.538663147614\n",
      "0.538219389883\n",
      "0.537940597065\n",
      "0.538521373177\n",
      "0.53810397422\n",
      "0.538000252418\n",
      "0.53803416799\n",
      "0.538381545964\n",
      "0.538112763305\n",
      "0.538202978536\n",
      "0.538130527984\n",
      "0.538337046186\n",
      "0.53806828826\n",
      "0.537937096722\n",
      "0.537777847081\n",
      "0.538475551351\n",
      "0.53847563292\n"
     ]
    },
    {
     "name": "stderr",
     "output_type": "stream",
     "text": [
      "\n",
      "\r",
      " 10%|█         | 2/20 [21:41<3:19:46, 665.91s/it]"
     ]
    },
    {
     "name": "stdout",
     "output_type": "stream",
     "text": [
      "0.538064712499\n",
      "epoch =  2\n",
      "[ 0.53777785  0.53783529  0.53790247  0.53790845  0.53791061]\n"
     ]
    },
    {
     "name": "stderr",
     "output_type": "stream",
     "text": [
      "\u001b[A"
     ]
    },
    {
     "name": "stdout",
     "output_type": "stream",
     "text": [
      "0.537944267816\n",
      "0.537962237813\n",
      "0.537839483989\n",
      "0.538693422825\n",
      "0.537979570953\n",
      "0.538049989504\n",
      "0.53849376852\n",
      "0.537941360336\n",
      "0.538171909941\n",
      "0.538025938329\n",
      "0.5380815203\n",
      "0.538112208159\n",
      "0.538063723357\n",
      "0.538276328176\n",
      "0.538221656953\n",
      "0.538365629781\n",
      "0.538048612518\n",
      "0.537979048878\n",
      "0.53805149285\n",
      "0.538821584117\n",
      "0.539359685815\n",
      "0.538077339043\n",
      "0.538317549406\n",
      "0.538263844704\n",
      "0.538261765727\n",
      "0.538188069884\n",
      "0.537786157056\n",
      "0.538037833483\n",
      "0.538098447137\n",
      "0.537966630834\n",
      "0.538259845304\n",
      "0.537985140906\n",
      "0.53801346839\n",
      "0.537986679114\n",
      "0.538172297894\n"
     ]
    },
    {
     "name": "stderr",
     "output_type": "stream",
     "text": [
      "\n",
      "\r",
      " 15%|█▌        | 3/20 [32:47<3:08:42, 666.03s/it]"
     ]
    },
    {
     "name": "stdout",
     "output_type": "stream",
     "text": [
      "0.538057092083\n",
      "epoch =  3\n",
      "[ 0.53777785  0.53778616  0.53783529  0.53783948  0.53790247]\n"
     ]
    },
    {
     "name": "stderr",
     "output_type": "stream",
     "text": [
      "\u001b[A"
     ]
    },
    {
     "name": "stdout",
     "output_type": "stream",
     "text": [
      "0.537860350943\n",
      "0.537836589539\n",
      "0.537966797404\n",
      "0.537812061235\n",
      "0.537757489618\n",
      "0.538978263222\n",
      "0.53901358803\n",
      "0.538112696598\n",
      "0.537885472076\n",
      "0.53888482833\n",
      "0.538337304234\n",
      "0.538038110457\n",
      "0.538007142849\n",
      "0.538391540767\n",
      "0.538156823172\n",
      "0.538206981197\n",
      "0.538220523097\n",
      "0.538079491596\n",
      "0.53796016514\n",
      "0.537763773793\n",
      "0.537901189277\n",
      "0.53796240765\n",
      "0.538057479785\n",
      "0.53791096683\n",
      "0.53796266876\n",
      "0.538058626546\n",
      "0.537753573386\n",
      "0.53824592016\n",
      "0.538029080246\n",
      "0.538454697403\n",
      "0.538906686311\n",
      "0.538021894629\n",
      "0.538681827714\n",
      "0.538037966223\n"
     ]
    },
    {
     "name": "stderr",
     "output_type": "stream",
     "text": [
      "\n",
      "\r",
      " 20%|██        | 4/20 [44:01<2:58:14, 668.38s/it]"
     ]
    },
    {
     "name": "stdout",
     "output_type": "stream",
     "text": [
      "0.53837546942\n",
      "epoch =  4\n",
      "[ 0.53775357  0.53775749  0.53776377  0.53777785  0.53778616]\n"
     ]
    },
    {
     "name": "stderr",
     "output_type": "stream",
     "text": [
      "\u001b[A"
     ]
    },
    {
     "name": "stdout",
     "output_type": "stream",
     "text": [
      "0.537841129152\n",
      "0.537769595522\n",
      "0.53780173133\n",
      "0.537845882247\n",
      "0.538598388793\n",
      "0.537757489618\n",
      "0.538308223559\n",
      "0.537995643827\n",
      "0.537987760348\n",
      "0.537804462281\n",
      "0.53787370031\n",
      "0.53789320448\n",
      "0.538093217992\n",
      "0.537853395635\n",
      "0.538340948041\n",
      "0.538078820458\n",
      "0.538144431498\n",
      "0.537994062742\n",
      "0.537794914346\n",
      "0.537893862014\n",
      "0.537884982055\n",
      "0.538019196078\n",
      "0.537856798492\n",
      "0.53851798562\n",
      "0.538007028263\n",
      "0.53781944524\n",
      "0.537952148482\n",
      "0.537869948581\n",
      "0.538007967071\n",
      "0.538328055643\n",
      "0.53805558341\n",
      "0.537827548553\n",
      "0.538025991347\n",
      "0.538301855971\n"
     ]
    },
    {
     "name": "stderr",
     "output_type": "stream",
     "text": [
      "\n",
      "\r",
      " 25%|██▌       | 5/20 [54:27<2:43:53, 655.58s/it]"
     ]
    },
    {
     "name": "stdout",
     "output_type": "stream",
     "text": [
      "0.538052394222\n",
      "epoch =  5\n",
      "[ 0.53775357  0.53775749  0.53775749  0.53776377  0.5377696 ]\n"
     ]
    },
    {
     "name": "stderr",
     "output_type": "stream",
     "text": [
      "\u001b[A"
     ]
    },
    {
     "name": "stdout",
     "output_type": "stream",
     "text": [
      "0.53784081085\n",
      "0.537942343176\n",
      "0.537700992161\n",
      "0.53799092166\n",
      "0.537858065525\n",
      "0.537752001514\n",
      "0.537803895841\n",
      "0.537740175624\n",
      "0.537940589991\n",
      "0.537887542977\n",
      "0.53784109046\n",
      "0.537824509787\n",
      "0.537820271855\n",
      "0.537937326309\n",
      "0.53827080379\n",
      "0.53783199366\n",
      "0.53786735678\n",
      "0.538021030862\n",
      "0.537864402547\n",
      "0.537826823168\n",
      "0.537604014985\n",
      "0.537917629868\n",
      "0.537857776586\n",
      "0.537944018415\n",
      "0.537917140773\n",
      "0.537845356195\n",
      "0.537910704548\n",
      "0.53777055569\n",
      "0.538358867903\n",
      "0.538060775186\n",
      "0.538180577477\n",
      "0.53837626779\n"
     ]
    },
    {
     "name": "stderr",
     "output_type": "stream",
     "text": [
      "\n",
      "\r",
      " 30%|███       | 6/20 [1:04:08<2:27:45, 633.27s/it]"
     ]
    },
    {
     "name": "stdout",
     "output_type": "stream",
     "text": [
      "0.5380581408\n",
      "epoch =  6\n",
      "[ 0.53760401  0.53770099  0.53774018  0.537752    0.53775357]\n"
     ]
    },
    {
     "name": "stderr",
     "output_type": "stream",
     "text": [
      "\u001b[A"
     ]
    },
    {
     "name": "stdout",
     "output_type": "stream",
     "text": [
      "0.537603481777\n",
      "0.537867528263\n",
      "0.537838491686\n",
      "0.537710069602\n",
      "0.53775382745\n",
      "0.537679499394\n",
      "0.537795458311\n",
      "0.53780376259\n",
      "0.537818789084\n",
      "0.537788337511\n",
      "0.537928585964\n",
      "0.537987399946\n",
      "0.537697434287\n",
      "0.538068293295\n",
      "0.537729614209\n",
      "0.537814348045\n",
      "0.538338107352\n",
      "0.537865863144\n",
      "0.538071863152\n",
      "0.537782012899\n",
      "0.537990494349\n",
      "0.538057189187\n",
      "0.538245247646\n",
      "0.537734133555\n",
      "0.537870295323\n",
      "0.537784677611\n",
      "0.537781547839\n",
      "0.539120524065\n",
      "0.538475199483\n",
      "0.53812243932\n",
      "0.53823574109\n",
      "0.538084240833\n"
     ]
    },
    {
     "name": "stderr",
     "output_type": "stream",
     "text": [
      "\n",
      "\r",
      " 35%|███▌      | 7/20 [1:14:09<2:15:03, 623.36s/it]"
     ]
    },
    {
     "name": "stdout",
     "output_type": "stream",
     "text": [
      "0.53820964968\n",
      "epoch =  7\n",
      "[ 0.53760348  0.53760401  0.5376795   0.53769743  0.53770099]\n"
     ]
    },
    {
     "name": "stderr",
     "output_type": "stream",
     "text": [
      "\u001b[A"
     ]
    },
    {
     "name": "stdout",
     "output_type": "stream",
     "text": [
      "0.537723305524\n",
      "0.537724287663\n",
      "0.537810274595\n",
      "0.537886468271\n",
      "0.537828324825\n",
      "0.537721880449\n",
      "0.537724928275\n",
      "0.537654893613\n",
      "0.537785028807\n",
      "0.537906888313\n",
      "0.537810099259\n",
      "0.537880407773\n",
      "0.537913349418\n",
      "0.537822800247\n",
      "0.537750756269\n",
      "0.537665174516\n",
      "0.537790609252\n",
      "0.537761659259\n",
      "0.53787079457\n",
      "0.537735991238\n",
      "0.537947725192\n",
      "0.537771423821\n",
      "0.537765242959\n",
      "0.537819917147\n",
      "0.537924335484\n",
      "0.53776584038\n",
      "0.537735111035\n",
      "0.537998221413\n",
      "0.537894486869\n",
      "0.538037086894\n",
      "0.538993316683\n",
      "0.538111068319\n"
     ]
    },
    {
     "name": "stderr",
     "output_type": "stream",
     "text": [
      "\n",
      "\r",
      " 40%|████      | 8/20 [1:24:15<2:03:39, 618.32s/it]"
     ]
    },
    {
     "name": "stdout",
     "output_type": "stream",
     "text": [
      "0.538838567324\n",
      "epoch =  8\n",
      "[ 0.53760348  0.53760401  0.53765489  0.53766517  0.5376795 ]\n"
     ]
    },
    {
     "name": "stderr",
     "output_type": "stream",
     "text": [
      "\u001b[A"
     ]
    },
    {
     "name": "stdout",
     "output_type": "stream",
     "text": [
      "0.537783372313\n",
      "0.53774994156\n",
      "0.537712084696\n",
      "0.537661134121\n",
      "0.53786633616\n",
      "0.537740175624\n",
      "0.537624946195\n",
      "0.537864880262\n",
      "0.537954233702\n",
      "0.537730813265\n",
      "0.5378156918\n",
      "0.537711069966\n",
      "0.537789090629\n",
      "0.537639308976\n",
      "0.53783107248\n",
      "0.537910337494\n",
      "0.537957296874\n",
      "0.537874428003\n",
      "0.537859662456\n",
      "0.537904701198\n",
      "0.537742492018\n",
      "0.537682248915\n",
      "0.537822367233\n",
      "0.537744258447\n",
      "0.537634294156\n",
      "0.537773379983\n",
      "0.537779484221\n",
      "0.538286863158\n",
      "0.538033138615\n",
      "0.539073637507\n",
      "0.538007687469\n",
      "0.538452991272\n"
     ]
    },
    {
     "name": "stderr",
     "output_type": "stream",
     "text": [
      "\n",
      "\r",
      " 45%|████▌     | 9/20 [1:34:05<1:51:48, 609.88s/it]"
     ]
    },
    {
     "name": "stdout",
     "output_type": "stream",
     "text": [
      "0.537984411744\n",
      "epoch =  9\n",
      "[ 0.53760348  0.53760401  0.53762495  0.53763429  0.53763931]\n"
     ]
    },
    {
     "name": "stderr",
     "output_type": "stream",
     "text": [
      "\u001b[A"
     ]
    },
    {
     "name": "stdout",
     "output_type": "stream",
     "text": [
      "0.537836352755\n",
      "0.537603481777\n",
      "0.537680706735\n",
      "0.53770521821\n",
      "0.537653025242\n",
      "0.538047826904\n",
      "0.537603481777\n",
      "0.537770195577\n",
      "0.537740206328\n",
      "0.537721608199\n",
      "0.53772562542\n",
      "0.537681204875\n",
      "0.537883563002\n",
      "0.537472257406\n",
      "0.537734133555\n",
      "0.537852596571\n",
      "0.537730813265\n",
      "0.537768788191\n",
      "0.53798838445\n",
      "0.537818029878\n",
      "0.537807468225\n",
      "0.537809186584\n",
      "0.537751592963\n",
      "0.537736654781\n",
      "0.537815524015\n",
      "0.537848859423\n",
      "0.537682822446\n",
      "0.537846871038\n",
      "0.53863011116\n",
      "0.538839974223\n",
      "0.538643939787\n",
      "0.537988949344\n",
      "0.53814064732\n"
     ]
    },
    {
     "name": "stderr",
     "output_type": "stream",
     "text": [
      "\n",
      "\r",
      " 50%|█████     | 10/20 [1:44:10<1:41:24, 608.44s/it]"
     ]
    },
    {
     "name": "stdout",
     "output_type": "stream",
     "text": [
      "0.538120977548\n",
      "epoch =  10\n",
      "[ 0.53747226  0.53760348  0.53760348  0.53760348  0.53760401]\n"
     ]
    },
    {
     "name": "stderr",
     "output_type": "stream",
     "text": [
      "\u001b[A"
     ]
    },
    {
     "name": "stdout",
     "output_type": "stream",
     "text": [
      "0.537885261078\n",
      "0.537643329627\n",
      "0.537639799825\n",
      "0.537751160383\n",
      "0.537691397349\n",
      "0.53767178211\n",
      "0.537612315522\n",
      "0.537728109449\n",
      "0.537617648799\n",
      "0.537604014985\n",
      "0.537770902608\n",
      "0.537622991447\n",
      "0.537691546274\n",
      "0.537864162916\n",
      "0.537830143076\n",
      "0.537931672344\n",
      "0.537724287663\n",
      "0.537830086721\n",
      "0.537736654781\n",
      "0.538021085933\n",
      "0.537743041458\n",
      "0.537849693011\n",
      "0.537634158316\n",
      "0.537758909726\n",
      "0.537816826352\n",
      "0.537816543215\n",
      "0.537690142077\n",
      "0.538136620132\n",
      "0.53847449673\n",
      "0.538095735411\n",
      "0.538241313836\n",
      "0.538113563015\n"
     ]
    },
    {
     "name": "stderr",
     "output_type": "stream",
     "text": [
      "\n",
      "\r",
      " 55%|█████▌    | 11/20 [1:54:01<1:30:28, 603.17s/it]"
     ]
    },
    {
     "name": "stdout",
     "output_type": "stream",
     "text": [
      "0.537952791411\n",
      "epoch =  11\n",
      "[ 0.53747226  0.53760348  0.53760348  0.53760348  0.53760401]\n"
     ]
    },
    {
     "name": "stderr",
     "output_type": "stream",
     "text": [
      "\u001b[A"
     ]
    },
    {
     "name": "stdout",
     "output_type": "stream",
     "text": [
      "0.537588195504\n",
      "0.537622991447\n",
      "0.537741853739\n",
      "0.537726051077\n",
      "0.537571860155\n",
      "0.537665243979\n",
      "0.537596116617\n",
      "0.537657603698\n",
      "0.53769764403\n",
      "0.53761580906\n",
      "0.538408894926\n",
      "0.537816255985\n",
      "0.537479488927\n",
      "0.537677781986\n",
      "0.537761103211\n",
      "0.537682271482\n",
      "0.537889336105\n",
      "0.537709228081\n",
      "0.53767121331\n",
      "0.537671355633\n",
      "0.537951755416\n",
      "0.537583365066\n",
      "0.53766884766\n",
      "0.537527417947\n",
      "0.537740619398\n",
      "0.537757017646\n",
      "0.53828983707\n",
      "0.53817902872\n",
      "0.53905875411\n",
      "0.539014714015\n",
      "0.538497990762\n"
     ]
    },
    {
     "name": "stderr",
     "output_type": "stream",
     "text": [
      "\n",
      "\r",
      " 60%|██████    | 12/20 [2:03:43<1:19:34, 596.84s/it]"
     ]
    },
    {
     "name": "stdout",
     "output_type": "stream",
     "text": [
      "0.538183448602\n",
      "epoch =  12\n",
      "[ 0.53747226  0.53747949  0.53752742  0.53757186  0.53758337]\n"
     ]
    },
    {
     "name": "stderr",
     "output_type": "stream",
     "text": [
      "\u001b[A"
     ]
    },
    {
     "name": "stdout",
     "output_type": "stream",
     "text": [
      "0.537639799825\n",
      "0.537621066096\n",
      "0.537758396736\n",
      "0.537683762167\n",
      "0.539686561234\n",
      "0.537672735183\n",
      "0.537627072449\n",
      "0.537642651914\n",
      "0.537690480272\n",
      "0.53777282088\n",
      "0.537673392182\n",
      "0.537483162908\n",
      "0.537578863343\n",
      "0.537876334242\n",
      "0.537597463709\n",
      "0.537604014985\n",
      "0.537728032994\n",
      "0.537720176399\n",
      "0.537905215067\n",
      "0.537649250774\n",
      "0.537694942338\n",
      "0.537732244949\n",
      "0.537746019216\n",
      "0.537755821003\n",
      "0.537694573648\n",
      "0.53771206721\n",
      "0.538554612798\n",
      "0.53781440155\n",
      "0.538573250794\n",
      "0.537921231965\n",
      "0.537963803893\n"
     ]
    },
    {
     "name": "stderr",
     "output_type": "stream",
     "text": [
      "\n",
      "\r",
      " 65%|██████▌   | 13/20 [2:13:20<1:08:56, 590.95s/it]"
     ]
    },
    {
     "name": "stdout",
     "output_type": "stream",
     "text": [
      "0.537891908063\n",
      "epoch =  13\n",
      "[ 0.53747226  0.53747949  0.53748316  0.53752742  0.53757186]\n"
     ]
    },
    {
     "name": "stderr",
     "output_type": "stream",
     "text": [
      "\u001b[A"
     ]
    },
    {
     "name": "stdout",
     "output_type": "stream",
     "text": [
      "0.537684180451\n",
      "0.537697661416\n",
      "0.537615120034\n",
      "0.537668735416\n",
      "0.537724796053\n",
      "0.537637154348\n",
      "0.537603481777\n",
      "0.537997138926\n",
      "0.537597463709\n",
      "0.537826484094\n",
      "0.537644966179\n",
      "0.537619202613\n",
      "0.537692912331\n",
      "0.537597463709\n",
      "0.537603481777\n",
      "0.537775713878\n",
      "0.537578556664\n",
      "0.537577771119\n",
      "0.537730813265\n",
      "0.537643219853\n",
      "0.537684160099\n",
      "0.537512734635\n",
      "0.537874415386\n",
      "0.537539911734\n",
      "0.537634158316\n",
      "0.537557228551\n",
      "0.537664091946\n",
      "0.537813145216\n",
      "0.538257924954\n",
      "0.53814853304\n",
      "0.538478646975\n",
      "0.538048999573\n",
      "0.537943040185\n"
     ]
    },
    {
     "name": "stderr",
     "output_type": "stream",
     "text": [
      "\n",
      "\r",
      " 70%|███████   | 14/20 [2:23:21<59:23, 593.96s/it]  "
     ]
    },
    {
     "name": "stdout",
     "output_type": "stream",
     "text": [
      "0.538988184235\n",
      "epoch =  14\n",
      "[ 0.53747226  0.53747949  0.53748316  0.53751273  0.53752742]\n"
     ]
    },
    {
     "name": "stderr",
     "output_type": "stream",
     "text": [
      "\u001b[A"
     ]
    },
    {
     "name": "stdout",
     "output_type": "stream",
     "text": [
      "0.537809284453\n",
      "0.537630562987\n",
      "0.537577771119\n",
      "0.537688598213\n",
      "0.537699240725\n",
      "0.537731473688\n",
      "0.537910852669\n",
      "0.537752838383\n",
      "0.537569769877\n",
      "0.537689585498\n",
      "0.537658801547\n",
      "0.53787709631\n",
      "0.53758852487\n",
      "0.537610090799\n",
      "0.537754101049\n",
      "0.537572343419\n",
      "0.537761522154\n",
      "0.537767751616\n",
      "0.537711247678\n",
      "0.537657207498\n",
      "0.537733883516\n",
      "0.537692291935\n",
      "0.538227520014\n",
      "0.537554590874\n",
      "0.537758517272\n",
      "0.538824826284\n",
      "0.538611940195\n",
      "0.538394134575\n",
      "0.537931882048\n",
      "0.537864529997\n"
     ]
    },
    {
     "name": "stderr",
     "output_type": "stream",
     "text": [
      "\n",
      "\r",
      " 75%|███████▌  | 15/20 [2:32:40<48:36, 583.22s/it]"
     ]
    },
    {
     "name": "stdout",
     "output_type": "stream",
     "text": [
      "0.538623127638\n",
      "epoch =  15\n",
      "[ 0.53747226  0.53747949  0.53748316  0.53751273  0.53752742]\n"
     ]
    },
    {
     "name": "stderr",
     "output_type": "stream",
     "text": [
      "\u001b[A"
     ]
    },
    {
     "name": "stdout",
     "output_type": "stream",
     "text": [
      "0.537763215054\n",
      "0.537646957426\n",
      "0.537626904417\n",
      "0.537778455946\n",
      "0.537731732013\n",
      "0.537686297513\n",
      "0.538225170993\n",
      "0.537834661661\n",
      "0.537593562899\n",
      "0.538185474597\n",
      "0.537682875734\n",
      "0.537592914745\n",
      "0.537547154686\n",
      "0.537610090799\n",
      "0.53766981397\n",
      "0.537603481777\n",
      "0.53765776549\n",
      "0.537564487249\n",
      "0.537974250341\n",
      "0.537846740582\n",
      "0.537739743405\n",
      "0.537633386906\n",
      "0.537679065909\n",
      "0.537833804422\n",
      "0.537817704263\n",
      "0.53766983651\n",
      "0.537975976613\n",
      "0.537624946195\n",
      "0.537699240725\n",
      "0.538697500678\n",
      "0.538985928428\n",
      "0.538093124907\n",
      "0.538642795625\n",
      "0.537805366063\n"
     ]
    },
    {
     "name": "stderr",
     "output_type": "stream",
     "text": [
      "\n",
      "\r",
      " 80%|████████  | 16/20 [2:42:55<39:31, 592.87s/it]"
     ]
    },
    {
     "name": "stdout",
     "output_type": "stream",
     "text": [
      "0.53834071505\n",
      "epoch =  16\n",
      "[ 0.53747226  0.53747949  0.53748316  0.53751273  0.53752742]\n"
     ]
    },
    {
     "name": "stderr",
     "output_type": "stream",
     "text": [
      "\u001b[A"
     ]
    },
    {
     "name": "stdout",
     "output_type": "stream",
     "text": [
      "0.537646957426\n",
      "0.537660380656\n",
      "0.537663330885\n",
      "0.537657353852\n",
      "0.5377475878\n",
      "0.537689585498\n",
      "0.53772329161\n",
      "0.537679092267\n",
      "0.537638594241\n",
      "0.537505685257\n",
      "0.537686472468\n",
      "0.537708978014\n",
      "0.537675814019\n",
      "0.537578863343\n",
      "0.537801714456\n",
      "0.537854709298\n",
      "0.537934566154\n",
      "0.537765957808\n",
      "0.537710873576\n",
      "0.537738709985\n",
      "0.537628241322\n",
      "0.537701996391\n",
      "0.537571597106\n",
      "0.537772754249\n",
      "0.537689065083\n",
      "0.537761522154\n",
      "0.537597930914\n",
      "0.538016529718\n",
      "0.539056276568\n",
      "0.539068785245\n",
      "0.538422617986\n",
      "0.538160374499\n"
     ]
    },
    {
     "name": "stderr",
     "output_type": "stream",
     "text": [
      "\n",
      "\r",
      " 85%|████████▌ | 17/20 [2:52:39<29:30, 590.09s/it]"
     ]
    },
    {
     "name": "stdout",
     "output_type": "stream",
     "text": [
      "0.538049160391\n",
      "epoch =  17\n",
      "[ 0.53747226  0.53747949  0.53748316  0.53750569  0.53751273]\n"
     ]
    },
    {
     "name": "stderr",
     "output_type": "stream",
     "text": [
      "\u001b[A"
     ]
    },
    {
     "name": "stdout",
     "output_type": "stream",
     "text": [
      "0.537727210595\n",
      "0.53755932879\n",
      "0.537614838064\n",
      "0.537664336694\n",
      "0.53772591996\n",
      "0.537645077242\n",
      "0.537733812332\n",
      "0.537679136305\n",
      "0.537667046893\n",
      "0.537603481777\n",
      "0.537705052382\n",
      "0.5376688419\n",
      "0.537685550551\n",
      "0.53772739922\n",
      "0.53753626536\n",
      "0.537570600746\n",
      "0.53761263779\n",
      "0.537622362347\n",
      "0.537597463709\n",
      "0.537641750962\n",
      "0.537442569223\n",
      "0.537645940529\n",
      "0.537653025242\n",
      "0.537547154686\n",
      "0.537596116617\n",
      "0.537748346817\n",
      "0.538544278151\n",
      "0.537539781908\n",
      "0.538075498197\n",
      "0.537986750959\n",
      "0.538223730888\n",
      "0.538916371227\n",
      "0.537999108373\n"
     ]
    },
    {
     "name": "stderr",
     "output_type": "stream",
     "text": [
      "\n",
      "\r",
      " 90%|█████████ | 18/20 [3:02:34<19:43, 591.78s/it]"
     ]
    },
    {
     "name": "stdout",
     "output_type": "stream",
     "text": [
      "0.538566898357\n",
      "epoch =  18\n",
      "[ 0.53744257  0.53747226  0.53747949  0.53748316  0.53750569]\n"
     ]
    },
    {
     "name": "stderr",
     "output_type": "stream",
     "text": [
      "\u001b[A"
     ]
    },
    {
     "name": "stdout",
     "output_type": "stream",
     "text": [
      "0.537728820429\n",
      "0.537713110844\n",
      "0.537722486378\n",
      "0.537569719229\n",
      "0.538178911691\n",
      "0.53768577445\n",
      "0.537639732548\n",
      "0.537535738875\n",
      "0.537723345945\n",
      "0.537761140123\n",
      "0.537669247753\n",
      "0.537827648756\n",
      "0.537968383367\n",
      "0.537505685257\n",
      "0.537722706859\n",
      "0.53777282088\n",
      "0.537479488927\n",
      "0.537820378616\n",
      "0.537694400374\n",
      "0.537639702355\n",
      "0.537737388535\n",
      "0.53757732693\n",
      "0.537644264037\n",
      "0.53766321329\n",
      "0.537539781908\n",
      "0.537620829231\n",
      "0.537726450696\n",
      "0.537693089078\n",
      "0.538520204189\n",
      "0.538296237043\n",
      "0.538513775419\n",
      "0.537969589232\n",
      "0.538657624838\n"
     ]
    },
    {
     "name": "stderr",
     "output_type": "stream",
     "text": [
      "\n",
      "\r",
      " 95%|█████████▌| 19/20 [3:12:41<09:56, 596.37s/it]"
     ]
    },
    {
     "name": "stdout",
     "output_type": "stream",
     "text": [
      "0.538018473997\n",
      "epoch =  19\n",
      "[ 0.53744257  0.53747226  0.53747949  0.53747949  0.53748316]\n"
     ]
    },
    {
     "name": "stderr",
     "output_type": "stream",
     "text": [
      "\u001b[A"
     ]
    },
    {
     "name": "stdout",
     "output_type": "stream",
     "text": [
      "0.53767347942\n",
      "0.53757289625\n",
      "0.537575454284\n",
      "0.537483162908\n",
      "0.537655681285\n",
      "0.537706439427\n",
      "0.537547154686\n",
      "0.537691207836\n",
      "0.537554124617\n",
      "0.537894045905\n",
      "0.537587945547\n",
      "0.537575454284\n",
      "0.537632698201\n",
      "0.537598851975\n",
      "0.537693167589\n",
      "0.537607479019\n",
      "0.537590524512\n",
      "0.537678329402\n",
      "0.537619026304\n",
      "0.5375871737\n",
      "0.537632291959\n",
      "0.53764938523\n",
      "0.537578556664\n",
      "0.537717568564\n",
      "0.537486262071\n",
      "0.537709028442\n",
      "0.537695804957\n",
      "0.537575454284\n",
      "0.53829234421\n",
      "0.538245299394\n",
      "0.537986522617\n",
      "0.538240712177\n",
      "0.538143449808\n"
     ]
    },
    {
     "name": "stderr",
     "output_type": "stream",
     "text": [
      "\n",
      "\r",
      "100%|██████████| 20/20 [3:22:40<00:00, 597.12s/it]"
     ]
    },
    {
     "name": "stdout",
     "output_type": "stream",
     "text": [
      "0.538023925032\n",
      "epoch =  20\n",
      "[ 0.53744257  0.53747226  0.53747949  0.53747949  0.53748316]\n"
     ]
    },
    {
     "name": "stderr",
     "output_type": "stream",
     "text": [
      "\u001b[A\n",
      "\u001b[A"
     ]
    }
   ],
   "source": [
    "gen_alg_start = False\n",
    "\n",
    "if gen_alg_start:\n",
    "    # number of epochs\n",
    "    epochs = 20\n",
    "    #initial propability\n",
    "    p0 = 0.8\n",
    "    #crossingover probability\n",
    "    p_cross = 0.5\n",
    "    #mutate probability\n",
    "    p_mut = 0.015\n",
    "    #number of the best samples\n",
    "    N_best = 30\n",
    "    N_features = x_train.shape[1]\n",
    "    #initialization \n",
    "    samples = np.random.binomial(1, p0, ( N_best, N_features)).astype(bool)\n",
    "    \n",
    "    all_features = x_train.columns\n",
    "    scores = np.array([])\n",
    "    \n",
    "    for epoch in tqdm(range(epochs)):\n",
    "        for i in range(N_best):\n",
    "            j = np.random.randint(0, N_best)\n",
    "            cross = np.random.binomial(1, p_cross, N_features).astype(bool)\n",
    "            if (samples[i][cross] != samples[j][cross]).any():\n",
    "                new_sample = np.copy(samples[i])\n",
    "                new_sample[cross] = np.copy(samples[j][cross])\n",
    "                if new_sample.any():\n",
    "                    samples = np.vstack([samples, new_sample])\n",
    "        for i in range(N_best, len(samples)):\n",
    "            mutate = np.random.binomial(1, p_mut, N_features).astype(bool)\n",
    "            samples[i][mutate] = ~samples[i][mutate]\n",
    "        for i in range(int(N_best*0.2)):\n",
    "            new_sample = np.random.binomial(1, p0, N_features).astype(bool)\n",
    "            if new_sample.any():\n",
    "                samples = np.vstack([samples, new_sample])\n",
    "        for i, sample in enumerate(samples[N_best:]):\n",
    "            \n",
    "            score = get_score(x_train[all_features[sample]], y_train, 5)\n",
    "            \n",
    "            print score\n",
    "            \n",
    "            scores = np.append(scores, score)\n",
    "        ind_best = scores.argsort()\n",
    "        print 'epoch = ', epoch+1\n",
    "        print scores[ind_best][:5]\n",
    "        scores = scores[ind_best][:N_best]\n",
    "        samples = samples[ind_best]\n",
    "        samples = samples[:N_best]"
   ]
  },
  {
   "cell_type": "code",
   "execution_count": 169,
   "metadata": {},
   "outputs": [
    {
     "data": {
      "text/plain": [
       "Index([u'active', u'age', u'alco', u'ap_hi', u'ap_lo', u'cholesterol',\n",
       "       u'gender', u'height', u'smoke', u'ap+chol', u'imt', u'ap-', u'ap*',\n",
       "       u'ap+', u'ap/', u'h/w', u'age/ap', u'ap/age', u'age/h', u'age*ap',\n",
       "       u'age*w', u'age*gluc', u'p_ch+gl', u'age+smoke', u'age+active',\n",
       "       u'age+chol', u'smoke+chol'],\n",
       "      dtype='object')"
      ]
     },
     "execution_count": 169,
     "metadata": {},
     "output_type": "execute_result"
    }
   ],
   "source": [
    "all_features[samples[0]]"
   ]
  },
  {
   "cell_type": "markdown",
   "metadata": {},
   "source": [
    "# Train_models"
   ]
  },
  {
   "cell_type": "code",
   "execution_count": 182,
   "metadata": {},
   "outputs": [
    {
     "name": "stdout",
     "output_type": "stream",
     "text": [
      "Train until valid scores didn't improve in 20 rounds.\n",
      "[50]\tvalid_0's binary_logloss: 0.55088\n",
      "[100]\tvalid_0's binary_logloss: 0.537634\n",
      "[150]\tvalid_0's binary_logloss: 0.535627\n",
      "Early stopping, best iteration is:\n",
      "[178]\tvalid_0's binary_logloss: 0.535417\n",
      "Train until valid scores didn't improve in 20 rounds.\n",
      "[50]\tvalid_0's binary_logloss: 0.557262\n",
      "[100]\tvalid_0's binary_logloss: 0.547019\n",
      "[150]\tvalid_0's binary_logloss: 0.545855\n",
      "Early stopping, best iteration is:\n",
      "[166]\tvalid_0's binary_logloss: 0.545645\n",
      "Train until valid scores didn't improve in 20 rounds.\n",
      "[50]\tvalid_0's binary_logloss: 0.548821\n",
      "[100]\tvalid_0's binary_logloss: 0.535366\n",
      "[150]\tvalid_0's binary_logloss: 0.533466\n",
      "[200]\tvalid_0's binary_logloss: 0.533094\n",
      "[250]\tvalid_0's binary_logloss: 0.532826\n",
      "Early stopping, best iteration is:\n",
      "[257]\tvalid_0's binary_logloss: 0.532792\n",
      "Train until valid scores didn't improve in 20 rounds.\n",
      "[50]\tvalid_0's binary_logloss: 0.551341\n",
      "[100]\tvalid_0's binary_logloss: 0.538817\n",
      "[150]\tvalid_0's binary_logloss: 0.536448\n",
      "[200]\tvalid_0's binary_logloss: 0.535703\n",
      "[250]\tvalid_0's binary_logloss: 0.535364\n",
      "Early stopping, best iteration is:\n",
      "[269]\tvalid_0's binary_logloss: 0.535162\n",
      "Train until valid scores didn't improve in 20 rounds.\n",
      "[50]\tvalid_0's binary_logloss: 0.552264\n",
      "[100]\tvalid_0's binary_logloss: 0.539869\n",
      "[150]\tvalid_0's binary_logloss: 0.537823\n",
      "[200]\tvalid_0's binary_logloss: 0.537148\n",
      "[250]\tvalid_0's binary_logloss: 0.536971\n",
      "[300]\tvalid_0's binary_logloss: 0.536951\n",
      "Early stopping, best iteration is:\n",
      "[283]\tvalid_0's binary_logloss: 0.536856\n",
      "Train until valid scores didn't improve in 20 rounds.\n",
      "[50]\tvalid_0's binary_logloss: 0.548546\n",
      "[100]\tvalid_0's binary_logloss: 0.534812\n",
      "[150]\tvalid_0's binary_logloss: 0.53236\n",
      "[200]\tvalid_0's binary_logloss: 0.531597\n",
      "[250]\tvalid_0's binary_logloss: 0.53148\n",
      "Early stopping, best iteration is:\n",
      "[245]\tvalid_0's binary_logloss: 0.531416\n",
      "Train until valid scores didn't improve in 20 rounds.\n",
      "[50]\tvalid_0's binary_logloss: 0.55538\n",
      "[100]\tvalid_0's binary_logloss: 0.543001\n",
      "[150]\tvalid_0's binary_logloss: 0.540798\n",
      "[200]\tvalid_0's binary_logloss: 0.540078\n",
      "[250]\tvalid_0's binary_logloss: 0.539942\n",
      "Early stopping, best iteration is:\n",
      "[267]\tvalid_0's binary_logloss: 0.539812\n",
      "Train until valid scores didn't improve in 20 rounds.\n",
      "[50]\tvalid_0's binary_logloss: 0.54828\n",
      "[100]\tvalid_0's binary_logloss: 0.53436\n",
      "[150]\tvalid_0's binary_logloss: 0.531937\n",
      "[200]\tvalid_0's binary_logloss: 0.531064\n",
      "[250]\tvalid_0's binary_logloss: 0.530725\n",
      "[300]\tvalid_0's binary_logloss: 0.530558\n",
      "Early stopping, best iteration is:\n",
      "[286]\tvalid_0's binary_logloss: 0.530459\n",
      "Train until valid scores didn't improve in 20 rounds.\n",
      "[50]\tvalid_0's binary_logloss: 0.558411\n",
      "[100]\tvalid_0's binary_logloss: 0.547926\n",
      "[150]\tvalid_0's binary_logloss: 0.546596\n",
      "[200]\tvalid_0's binary_logloss: 0.546271\n",
      "[250]\tvalid_0's binary_logloss: 0.546131\n",
      "Early stopping, best iteration is:\n",
      "[263]\tvalid_0's binary_logloss: 0.545978\n",
      "Train until valid scores didn't improve in 20 rounds.\n",
      "[50]\tvalid_0's binary_logloss: 0.554153\n",
      "[100]\tvalid_0's binary_logloss: 0.542351\n",
      "[150]\tvalid_0's binary_logloss: 0.540861\n",
      "Early stopping, best iteration is:\n",
      "[168]\tvalid_0's binary_logloss: 0.540837\n"
     ]
    }
   ],
   "source": [
    "n_splits = 10\n",
    "kfold = KFold(n_splits=n_splits)\n",
    "\n",
    "y_pred_lgb = np.zeros(len(x_test))\n",
    "y_oof_lgb  = np.empty(len(x_train))\n",
    "\n",
    "for train_idx, test_idx in kfold.split(x_train):\n",
    "    ltrain_cv = lgb.Dataset(x_train[use_feat].loc[train_idx], y_train[train_idx])\n",
    "    ltest_cv  = lgb.Dataset(x_train[use_feat].loc[test_idx], y_train[test_idx])\n",
    "    eval_list = ltest_cv\n",
    "    \n",
    "    lgbm = lgb.train(lgb_params, ltrain_cv, num_boost_round = 1000, \n",
    "                      valid_sets=eval_list, early_stopping_rounds = 20, verbose_eval = 50)\n",
    "    \n",
    "    y_oof_lgb[test_idx] = lgbm.predict(x_train[use_feat].loc[test_idx])\n",
    "    \n",
    "    y_pred_lgb += lgbm.predict(x_test[use_feat])\n",
    "y_pred_lgb /= n_splits"
   ]
  },
  {
   "cell_type": "code",
   "execution_count": 183,
   "metadata": {
    "scrolled": false
   },
   "outputs": [
    {
     "name": "stdout",
     "output_type": "stream",
     "text": [
      "[0]\ttest-logloss:0.687712\n",
      "Will train until test-logloss hasn't improved in 20 rounds.\n",
      "[50]\ttest-logloss:0.565443\n",
      "[100]\ttest-logloss:0.542295\n",
      "[150]\ttest-logloss:0.537082\n",
      "[200]\ttest-logloss:0.535543\n",
      "[250]\ttest-logloss:0.53526\n",
      "Stopping. Best iteration:\n",
      "[240]\ttest-logloss:0.535251\n",
      "\n",
      "[0]\ttest-logloss:0.687863\n",
      "Will train until test-logloss hasn't improved in 20 rounds.\n",
      "[50]\ttest-logloss:0.570352\n",
      "[100]\ttest-logloss:0.549939\n",
      "[150]\ttest-logloss:0.546426\n",
      "[200]\ttest-logloss:0.545656\n",
      "[250]\ttest-logloss:0.545513\n",
      "Stopping. Best iteration:\n",
      "[248]\ttest-logloss:0.545495\n",
      "\n",
      "[0]\ttest-logloss:0.687703\n",
      "Will train until test-logloss hasn't improved in 20 rounds.\n",
      "[50]\ttest-logloss:0.563904\n",
      "[100]\ttest-logloss:0.540111\n",
      "[150]\ttest-logloss:0.534903\n",
      "[200]\ttest-logloss:0.53336\n",
      "[250]\ttest-logloss:0.532927\n",
      "Stopping. Best iteration:\n",
      "[273]\ttest-logloss:0.532751\n",
      "\n",
      "[0]\ttest-logloss:0.687697\n",
      "Will train until test-logloss hasn't improved in 20 rounds.\n",
      "[50]\ttest-logloss:0.565543\n",
      "[100]\ttest-logloss:0.543318\n",
      "[150]\ttest-logloss:0.538648\n",
      "[200]\ttest-logloss:0.537035\n",
      "[250]\ttest-logloss:0.536511\n",
      "[300]\ttest-logloss:0.536159\n",
      "Stopping. Best iteration:\n",
      "[295]\ttest-logloss:0.536118\n",
      "\n",
      "[0]\ttest-logloss:0.687784\n",
      "Will train until test-logloss hasn't improved in 20 rounds.\n",
      "[50]\ttest-logloss:0.566675\n",
      "[100]\ttest-logloss:0.544222\n",
      "[150]\ttest-logloss:0.539437\n",
      "[200]\ttest-logloss:0.538291\n",
      "[250]\ttest-logloss:0.537576\n",
      "[300]\ttest-logloss:0.537447\n",
      "[350]\ttest-logloss:0.537346\n",
      "Stopping. Best iteration:\n",
      "[376]\ttest-logloss:0.537297\n",
      "\n",
      "[0]\ttest-logloss:0.687658\n",
      "Will train until test-logloss hasn't improved in 20 rounds.\n",
      "[50]\ttest-logloss:0.563131\n",
      "[100]\ttest-logloss:0.539499\n",
      "[150]\ttest-logloss:0.533875\n",
      "[200]\ttest-logloss:0.532165\n",
      "[250]\ttest-logloss:0.531318\n",
      "[300]\ttest-logloss:0.530972\n",
      "[350]\ttest-logloss:0.530715\n",
      "[400]\ttest-logloss:0.530553\n",
      "[450]\ttest-logloss:0.53032\n",
      "Stopping. Best iteration:\n",
      "[467]\ttest-logloss:0.53026\n",
      "\n",
      "[0]\ttest-logloss:0.687839\n",
      "Will train until test-logloss hasn't improved in 20 rounds.\n",
      "[50]\ttest-logloss:0.56851\n",
      "[100]\ttest-logloss:0.546424\n",
      "[150]\ttest-logloss:0.541836\n",
      "[200]\ttest-logloss:0.540241\n",
      "[250]\ttest-logloss:0.539784\n",
      "[300]\ttest-logloss:0.539612\n",
      "Stopping. Best iteration:\n",
      "[285]\ttest-logloss:0.539585\n",
      "\n",
      "[0]\ttest-logloss:0.687678\n",
      "Will train until test-logloss hasn't improved in 20 rounds.\n",
      "[50]\ttest-logloss:0.563179\n",
      "[100]\ttest-logloss:0.539107\n",
      "[150]\ttest-logloss:0.533569\n",
      "[200]\ttest-logloss:0.53185\n",
      "[250]\ttest-logloss:0.531115\n",
      "Stopping. Best iteration:\n",
      "[263]\ttest-logloss:0.53097\n",
      "\n",
      "[0]\ttest-logloss:0.687852\n",
      "Will train until test-logloss hasn't improved in 20 rounds.\n",
      "[50]\ttest-logloss:0.570655\n",
      "[100]\ttest-logloss:0.550871\n",
      "[150]\ttest-logloss:0.547328\n",
      "[200]\ttest-logloss:0.54664\n",
      "[250]\ttest-logloss:0.54636\n",
      "Stopping. Best iteration:\n",
      "[244]\ttest-logloss:0.546324\n",
      "\n",
      "[0]\ttest-logloss:0.687841\n",
      "Will train until test-logloss hasn't improved in 20 rounds.\n",
      "[50]\ttest-logloss:0.568155\n",
      "[100]\ttest-logloss:0.546365\n",
      "[150]\ttest-logloss:0.542118\n",
      "[200]\ttest-logloss:0.541248\n",
      "Stopping. Best iteration:\n",
      "[229]\ttest-logloss:0.541109\n",
      "\n"
     ]
    }
   ],
   "source": [
    "n_splits = 10\n",
    "kfold = KFold(n_splits=n_splits)\n",
    "\n",
    "y_pred_xgb = np.zeros(len(x_test))\n",
    "y_oof_xgb  = np.empty(len(x_train))\n",
    "dtest  = xgb.DMatrix(x_test[use_feat])\n",
    "\n",
    "for train_idx, test_idx in kfold.split(x_train):\n",
    "    dtrain_cv = xgb.DMatrix(x_train[use_feat].loc[train_idx], y_train[train_idx])\n",
    "    dtest_cv  = xgb.DMatrix(x_train[use_feat].loc[test_idx], y_train[test_idx])\n",
    "    eval_list = [(dtest_cv, 'test')]\n",
    "    \n",
    "    xgbst = xgb.train(xgb_params, dtrain_cv, num_boost_round = 1000, \n",
    "                      evals=eval_list, early_stopping_rounds = 20, verbose_eval = 50)\n",
    "    \n",
    "    y_oof_xgb[test_idx] = xgbst.predict(dtest_cv)\n",
    "    \n",
    "    y_pred_xgb += xgbst.predict(dtest)\n",
    "y_pred_xgb /= 10"
   ]
  },
  {
   "cell_type": "code",
   "execution_count": 194,
   "metadata": {},
   "outputs": [
    {
     "name": "stdout",
     "output_type": "stream",
     "text": [
      "0.537351146275\n"
     ]
    }
   ],
   "source": [
    "print log_loss(y_train, y_oof_lgb*0.5 + y_oof_xgb*0.5)"
   ]
  },
  {
   "cell_type": "code",
   "execution_count": 195,
   "metadata": {
    "collapsed": true
   },
   "outputs": [],
   "source": [
    "y_res = (y_pred_lgb + y_pred_xgb)*0.5"
   ]
  },
  {
   "cell_type": "code",
   "execution_count": 196,
   "metadata": {},
   "outputs": [
    {
     "data": {
      "text/plain": [
       "array([ 0.48816174,  0.56227343,  0.42731491, ...,  0.46312   ,\n",
       "        0.3260039 ,  0.77060288])"
      ]
     },
     "execution_count": 196,
     "metadata": {},
     "output_type": "execute_result"
    }
   ],
   "source": [
    "y_res"
   ]
  },
  {
   "cell_type": "code",
   "execution_count": 197,
   "metadata": {},
   "outputs": [
    {
     "data": {
      "image/png": "[encoded data removed]",
      "text/plain": [
       "<matplotlib.figure.Figure at 0x7ffab97b7890>"
      ]
     },
     "metadata": {},
     "output_type": "display_data"
    }
   ],
   "source": [
    "plt.figure(figsize=(12,10))\n",
    "ax = plt.subplot(111)\n",
    "lgb.plot_importance(lgbm, ax = ax)\n",
    "plt.show()"
   ]
  },
  {
   "cell_type": "markdown",
   "metadata": {
    "collapsed": true
   },
   "source": [
    "# Write_Result"
   ]
  },
  {
   "cell_type": "code",
   "execution_count": 198,
   "metadata": {},
   "outputs": [
    {
     "data": {
      "text/html": [
       "<div>\n",
       "<style>\n",
       "    .dataframe thead tr:only-child th {\n",
       "        text-align: right;\n",
       "    }\n",
       "\n",
       "    .dataframe thead th {\n",
       "        text-align: left;\n",
       "    }\n",
       "\n",
       "    .dataframe tbody tr th {\n",
       "        vertical-align: top;\n",
       "    }\n",
       "</style>\n",
       "<table border=\"1\" class=\"dataframe\">\n",
       "  <thead>\n",
       "    <tr style=\"text-align: right;\">\n",
       "      <th></th>\n",
       "      <th>0</th>\n",
       "    </tr>\n",
       "  </thead>\n",
       "  <tbody>\n",
       "    <tr>\n",
       "      <th>0</th>\n",
       "      <td>0.488162</td>\n",
       "    </tr>\n",
       "    <tr>\n",
       "      <th>1</th>\n",
       "      <td>0.562273</td>\n",
       "    </tr>\n",
       "    <tr>\n",
       "      <th>2</th>\n",
       "      <td>0.427315</td>\n",
       "    </tr>\n",
       "    <tr>\n",
       "      <th>3</th>\n",
       "      <td>0.538144</td>\n",
       "    </tr>\n",
       "    <tr>\n",
       "      <th>4</th>\n",
       "      <td>0.240884</td>\n",
       "    </tr>\n",
       "    <tr>\n",
       "      <th>5</th>\n",
       "      <td>0.248954</td>\n",
       "    </tr>\n",
       "    <tr>\n",
       "      <th>6</th>\n",
       "      <td>0.187259</td>\n",
       "    </tr>\n",
       "  </tbody>\n",
       "</table>\n",
       "</div>"
      ],
      "text/plain": [
       "          0\n",
       "0  0.488162\n",
       "1  0.562273\n",
       "2  0.427315\n",
       "3  0.538144\n",
       "4  0.240884\n",
       "5  0.248954\n",
       "6  0.187259"
      ]
     },
     "execution_count": 198,
     "metadata": {},
     "output_type": "execute_result"
    }
   ],
   "source": [
    "output = pd.DataFrame(y_res)\n",
    "output.to_csv('lgb+xgb_new_feat.csv', header=None, index=None)\n",
    "output.head(7)"
   ]
  }
 ],
 "metadata": {
  "kernelspec": {
   "display_name": "Python 2",
   "language": "python",
   "name": "python2"
  },
  "language_info": {
   "codemirror_mode": {
    "name": "ipython",
    "version": 2
   },
   "file_extension": ".py",
   "mimetype": "text/x-python",
   "name": "python",
   "nbconvert_exporter": "python",
   "pygments_lexer": "ipython2",
   "version": "2.7.13"
  }
 },
 "nbformat": 4,
 "nbformat_minor": 2
}
