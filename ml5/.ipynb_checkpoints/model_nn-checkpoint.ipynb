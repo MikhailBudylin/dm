{
 "cells": [
  {
   "cell_type": "code",
   "execution_count": null,
   "metadata": {
    "collapsed": true
   },
   "outputs": [],
   "source": [
    "import pandas as pd\n",
    "import numpy as np\n",
    "from tqdm import tqdm_notebook\n",
    "from scipy.optimize import minimize\n",
    "from sklearn.metrics import log_loss\n",
    "import matplotlib.pylab as plt\n",
    "\n",
    "from keras.models import Sequential\n",
    "from keras.layers import Dense, Dropout\n",
    "from keras import optimizers\n",
    "\n",
    "plt.style.use('ggplot')"
   ]
  },
  {
   "cell_type": "code",
   "execution_count": null,
   "metadata": {
    "collapsed": true
   },
   "outputs": [],
   "source": [
    "train = pd.read_csv('train.csv', delimiter=';')\n",
    "test  = pd.read_csv('test.csv', delimiter=';')\n",
    "\n",
    "test.replace({'None' : 999}, inplace=True)\n",
    "test[['smoke', 'alco', 'active']] = test[['smoke', 'alco', 'active']].astype(int)\n",
    "\n",
    "test.replace({999 : np.nan}, inplace=True)\n",
    "test[['gluc', 'cholesterol']] = test[['gluc', 'cholesterol']].astype(int)\n",
    "\n",
    "N_train = train.shape[0]\n",
    "\n",
    "data = pd.concat([train, test], 0).reset_index(drop=True)\n",
    "\n",
    "data['imt'] = data['weight'] / (data['height'] / 100) ** 2\n",
    "\n",
    "data['chol+gluc'] = data['cholesterol'].astype(str) + data['gluc'].astype(str) \n",
    "data['chol+gluc'] = pd.factorize(data['chol+gluc'])[0]"
   ]
  },
  {
   "cell_type": "code",
   "execution_count": null,
   "metadata": {
    "collapsed": true
   },
   "outputs": [],
   "source": [
    "clean = False\n",
    "if clean:\n",
    "    bad_index = (data.height < 110) & (data.weight > 150)\n",
    "    buf = data.loc[bad_index, 'height']\n",
    "    data.loc[bad_index, 'height'] = data.loc[bad_index, 'weight']\n",
    "    data.loc[bad_index, 'weight'] = buf\n",
    "    \n",
    "    data.loc[data.height < 90, 'height'] += 100\n",
    "    \n",
    "    data.loc[(data.height >= 100) & (data.height < 110), 'height'] += 60 \n",
    "    \n",
    "    data.loc[(data.height >= 110) & (data.height < 120) & (data.weight < 110), 'height'] += 60\n",
    "\n",
    "    data.loc[(data.height == data.ap_hi) & (data.weight == data.ap_lo), 'height'] = np.nan\n",
    "    data.loc[(data.height == data.ap_hi) & (data.weight == data.ap_lo), 'weight'] = np.nan\n",
    "    \n",
    "    data.loc[data.height <= 130, ['weight', 'height']] = [np.nan, np.nan]\n",
    "    data.loc[(data.height <= 135) & (data.weight > 60), 'height'] = np.nan\n",
    "    data.loc[(data.height < 140) & (data.weight > 80), 'height'] = np.nan\n",
    "    data.loc[data.height > 210, 'height'] = np.nan\n",
    "    \n",
    "    data.loc[data.weight < 20, 'weight'] *= 10\n",
    "    \n",
    "    data.loc[data.weight <= 30, 'weight'] = np.nan\n",
    "    data.loc[(data.weight < 36) & (data.height > 160), 'weight'] = np.nan\n",
    "    \n",
    "    data.loc[(data.weight > 140) & (data.height == data.weight), 'weight'] = np.nan\n",
    "    \n",
    "    data.loc[data.weight > 125, 'weight'] = np.nan\n",
    "    \n",
    "    data.replace({'weight': {120.0: np.nan}}, inplace=True)\n",
    "    \n",
    "    data['ap_hi'] = np.abs(data['ap_hi'])\n",
    "    data['ap_lo'] = np.abs(data['ap_lo'])\n",
    "    \n",
    "    data.loc[data.ap_lo > 5000, 'ap_lo'] /= 100\n",
    "    data.loc[data.ap_hi > 5000, 'ap_hi'] /= 100\n",
    "    data.loc[data.ap_hi > 250, 'ap_hi'] /= 10\n",
    "    data.loc[data.ap_lo > 250, 'ap_lo'] /= 10\n",
    "    \n",
    "    data.loc[[12494, 60477, 51749], ['ap_hi', 'ap_lo']] = [np.nan, np.nan]\n",
    "    data.loc[[75399], 'ap_lo'] = 200\n",
    "    data.loc[6580, ['ap_hi', 'ap_lo']] = [np.nan, np.nan]\n",
    "    data.loc[data.ap_hi < 10, 'ap_hi'] = np.nan\n",
    "    \n",
    "    data.loc[data.ap_hi == 906, ['ap_hi', 'ap_lo']] = [np.nan, np.nan]\n",
    "    data.loc[data.ap_hi == 90.6, ['ap_hi', 'ap_lo']] = [np.nan, np.nan]\n",
    "    data.loc[data.ap_hi == 701, ['ap_hi', 'ap_lo']] = [110, 70]\n",
    "    data.loc[data.ap_hi == 309, ['ap_hi', 'ap_lo']] = [np.nan, np.nan]\n",
    "    data.loc[data.ap_hi == 30.9, ['ap_hi', 'ap_lo']] = [np.nan, np.nan]\n",
    "    data.loc[data.ap_hi == 806, ['ap_hi', 'ap_lo']] = [np.nan, np.nan]\n",
    "    data.loc[data.ap_hi == 509, ['ap_hi', 'ap_lo']] = [np.nan, np.nan]\n",
    "    data.loc[data.ap_hi == 50.9, ['ap_hi', 'ap_lo']] = [np.nan, np.nan]\n",
    "    data.loc[data.ap_hi == 50.9, ['ap_hi', 'ap_lo']] = [np.nan, np.nan]\n",
    "    data.loc[data.ap_hi == 40.1, ['ap_hi', 'ap_lo']] = [np.nan, np.nan]\n",
    "    \n",
    "    data.loc[data.ap_hi == 400, 'ap_hi'] = 100\n",
    "    data.loc[data.ap_hi == 401, 'ap_hi'] = 101\n",
    "    data.loc[data.ap_hi == 410, 'ap_hi'] = 110\n",
    "    data.loc[data.ap_hi == 470, 'ap_hi'] = 170\n",
    "    data.loc[data.ap_lo == 410, 'ap_lo'] = 110\n",
    "    data.loc[data.ap_lo == 470, 'ap_lo'] = 170\n",
    "    \n",
    "    data.loc[(data.ap_hi == 138) & (data.ap_lo == 0), ['ap_hi', 'ap_lo']] = [np.nan, np.nan]\n",
    "    data.loc[(data.ap_hi == 149) & (data.ap_lo == 0), ['ap_hi', 'ap_lo']] = [np.nan, np.nan]\n",
    "    data.loc[(data.ap_hi == 90.7) & (data.ap_lo == 0), ['ap_hi', 'ap_lo']] = [np.nan, np.nan]\n",
    "    data.loc[(data.ap_hi == 148) & (data.ap_lo == 0), ['ap_hi', 'ap_lo']] = [np.nan, np.nan]\n",
    "    data.loc[(data.ap_hi == 80.6) & (data.ap_lo == 0), ['ap_hi', 'ap_lo']] = [np.nan, np.nan]\n",
    "    data.loc[(data.ap_hi == 108) & (data.ap_lo == 0), ['ap_hi', 'ap_lo']] = [np.nan, np.nan]\n",
    "    data.loc[(data.ap_hi == 121) & (data.ap_lo == 0), ['ap_hi', 'ap_lo']] = [np.nan, np.nan]\n",
    "    data.loc[(data.ap_hi == 117) & (data.ap_lo == 0), ['ap_hi', 'ap_lo']] = [np.nan, np.nan]\n",
    "    data.loc[(data.ap_hi == 118) & (data.ap_lo == 0), ['ap_hi', 'ap_lo']] = [np.nan, np.nan]\n",
    "    \n",
    "    data.loc[data.ap_lo == 0, 'ap_lo'] = np.nan\n",
    "    \n",
    "    data.replace({'ap_lo': {1: 100}}, inplace=True)\n",
    "    \n",
    "    data.loc[data.ap_hi < 30, 'ap_hi'] *= 10\n",
    "    data.loc[data.ap_lo < 20, 'ap_lo'] *= 10\n",
    "\n",
    "    data.replace({'ap_lo': {20: np.nan, 30: 80}}, inplace=True)\n",
    "    \n",
    "    bad_index = data.ap_hi < data.ap_lo\n",
    "    buf = data.loc[bad_index, 'ap_hi']\n",
    "    data.loc[bad_index, 'ap_hi'] = data.loc[bad_index, 'ap_lo']\n",
    "    data.loc[bad_index, 'ap_lo'] = buf"
   ]
  },
  {
   "cell_type": "code",
   "execution_count": null,
   "metadata": {
    "collapsed": true
   },
   "outputs": [],
   "source": [
    "mean_y = data.groupby(['cholesterol'])['cardio'].mean().reset_index()\n",
    "mean_y = mean_y.rename(columns = {'cardio' : 'p_chol'})\n",
    "data = pd.merge(data, mean_y, on = 'cholesterol', how = 'left')\n",
    "\n",
    "mean_y = data.groupby(['gluc'])['cardio'].mean().reset_index()\n",
    "mean_y = mean_y.rename(columns = {'cardio' : 'p_gluc'})\n",
    "data = pd.merge(data, mean_y, on = 'gluc', how = 'left')\n",
    "\n",
    "mean_y = data.groupby(['chol+gluc'])['cardio'].mean().reset_index()\n",
    "mean_y = mean_y.rename(columns = {'cardio' : 'p_ch+gl'})\n",
    "data = pd.merge(data, mean_y, on = 'chol+gluc', how = 'left')"
   ]
  },
  {
   "cell_type": "code",
   "execution_count": null,
   "metadata": {
    "collapsed": true
   },
   "outputs": [],
   "source": []
  },
  {
   "cell_type": "code",
   "execution_count": null,
   "metadata": {
    "collapsed": true
   },
   "outputs": [],
   "source": [
    "cat_feat = ['alco', 'smoke', 'active', 'gluc', 'cholesterol', 'gender', 'chol+gluc']\n",
    "for col in cat_feat:\n",
    "    dummy = pd.get_dummies(data[col], prefix = col)\n",
    "    data = pd.concat([data, dummy], 1)\n",
    "data.drop(cat_feat, 1, inplace=True)"
   ]
  },
  {
   "cell_type": "code",
   "execution_count": null,
   "metadata": {
    "collapsed": true
   },
   "outputs": [],
   "source": [
    "feat = ['age', 'ap_hi', 'ap_lo', 'height','weight', 'imt']\n",
    "for col in feat:\n",
    "    data[feat] = (data[feat] - data[feat].mean())/data[feat].std()"
   ]
  },
  {
   "cell_type": "code",
   "execution_count": null,
   "metadata": {
    "collapsed": true
   },
   "outputs": [],
   "source": [
    "data = data.fillna(data.mean())"
   ]
  },
  {
   "cell_type": "code",
   "execution_count": null,
   "metadata": {},
   "outputs": [],
   "source": [
    "data.head()"
   ]
  },
  {
   "cell_type": "code",
   "execution_count": null,
   "metadata": {
    "collapsed": true
   },
   "outputs": [],
   "source": [
    "##### for submit\n",
    "x_train = data[:N_train].drop(['id', 'cardio'], 1).values\n",
    "y_train = data[:N_train]['cardio'].values\n",
    "\n",
    "x_test = data[N_train:].drop(['id', 'cardio'], 1).values\n",
    "##### for cv\n",
    "#x_train = data.loc[:int(0.8*N_train)].drop(['id', 'cardio'], 1).values\n",
    "#y_train = data.loc[:int(0.8*N_train)]['cardio'].values\n",
    "\n",
    "#x_test = data.loc[int(0.8*N_train):N_train-1].drop(['id', 'cardio'], 1).values\n",
    "#y_test = data.loc[int(0.8*N_train):N_train-1]['cardio'].values"
   ]
  },
  {
   "cell_type": "code",
   "execution_count": null,
   "metadata": {
    "collapsed": true
   },
   "outputs": [],
   "source": []
  },
  {
   "cell_type": "code",
   "execution_count": null,
   "metadata": {},
   "outputs": [],
   "source": [
    "model = Sequential()\n",
    "opt = optimizers.adam(lr = 0.05)\n",
    "model.add(Dense(32, activation='relu', input_dim=x_train.shape[1]))\n",
    "model.add(Dense(32, activation='relu'))\n",
    "model.add(Dense(32, activation='relu'))\n",
    "model.add(Dense(32, activation='relu'))\n",
    "model.add(Dense(1, activation='sigmoid'))\n",
    "model.compile(optimizer = opt,\n",
    "              loss = 'binary_crossentropy',\n",
    "              metrics = ['binary_crossentropy'])\n",
    "\n",
    "model.fit(x_train, y_train, batch_size=1024, epochs = 10, verbose=0)\n",
    "y1 = model.predict_proba(x_test)\n",
    "print \n",
    "#print log_loss(y_test, y1)\n",
    "del model"
   ]
  },
  {
   "cell_type": "code",
   "execution_count": null,
   "metadata": {},
   "outputs": [],
   "source": [
    "model = Sequential()\n",
    "opt = optimizers.adam(lr = 0.05)\n",
    "model.add(Dense(32, activation='sigmoid', input_dim=x_train.shape[1]))\n",
    "model.add(Dense(32, activation='sigmoid'))\n",
    "model.add(Dense(32, activation='sigmoid'))\n",
    "model.add(Dense(32, activation='sigmoid'))\n",
    "model.add(Dense(1, activation='sigmoid'))\n",
    "model.compile(optimizer = opt,\n",
    "              loss = 'binary_crossentropy',\n",
    "              metrics = ['binary_crossentropy'])\n",
    "\n",
    "model.fit(x_train, y_train, batch_size = 1024, epochs = 10, verbose=0)\n",
    "y2 = model.predict_proba(x_test)\n",
    "print \n",
    "#print log_loss(y_test, y2)\n",
    "del model"
   ]
  },
  {
   "cell_type": "code",
   "execution_count": null,
   "metadata": {},
   "outputs": [],
   "source": [
    "model = Sequential()\n",
    "opt = optimizers.adam(lr = 0.01)\n",
    "model.add(Dense(64, activation='relu', input_dim=x_train.shape[1]))\n",
    "model.add(Dense(32, activation='relu'))\n",
    "model.add(Dense(16, activation='relu'))\n",
    "model.add(Dense(8, activation='relu'))\n",
    "model.add(Dense(1, activation='sigmoid'))\n",
    "model.compile(optimizer = opt,\n",
    "              loss = 'binary_crossentropy',\n",
    "              metrics = ['binary_crossentropy'])\n",
    "\n",
    "model.fit(x_train, y_train, batch_size=1024, epochs = 20, verbose=0)\n",
    "y3 = model.predict_proba(x_test)\n",
    "print \n",
    "#print log_loss(y_test, y3)\n",
    "del model"
   ]
  },
  {
   "cell_type": "code",
   "execution_count": null,
   "metadata": {},
   "outputs": [],
   "source": [
    "model = Sequential()\n",
    "opt = optimizers.adam(lr = 0.01)\n",
    "model.add(Dense(64, activation='sigmoid', input_dim=x_train.shape[1]))\n",
    "model.add(Dense(32, activation='sigmoid'))\n",
    "model.add(Dense(16, activation='sigmoid'))\n",
    "model.add(Dense(8, activation='sigmoid'))\n",
    "model.add(Dense(1, activation='sigmoid'))\n",
    "model.compile(optimizer = opt,\n",
    "              loss = 'binary_crossentropy',\n",
    "              metrics = ['binary_crossentropy'])\n",
    "\n",
    "model.fit(x_train, y_train, batch_size=1024, epochs = 20, verbose=0)\n",
    "y4 = model.predict_proba(x_test)\n",
    "print \n",
    "#print log_loss(y_test, y4)\n",
    "del model"
   ]
  },
  {
   "cell_type": "code",
   "execution_count": null,
   "metadata": {},
   "outputs": [],
   "source": [
    "model = Sequential()\n",
    "opt = optimizers.adam(lr = 0.01)\n",
    "model.add(Dense(12, activation='relu', input_dim=x_train.shape[1]))\n",
    "model.add(Dense(32, activation='relu'))\n",
    "model.add(Dense(12, activation='relu'))\n",
    "model.add(Dense(6, activation='relu'))\n",
    "model.add(Dense(1, activation='sigmoid'))\n",
    "model.compile(optimizer = opt,\n",
    "              loss = 'binary_crossentropy',\n",
    "              metrics = ['binary_crossentropy'])\n",
    "\n",
    "model.fit(x_train, y_train, batch_size=1024, epochs = 20, verbose=0)\n",
    "y5 = model.predict_proba(x_test)\n",
    "print \n",
    "#print log_loss(y_test, y5)\n",
    "del model"
   ]
  },
  {
   "cell_type": "code",
   "execution_count": null,
   "metadata": {},
   "outputs": [],
   "source": [
    "model = Sequential()\n",
    "opt = optimizers.adam(lr = 0.03)\n",
    "model.add(Dense(12, activation='sigmoid', input_dim=x_train.shape[1]))\n",
    "model.add(Dense(32, activation='sigmoid'))\n",
    "model.add(Dense(12, activation='sigmoid'))\n",
    "model.add(Dense(6, activation='sigmoid'))\n",
    "model.add(Dense(1, activation='sigmoid'))\n",
    "model.compile(optimizer = opt,\n",
    "              loss = 'binary_crossentropy',\n",
    "              metrics = ['binary_crossentropy'])\n",
    "\n",
    "model.fit(x_train, y_train, batch_size=1024, epochs = 20, verbose=0)\n",
    "y6 = model.predict_proba(x_test)\n",
    "print \n",
    "#print log_loss(y_test, y6)\n",
    "del model"
   ]
  },
  {
   "cell_type": "code",
   "execution_count": null,
   "metadata": {},
   "outputs": [],
   "source": [
    "model = Sequential()\n",
    "opt = optimizers.adam(lr = 0.03)\n",
    "model.add(Dense(128, activation='sigmoid', input_dim=x_train.shape[1]))\n",
    "model.add(Dense(128, activation='sigmoid'))\n",
    "model.add(Dense(1, activation='sigmoid'))\n",
    "model.compile(optimizer = opt,\n",
    "              loss = 'binary_crossentropy',\n",
    "              metrics = ['binary_crossentropy'])\n",
    "\n",
    "model.fit(x_train, y_train, batch_size=1024, epochs = 20, verbose=0)\n",
    "y7 = model.predict_proba(x_test)\n",
    "print \n",
    "#print log_loss(y_test, y7)\n",
    "del model"
   ]
  },
  {
   "cell_type": "code",
   "execution_count": null,
   "metadata": {},
   "outputs": [],
   "source": [
    "model = Sequential()\n",
    "opt = optimizers.adam(lr = 0.03)\n",
    "model.add(Dense(128, activation='relu', input_dim=x_train.shape[1]))\n",
    "model.add(Dense(128, activation='relu'))\n",
    "model.add(Dense(1, activation='sigmoid'))\n",
    "model.compile(optimizer = opt,\n",
    "              loss = 'binary_crossentropy',\n",
    "              metrics = ['binary_crossentropy'])\n",
    "\n",
    "model.fit(x_train, y_train, batch_size=1024, epochs = 20, verbose=0)\n",
    "y8 = model.predict_proba(x_test)\n",
    "print \n",
    "#print log_loss(y_test, y8)\n",
    "del model"
   ]
  },
  {
   "cell_type": "code",
   "execution_count": null,
   "metadata": {},
   "outputs": [],
   "source": [
    "model = Sequential()\n",
    "opt = optimizers.adam(lr = 0.03)\n",
    "model.add(Dense(128, activation='sigmoid', input_dim=x_train.shape[1]))\n",
    "model.add(Dense(32, activation='sigmoid'))\n",
    "model.add(Dense(4, activation='sigmoid'))\n",
    "model.add(Dense(1, activation='sigmoid'))\n",
    "model.compile(optimizer = opt,\n",
    "              loss = 'binary_crossentropy',\n",
    "              metrics = ['binary_crossentropy'])\n",
    "\n",
    "model.fit(x_train, y_train, batch_size=1024, epochs = 20, verbose=0)\n",
    "y9 = model.predict_proba(x_test)\n",
    "print \n",
    "#print log_loss(y_test, y9)\n",
    "del model"
   ]
  },
  {
   "cell_type": "code",
   "execution_count": null,
   "metadata": {},
   "outputs": [],
   "source": [
    "model = Sequential()\n",
    "opt = optimizers.adam(lr = 0.03)\n",
    "model.add(Dense(64, activation='relu', input_dim=x_train.shape[1]))\n",
    "model.add(Dense(64, activation='relu'))\n",
    "model.add(Dense(1, activation='sigmoid'))\n",
    "model.compile(optimizer = opt,\n",
    "              loss = 'binary_crossentropy',\n",
    "              metrics = ['binary_crossentropy'])\n",
    "\n",
    "model.fit(x_train, y_train, batch_size=1024, epochs = 20, verbose=0)\n",
    "y10 = model.predict_proba(x_test)\n",
    "print \n",
    "#print log_loss(y_test, y10)\n",
    "del model"
   ]
  },
  {
   "cell_type": "code",
   "execution_count": null,
   "metadata": {},
   "outputs": [],
   "source": [
    "model = Sequential()\n",
    "opt = optimizers.adam(lr = 0.03)\n",
    "model.add(Dense(64, activation='sigmoid', input_dim=x_train.shape[1]))\n",
    "model.add(Dense(64, activation='sigmoid'))\n",
    "model.add(Dense(1, activation='sigmoid'))\n",
    "model.compile(optimizer = opt,\n",
    "              loss = 'binary_crossentropy',\n",
    "              metrics = ['binary_crossentropy'])\n",
    "\n",
    "model.fit(x_train, y_train, batch_size=1024, epochs = 20, verbose=0)\n",
    "y11 = model.predict_proba(x_test)\n",
    "print \n",
    "#print log_loss(y_test, y11)\n",
    "del model"
   ]
  },
  {
   "cell_type": "code",
   "execution_count": null,
   "metadata": {
    "scrolled": false
   },
   "outputs": [],
   "source": [
    "model = Sequential()\n",
    "opt = optimizers.adam(lr = 0.01)\n",
    "model.add(Dense(20, activation='relu', input_dim=x_train.shape[1]))\n",
    "model.add(Dense(40, activation='relu'))\n",
    "model.add(Dense(60, activation='relu'))\n",
    "model.add(Dropout(0.1))\n",
    "model.add(Dense(60, activation='relu'))\n",
    "model.add(Dense(40, activation='relu'))\n",
    "model.add(Dense(20, activation='relu'))\n",
    "model.add(Dense(1, activation='sigmoid'))\n",
    "model.compile(optimizer = opt,\n",
    "              loss = 'binary_crossentropy',\n",
    "              metrics = ['binary_crossentropy'])\n",
    "\n",
    "model.fit(x_train, y_train, batch_size = 1034, epochs = 20, verbose=0)\n",
    "y12 = model.predict_proba(x_test)\n",
    "print \n",
    "#print log_loss(y_test, y12)\n",
    "del model"
   ]
  },
  {
   "cell_type": "code",
   "execution_count": null,
   "metadata": {},
   "outputs": [],
   "source": [
    "model = Sequential()\n",
    "opt = optimizers.adam(lr = 0.01)\n",
    "model.add(Dense(10, activation='sigmoid', input_dim=x_train.shape[1]))\n",
    "model.add(Dense(30, activation='sigmoid'))\n",
    "model.add(Dense(50, activation='sigmoid'))\n",
    "model.add(Dropout(0.1))\n",
    "model.add(Dense(50, activation='sigmoid'))\n",
    "model.add(Dense(30, activation='sigmoid'))\n",
    "model.add(Dense(10, activation='sigmoid'))\n",
    "model.add(Dense(1, activation='sigmoid'))\n",
    "model.compile(optimizer = opt,\n",
    "              loss = 'binary_crossentropy',\n",
    "              metrics = ['binary_crossentropy'])\n",
    "\n",
    "model.fit(x_train, y_train, batch_size = 1024, epochs = 10, verbose=0)\n",
    "y13 = model.predict_proba(x_test)\n",
    "print \n",
    "#print log_loss(y_test, y13)\n",
    "del model"
   ]
  },
  {
   "cell_type": "code",
   "execution_count": null,
   "metadata": {},
   "outputs": [],
   "source": [
    "model = Sequential()\n",
    "opt = optimizers.adam(lr = 0.01)\n",
    "model.add(Dense(10, activation='relu', input_dim=x_train.shape[1]))\n",
    "model.add(Dense(30, activation='relu'))\n",
    "model.add(Dense(50, activation='relu'))\n",
    "model.add(Dropout(0.1))\n",
    "model.add(Dense(50, activation='relu'))\n",
    "model.add(Dense(30, activation='relu'))\n",
    "model.add(Dense(10, activation='relu'))\n",
    "model.add(Dense(1, activation='sigmoid'))\n",
    "model.compile(optimizer = opt,\n",
    "              loss = 'binary_crossentropy',\n",
    "              metrics = ['binary_crossentropy'])\n",
    "\n",
    "model.fit(x_train, y_train, batch_size = 1024, epochs = 20, verbose=0)\n",
    "y14 = model.predict_proba(x_test)\n",
    "print \n",
    "#print log_loss(y_test, y14)\n",
    "del model"
   ]
  },
  {
   "cell_type": "code",
   "execution_count": null,
   "metadata": {},
   "outputs": [],
   "source": [
    "model = Sequential()\n",
    "opt = optimizers.adam(lr = 0.01)\n",
    "model.add(Dense(10, activation='relu', input_dim=x_train.shape[1]))\n",
    "model.add(Dense(30, activation='relu'))\n",
    "model.add(Dense(30, activation='relu'))\n",
    "model.add(Dense(10, activation='relu'))\n",
    "model.add(Dense(1, activation='sigmoid'))\n",
    "model.compile(optimizer = opt,\n",
    "              loss = 'binary_crossentropy',\n",
    "              metrics = ['binary_crossentropy'])\n",
    "\n",
    "model.fit(x_train, y_train, batch_size = 1024, epochs = 10, verbose=0)\n",
    "y15 = model.predict_proba(x_test)\n",
    "print \n",
    "#print log_loss(y_test, y15)\n",
    "del model"
   ]
  },
  {
   "cell_type": "code",
   "execution_count": null,
   "metadata": {},
   "outputs": [],
   "source": [
    "model = Sequential()\n",
    "opt = optimizers.adam(lr = 0.01)\n",
    "model.add(Dense(10, activation='sigmoid', input_dim=x_train.shape[1]))\n",
    "model.add(Dense(30, activation='sigmoid'))\n",
    "model.add(Dense(30, activation='sigmoid'))\n",
    "model.add(Dense(10, activation='sigmoid'))\n",
    "model.add(Dense(1, activation='sigmoid'))\n",
    "model.compile(optimizer = opt,\n",
    "              loss = 'binary_crossentropy',\n",
    "              metrics = ['binary_crossentropy'])\n",
    "\n",
    "model.fit(x_train, y_train, batch_size = 1024, epochs = 10, verbose=0)\n",
    "y16 = model.predict_proba(x_test)\n",
    "print \n",
    "#print log_loss(y_test, y16)\n",
    "del model"
   ]
  },
  {
   "cell_type": "code",
   "execution_count": null,
   "metadata": {},
   "outputs": [],
   "source": [
    "model = Sequential()\n",
    "opt = optimizers.adam(lr = 0.01)\n",
    "model.add(Dense(10, activation='tanh', input_dim=x_train.shape[1]))\n",
    "model.add(Dense(30, activation='tanh'))\n",
    "model.add(Dense(30, activation='tanh'))\n",
    "model.add(Dense(10, activation='tanh'))\n",
    "model.add(Dense(1, activation='sigmoid'))\n",
    "model.compile(optimizer = opt,\n",
    "              loss = 'binary_crossentropy',\n",
    "              metrics = ['binary_crossentropy'])\n",
    "\n",
    "model.fit(x_train, y_train, batch_size = 1024, epochs = 10, verbose=0)\n",
    "y17 = model.predict_proba(x_test)\n",
    "print \n",
    "#print log_loss(y_test, y17)\n",
    "del model"
   ]
  },
  {
   "cell_type": "code",
   "execution_count": null,
   "metadata": {},
   "outputs": [],
   "source": [
    "model = Sequential()\n",
    "opt = optimizers.adam(lr = 0.01)\n",
    "model.add(Dense(50, activation='relu', input_dim=x_train.shape[1]))\n",
    "model.add(Dense(50, activation='relu'))\n",
    "model.add(Dense(30, activation='relu'))\n",
    "model.add(Dense(10, activation='relu'))\n",
    "model.add(Dense(1, activation='sigmoid'))\n",
    "model.compile(optimizer = opt,\n",
    "              loss = 'binary_crossentropy',\n",
    "              metrics = ['binary_crossentropy'])\n",
    "\n",
    "model.fit(x_train, y_train, batch_size = 1024, epochs = 10, verbose=0)\n",
    "y18 = model.predict_proba(x_test)\n",
    "print \n",
    "#print log_loss(y_test, y18)\n",
    "del model"
   ]
  },
  {
   "cell_type": "code",
   "execution_count": null,
   "metadata": {},
   "outputs": [],
   "source": [
    "model = Sequential()\n",
    "opt = optimizers.adam(lr = 0.01)\n",
    "model.add(Dense(50, activation='relu', input_dim=x_train.shape[1]))\n",
    "model.add(Dense(50, activation='relu'))\n",
    "model.add(Dense(50, activation='relu'))\n",
    "model.add(Dense(50, activation='relu'))\n",
    "model.add(Dense(1, activation='sigmoid'))\n",
    "model.compile(optimizer = opt,\n",
    "              loss = 'binary_crossentropy',\n",
    "              metrics = ['binary_crossentropy'])\n",
    "\n",
    "model.fit(x_train, y_train, batch_size = 1024, epochs = 10, verbose=0)\n",
    "y19 = model.predict_proba(x_test)\n",
    "print \n",
    "#print log_loss(y_test, y19)\n",
    "del model"
   ]
  },
  {
   "cell_type": "code",
   "execution_count": null,
   "metadata": {},
   "outputs": [],
   "source": [
    "model = Sequential()\n",
    "opt = optimizers.adam(lr = 0.01)\n",
    "model.add(Dense(20, activation='relu', input_dim=x_train.shape[1]))\n",
    "model.add(Dense(20, activation='relu'))\n",
    "model.add(Dense(20, activation='relu'))\n",
    "model.add(Dense(20, activation='relu'))\n",
    "model.add(Dense(1, activation='sigmoid'))\n",
    "model.compile(optimizer = opt,\n",
    "              loss = 'binary_crossentropy',\n",
    "              metrics = ['binary_crossentropy'])\n",
    "\n",
    "model.fit(x_train, y_train, batch_size = 1024, epochs = 10, verbose=0)\n",
    "y20 = model.predict_proba(x_test)\n",
    "print \n",
    "#print log_loss(y_test, y20)\n",
    "del model"
   ]
  },
  {
   "cell_type": "code",
   "execution_count": null,
   "metadata": {},
   "outputs": [],
   "source": [
    "model = Sequential()\n",
    "opt = optimizers.adam(lr = 0.01)\n",
    "model.add(Dense(50, activation='relu', input_dim=x_train.shape[1]))\n",
    "model.add(Dense(50, activation='relu'))\n",
    "model.add(Dense(1, activation='sigmoid'))\n",
    "model.compile(optimizer = opt,\n",
    "              loss = 'binary_crossentropy',\n",
    "              metrics = ['binary_crossentropy'])\n",
    "\n",
    "model.fit(x_train, y_train, batch_size = 1024, epochs = 10, verbose=0)\n",
    "y21 = model.predict_proba(x_test)\n",
    "print \n",
    "#print log_loss(y_test, y21)\n",
    "del model"
   ]
  },
  {
   "cell_type": "code",
   "execution_count": null,
   "metadata": {},
   "outputs": [],
   "source": [
    "model = Sequential()\n",
    "opt = optimizers.adam(lr = 0.01)\n",
    "model.add(Dense(90, activation='relu', input_dim=x_train.shape[1]))\n",
    "model.add(Dense(50, activation='relu'))\n",
    "model.add(Dense(1, activation='sigmoid'))\n",
    "model.compile(optimizer = opt,\n",
    "              loss = 'binary_crossentropy',\n",
    "              metrics = ['binary_crossentropy'])\n",
    "\n",
    "model.fit(x_train, y_train, batch_size = 1024, epochs = 10, verbose=0)\n",
    "y22 = model.predict_proba(x_test)\n",
    "print \n",
    "#print log_loss(y_test, y22)\n",
    "del model"
   ]
  },
  {
   "cell_type": "code",
   "execution_count": null,
   "metadata": {},
   "outputs": [],
   "source": [
    "model = Sequential()\n",
    "opt = optimizers.adam(lr = 0.01)\n",
    "model.add(Dense(20, activation='relu', input_dim=x_train.shape[1]))\n",
    "model.add(Dense(60, activation='relu'))\n",
    "model.add(Dense(1, activation='sigmoid'))\n",
    "model.compile(optimizer = opt,\n",
    "              loss = 'binary_crossentropy',\n",
    "              metrics = ['binary_crossentropy'])\n",
    "\n",
    "model.fit(x_train, y_train, batch_size = 1024, epochs = 10, verbose = 0)\n",
    "y23 = model.predict_proba(x_test)\n",
    "print \n",
    "#print log_loss(y_test, y23)\n",
    "del model"
   ]
  },
  {
   "cell_type": "code",
   "execution_count": null,
   "metadata": {},
   "outputs": [],
   "source": [
    "model = Sequential()\n",
    "opt = optimizers.adam(lr = 0.01)\n",
    "model.add(Dense(60, activation='relu', input_dim=x_train.shape[1]))\n",
    "model.add(Dense(60, activation='relu'))\n",
    "model.add(Dense(1, activation='sigmoid'))\n",
    "model.compile(optimizer = opt,\n",
    "              loss = 'binary_crossentropy',\n",
    "              metrics = ['binary_crossentropy'])\n",
    "\n",
    "model.fit(x_train, y_train, batch_size = 1024, epochs = 10, verbose = 0)\n",
    "y24 = model.predict_proba(x_test)\n",
    "print \n",
    "#print log_loss(y_test, y24)\n",
    "del model"
   ]
  },
  {
   "cell_type": "code",
   "execution_count": null,
   "metadata": {},
   "outputs": [],
   "source": [
    "model = Sequential()\n",
    "opt = optimizers.adam(lr = 0.01)\n",
    "model.add(Dense(20, activation='relu', input_dim=x_train.shape[1]))\n",
    "model.add(Dense(20, activation='relu'))\n",
    "model.add(Dense(1, activation='sigmoid'))\n",
    "model.compile(optimizer = opt,\n",
    "              loss = 'binary_crossentropy',\n",
    "              metrics = ['binary_crossentropy'])\n",
    "\n",
    "model.fit(x_train, y_train, batch_size = 1024, epochs = 10, verbose = 0)\n",
    "y25 = model.predict_proba(x_test)\n",
    "print \n",
    "#print log_loss(y_test, y25)\n",
    "del model"
   ]
  },
  {
   "cell_type": "code",
   "execution_count": null,
   "metadata": {},
   "outputs": [],
   "source": [
    "model = Sequential()\n",
    "opt = optimizers.adam(lr = 0.01)\n",
    "model.add(Dense(20, activation='relu', input_dim=x_train.shape[1]))\n",
    "model.add(Dense(20, activation='relu'))\n",
    "model.add(Dense(20, activation='relu'))\n",
    "model.add(Dense(1, activation='sigmoid'))\n",
    "model.compile(optimizer = opt,\n",
    "              loss = 'binary_crossentropy',\n",
    "              metrics = ['binary_crossentropy'])\n",
    "\n",
    "model.fit(x_train, y_train, batch_size = 1024, epochs = 15, verbose = 0)\n",
    "y26 = model.predict_proba(x_test)\n",
    "print \n",
    "#print log_loss(y_test, y26)\n",
    "del model"
   ]
  },
  {
   "cell_type": "code",
   "execution_count": null,
   "metadata": {},
   "outputs": [],
   "source": [
    "model = Sequential()\n",
    "opt = optimizers.adam(lr = 0.01)\n",
    "model.add(Dense(20, activation='relu', input_dim=x_train.shape[1]))\n",
    "model.add(Dense(60, activation='relu'))\n",
    "model.add(Dense(20, activation='relu'))\n",
    "model.add(Dense(1, activation='sigmoid'))\n",
    "model.compile(optimizer = opt,\n",
    "              loss = 'binary_crossentropy',\n",
    "              metrics = ['binary_crossentropy'])\n",
    "\n",
    "model.fit(x_train, y_train, batch_size = 1024, epochs = 10, verbose = 0)\n",
    "y27 = model.predict_proba(x_test)\n",
    "print \n",
    "#print log_loss(y_test, y27)\n",
    "del model"
   ]
  },
  {
   "cell_type": "code",
   "execution_count": null,
   "metadata": {},
   "outputs": [],
   "source": [
    "model = Sequential()\n",
    "opt = optimizers.adam(lr = 0.01)\n",
    "model.add(Dense(60, activation='relu', input_dim=x_train.shape[1]))\n",
    "model.add(Dense(40, activation='relu'))\n",
    "model.add(Dense(20, activation='relu'))\n",
    "model.add(Dense(1, activation='sigmoid'))\n",
    "model.compile(optimizer = opt,\n",
    "              loss = 'binary_crossentropy',\n",
    "              metrics = ['binary_crossentropy'])\n",
    "\n",
    "model.fit(x_train, y_train, batch_size = 1024, epochs = 15, verbose = 0)\n",
    "y28 = model.predict_proba(x_test)\n",
    "print \n",
    "#print log_loss(y_test, y28)\n",
    "del model"
   ]
  },
  {
   "cell_type": "code",
   "execution_count": null,
   "metadata": {},
   "outputs": [],
   "source": [
    "model = Sequential()\n",
    "opt = optimizers.adam(lr = 0.01)\n",
    "model.add(Dense(20, activation='relu', input_dim=x_train.shape[1]))\n",
    "model.add(Dense(40, activation='relu'))\n",
    "model.add(Dense(60, activation='relu'))\n",
    "model.add(Dense(1, activation='sigmoid'))\n",
    "model.compile(optimizer = opt,\n",
    "              loss = 'binary_crossentropy',\n",
    "              metrics = ['binary_crossentropy'])\n",
    "\n",
    "model.fit(x_train, y_train, batch_size = 1024, epochs = 10, verbose = 0)\n",
    "y29 = model.predict_proba(x_test)\n",
    "print \n",
    "#print log_loss(y_test, y29)\n",
    "del model"
   ]
  },
  {
   "cell_type": "code",
   "execution_count": null,
   "metadata": {},
   "outputs": [],
   "source": [
    "model = Sequential()\n",
    "opt = optimizers.adam(lr = 0.01)\n",
    "model.add(Dense(40, activation='relu', input_dim=x_train.shape[1]))\n",
    "model.add(Dense(40, activation='relu'))\n",
    "model.add(Dense(20, activation='relu'))\n",
    "model.add(Dense(1, activation='sigmoid'))\n",
    "model.compile(optimizer = opt,\n",
    "              loss = 'binary_crossentropy',\n",
    "              metrics = ['binary_crossentropy'])\n",
    "\n",
    "model.fit(x_train, y_train, batch_size = 1024, epochs = 10, verbose = 0)\n",
    "y30 = model.predict_proba(x_test)\n",
    "print \n",
    "#print log_loss(y_test, y30)\n",
    "del model"
   ]
  },
  {
   "cell_type": "code",
   "execution_count": null,
   "metadata": {
    "collapsed": true
   },
   "outputs": [],
   "source": []
  },
  {
   "cell_type": "code",
   "execution_count": null,
   "metadata": {
    "collapsed": true
   },
   "outputs": [],
   "source": []
  },
  {
   "cell_type": "code",
   "execution_count": null,
   "metadata": {
    "collapsed": true
   },
   "outputs": [],
   "source": []
  },
  {
   "cell_type": "code",
   "execution_count": null,
   "metadata": {
    "collapsed": true
   },
   "outputs": [],
   "source": []
  },
  {
   "cell_type": "code",
   "execution_count": null,
   "metadata": {
    "collapsed": true
   },
   "outputs": [],
   "source": []
  },
  {
   "cell_type": "code",
   "execution_count": null,
   "metadata": {
    "collapsed": true
   },
   "outputs": [],
   "source": [
    "# cv\n",
    "y_nn = ((y1 + y2 + y3 + y4 + y5 + y6 + y7 + y8 + y9 + y10\\\n",
    "        + y11 + y12 + y13 + y14 + y15 + y16 + y17 + y18 + y19 + y20\\\n",
    "        + y21 + y22 + y23 + y24 + y25 + y26 + y27 + y28 + y29 + y30)/30).T[0]\n",
    "#log_loss(y_test, y_nn)"
   ]
  },
  {
   "cell_type": "code",
   "execution_count": null,
   "metadata": {},
   "outputs": [],
   "source": [
    "y_nn"
   ]
  },
  {
   "cell_type": "code",
   "execution_count": null,
   "metadata": {},
   "outputs": [],
   "source": [
    "output = pd.DataFrame(y_nn)\n",
    "output.to_csv('nn_30.csv', header=None, index=None)\n",
    "output.head(7)"
   ]
  },
  {
   "cell_type": "code",
   "execution_count": null,
   "metadata": {
    "collapsed": true
   },
   "outputs": [],
   "source": []
  },
  {
   "cell_type": "code",
   "execution_count": null,
   "metadata": {
    "collapsed": true
   },
   "outputs": [],
   "source": []
  },
  {
   "cell_type": "code",
   "execution_count": null,
   "metadata": {
    "collapsed": true
   },
   "outputs": [],
   "source": []
  },
  {
   "cell_type": "code",
   "execution_count": null,
   "metadata": {
    "collapsed": true
   },
   "outputs": [],
   "source": []
  }
 ],
 "metadata": {
  "kernelspec": {
   "display_name": "Python 2",
   "language": "python",
   "name": "python2"
  },
  "language_info": {
   "codemirror_mode": {
    "name": "ipython",
    "version": 2
   },
   "file_extension": ".py",
   "mimetype": "text/x-python",
   "name": "python",
   "nbconvert_exporter": "python",
   "pygments_lexer": "ipython2",
   "version": "2.7.13"
  }
 },
 "nbformat": 4,
 "nbformat_minor": 2
}
