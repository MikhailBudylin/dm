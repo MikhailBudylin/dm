{
 "cells": [
  {
   "cell_type": "code",
   "execution_count": 1,
   "metadata": {},
   "outputs": [
    {
     "name": "stderr",
     "output_type": "stream",
     "text": [
      "/home/mikhail/anaconda2/lib/python2.7/site-packages/sklearn/cross_validation.py:44: DeprecationWarning: This module was deprecated in version 0.18 in favor of the model_selection module into which all the refactored classes and functions are moved. Also note that the interface of the new CV iterators are different from that of this module. This module will be removed in 0.20.\n",
      "  \"This module will be removed in 0.20.\", DeprecationWarning)\n"
     ]
    }
   ],
   "source": [
    "import numpy as np\n",
    "import pandas as pd\n",
    "import matplotlib.pyplot as plt\n",
    "from sklearn import preprocessing\n",
    "from sklearn.model_selection import cross_val_score as cv_score\n",
    "from sklearn.decomposition import PCA, FastICA\n",
    "import xgboost as xgb\n",
    "import lightgbm as lgb\n",
    "from sklearn import metrics \n",
    "from sklearn.ensemble import RandomForestRegressor\n",
    "import datetime\n",
    "import copy\n",
    "%matplotlib inline"
   ]
  },
  {
   "cell_type": "code",
   "execution_count": 2,
   "metadata": {
    "collapsed": true
   },
   "outputs": [],
   "source": [
    "train = pd.read_csv('train.csv', parse_dates=['timestamp'])\n",
    "test = pd.read_csv('test.csv', parse_dates=['timestamp'])\n",
    "id_test = test.id\n",
    "\n",
    "bad_index = train[train.life_sq > train.full_sq].index\n",
    "train.loc[bad_index, \"life_sq\"] = np.NaN\n",
    "equal_index = [601,1896,2791]\n",
    "test.loc[equal_index, \"life_sq\"] = test.loc[equal_index, \"full_sq\"]\n",
    "bad_index = test[test.life_sq > test.full_sq].index\n",
    "test.loc[bad_index, \"life_sq\"] = np.NaN\n",
    "bad_index = train[train.life_sq < 5].index\n",
    "train.loc[bad_index, \"life_sq\"] = np.NaN\n",
    "bad_index = test[test.life_sq < 5].index\n",
    "test.loc[bad_index, \"life_sq\"] = np.NaN\n",
    "bad_index = train[train.full_sq < 5].index\n",
    "train.loc[bad_index, \"full_sq\"] = np.NaN\n",
    "bad_index = test[test.full_sq < 5].index\n",
    "test.loc[bad_index, \"full_sq\"] = np.NaN\n",
    "kitch_is_build_year = [13117]\n",
    "train.loc[kitch_is_build_year, \"build_year\"] = train.loc[kitch_is_build_year, \"kitch_sq\"]\n",
    "bad_index = train[train.kitch_sq >= train.life_sq].index\n",
    "train.loc[bad_index, \"kitch_sq\"] = np.NaN\n",
    "bad_index = test[test.kitch_sq >= test.life_sq].index\n",
    "test.loc[bad_index, \"kitch_sq\"] = np.NaN\n",
    "bad_index = train[(train.kitch_sq == 0).values + (train.kitch_sq == 1).values].index\n",
    "train.loc[bad_index, \"kitch_sq\"] = np.NaN\n",
    "bad_index = test[(test.kitch_sq == 0).values + (test.kitch_sq == 1).values].index\n",
    "test.loc[bad_index, \"kitch_sq\"] = np.NaN\n",
    "bad_index = train[(train.full_sq > 210) & (train.life_sq / train.full_sq < 0.3)].index\n",
    "train.loc[bad_index, \"full_sq\"] = np.NaN\n",
    "bad_index = test[(test.full_sq > 150) & (test.life_sq / test.full_sq < 0.3)].index\n",
    "test.loc[bad_index, \"full_sq\"] = np.NaN\n",
    "bad_index = train[train.life_sq > 300].index\n",
    "train.loc[bad_index, [\"life_sq\", \"full_sq\"]] = np.NaN\n",
    "bad_index = test[test.life_sq > 200].index\n",
    "test.loc[bad_index, [\"life_sq\", \"full_sq\"]] = np.NaN\n",
    "train.product_type.value_counts(normalize= True)\n",
    "test.product_type.value_counts(normalize= True)\n",
    "bad_index = train[train.build_year < 1500].index\n",
    "train.loc[bad_index, \"build_year\"] = np.NaN\n",
    "bad_index = test[test.build_year < 1500].index\n",
    "test.loc[bad_index, \"build_year\"] = np.NaN\n",
    "bad_index = train[train.num_room == 0].index\n",
    "train.loc[bad_index, \"num_room\"] = np.NaN\n",
    "bad_index = test[test.num_room == 0].index\n",
    "test.loc[bad_index, \"num_room\"] = np.NaN\n",
    "bad_index = [10076, 11621, 17764, 19390, 24007, 26713, 29172]\n",
    "train.loc[bad_index, \"num_room\"] = np.NaN\n",
    "bad_index = [3174, 7313]\n",
    "test.loc[bad_index, \"num_room\"] = np.NaN\n",
    "bad_index = train[(train.floor == 0).values * (train.max_floor == 0).values].index\n",
    "train.loc[bad_index, [\"max_floor\", \"floor\"]] = np.NaN\n",
    "bad_index = train[train.floor == 0].index\n",
    "train.loc[bad_index, \"floor\"] = np.NaN\n",
    "bad_index = train[train.max_floor == 0].index\n",
    "train.loc[bad_index, \"max_floor\"] = np.NaN\n",
    "bad_index = test[test.max_floor == 0].index\n",
    "test.loc[bad_index, \"max_floor\"] = np.NaN\n",
    "bad_index = train[train.floor > train.max_floor].index\n",
    "train.loc[bad_index, \"max_floor\"] = np.NaN\n",
    "bad_index = test[test.floor > test.max_floor].index\n",
    "test.loc[bad_index, \"max_floor\"] = np.NaN\n",
    "train.floor.describe(percentiles= [0.9999])\n",
    "bad_index = [23584]\n",
    "train.loc[bad_index, \"floor\"] = np.NaN\n",
    "train.material.value_counts()\n",
    "test.material.value_counts()\n",
    "train.state.value_counts()\n",
    "bad_index = train[train.state == 33].index\n",
    "train.loc[bad_index, \"state\"] = np.NaN\n",
    "test.state.value_counts()\n",
    "\n",
    "train.loc[train.full_sq == 0, 'full_sq'] = 50\n",
    "train = train[train.price_doc/train.full_sq <= 600000]\n",
    "train = train[train.price_doc/train.full_sq >= 10000]"
   ]
  },
  {
   "cell_type": "code",
   "execution_count": 3,
   "metadata": {
    "collapsed": true
   },
   "outputs": [],
   "source": [
    "# Add month-year\n",
    "month_year = (train.timestamp.dt.month + train.timestamp.dt.year * 100)\n",
    "month_year_cnt_map = month_year.value_counts().to_dict()\n",
    "train['month_year_cnt'] = month_year.map(month_year_cnt_map)\n",
    "\n",
    "month_year = (test.timestamp.dt.month + test.timestamp.dt.year * 100)\n",
    "month_year_cnt_map = month_year.value_counts().to_dict()\n",
    "test['month_year_cnt'] = month_year.map(month_year_cnt_map)\n",
    "\n",
    "# Add week-year count\n",
    "week_year = (train.timestamp.dt.weekofyear + train.timestamp.dt.year * 100)\n",
    "week_year_cnt_map = week_year.value_counts().to_dict()\n",
    "train['week_year_cnt'] = week_year.map(week_year_cnt_map)\n",
    "\n",
    "week_year = (test.timestamp.dt.weekofyear + test.timestamp.dt.year * 100)\n",
    "week_year_cnt_map = week_year.value_counts().to_dict()\n",
    "test['week_year_cnt'] = week_year.map(week_year_cnt_map)\n",
    "\n",
    "# Add month and day-of-week\n",
    "train['month'] = train.timestamp.dt.month\n",
    "train['dow'] = train.timestamp.dt.dayofweek\n",
    "\n",
    "test['month'] = test.timestamp.dt.month\n",
    "test['dow'] = test.timestamp.dt.dayofweek\n",
    "\n",
    "# Other feature engineering\n",
    "train['rel_floor'] = train['floor'] / train['max_floor'].astype(float)\n",
    "train['rel_kitch_sq'] = train['kitch_sq'] / train['full_sq'].astype(float)\n",
    "\n",
    "test['rel_floor'] = test['floor'] / test['max_floor'].astype(float)\n",
    "test['rel_kitch_sq'] = test['kitch_sq'] / test['full_sq'].astype(float)\n",
    "\n",
    "train['apartment_name']=train.sub_area + train['metro_km_avto'].astype(str)\n",
    "test['apartment_name'] =test.sub_area + train['metro_km_avto'].astype(str)\n",
    "\n",
    "train['room_size'] = train['life_sq'] / train['num_room'].astype(float)\n",
    "test['room_size'] = test['life_sq'] / test['num_room'].astype(float)\n"
   ]
  },
  {
   "cell_type": "code",
   "execution_count": null,
   "metadata": {
    "collapsed": true
   },
   "outputs": [],
   "source": []
  },
  {
   "cell_type": "code",
   "execution_count": 4,
   "metadata": {
    "collapsed": true
   },
   "outputs": [],
   "source": [
    "x_train = train.drop([\"id\", \"timestamp\", \"price_doc\"], axis=1)\n",
    "#x_test = test.drop([\"id\", \"timestamp\", \"average_q_price\"], axis=1)\n",
    "y_train = train[\"price_doc\"]\n",
    "x_test = test.drop([\"id\", \"timestamp\"], axis=1)\n",
    "\n",
    "num_train = len(x_train)\n",
    "x_all = pd.concat([x_train, x_test])\n",
    "\n",
    "for c in x_all.columns:\n",
    "    if x_all[c].dtype == 'object':\n",
    "        lbl = preprocessing.LabelEncoder()\n",
    "        lbl.fit(list(x_all[c].values))\n",
    "        x_all[c] = lbl.transform(list(x_all[c].values))\n",
    "\n",
    "x_train = x_all[:num_train]\n",
    "x_test = x_all[num_train:]\n"
   ]
  },
  {
   "cell_type": "markdown",
   "metadata": {},
   "source": [
    "# 1"
   ]
  },
  {
   "cell_type": "code",
   "execution_count": 5,
   "metadata": {
    "collapsed": true
   },
   "outputs": [],
   "source": [
    "xgb_params = {\n",
    "    'eta': 0.05,\n",
    "    'max_depth': 6,\n",
    "    'subsample': 0.6,\n",
    "    'colsample_bytree': 1,\n",
    "    'objective': 'reg:linear',\n",
    "    'eval_metric': 'rmse',\n",
    "    'silent': 1\n",
    "}\n"
   ]
  },
  {
   "cell_type": "code",
   "execution_count": 20,
   "metadata": {},
   "outputs": [
    {
     "name": "stdout",
     "output_type": "stream",
     "text": [
      "[0]\ttrain-rmse:2541.01+3.65795\ttest-rmse:2541.41+7.67968\n",
      "[10]\ttrain-rmse:1574.64+2.19561\ttest-rmse:1579.74+6.51581\n",
      "[20]\ttrain-rmse:1016.85+1.96\ttest-rmse:1029.35+5.99849\n",
      "[30]\ttrain-rmse:709.071+1.45778\ttest-rmse:733.36+5.91882\n",
      "[40]\ttrain-rmse:550.94+1.90094\ttest-rmse:587.42+5.44683\n",
      "[50]\ttrain-rmse:475.398+2.06092\ttest-rmse:522.244+5.40138\n",
      "[60]\ttrain-rmse:439.781+2.15244\ttest-rmse:495.045+5.50645\n",
      "[70]\ttrain-rmse:421.605+2.80307\ttest-rmse:482.782+5.06266\n",
      "[80]\ttrain-rmse:410.557+2.93475\ttest-rmse:477.619+5.05179\n",
      "[90]\ttrain-rmse:402.873+2.63151\ttest-rmse:474.594+4.91194\n",
      "[100]\ttrain-rmse:396.779+2.20534\ttest-rmse:472.866+5.0862\n",
      "[110]\ttrain-rmse:391.633+2.42505\ttest-rmse:471.871+5.36626\n",
      "[120]\ttrain-rmse:386.77+2.26003\ttest-rmse:471.323+5.33668\n",
      "[130]\ttrain-rmse:382.417+2.11722\ttest-rmse:470.746+5.17933\n",
      "[140]\ttrain-rmse:378.5+2.17218\ttest-rmse:470.18+4.96584\n",
      "[150]\ttrain-rmse:374.476+2.66794\ttest-rmse:469.761+5.12273\n",
      "[160]\ttrain-rmse:370.545+2.33124\ttest-rmse:469.341+4.94998\n",
      "[170]\ttrain-rmse:367.136+2.1603\ttest-rmse:469.239+4.81001\n",
      "[180]\ttrain-rmse:363.468+2.02759\ttest-rmse:468.897+4.80687\n",
      "[190]\ttrain-rmse:360.291+1.9699\ttest-rmse:468.858+4.90358\n",
      "[200]\ttrain-rmse:356.539+1.68769\ttest-rmse:468.802+4.92222\n",
      "[210]\ttrain-rmse:353.171+1.17722\ttest-rmse:468.572+4.77613\n",
      "[220]\ttrain-rmse:349.524+1.56883\ttest-rmse:468.403+4.90644\n",
      "[230]\ttrain-rmse:346.232+1.28768\ttest-rmse:468.238+4.89091\n",
      "[240]\ttrain-rmse:343.072+1.22545\ttest-rmse:468.321+5.06583\n",
      "[250]\ttrain-rmse:340.452+1.20291\ttest-rmse:468.333+4.97651\n"
     ]
    }
   ],
   "source": [
    "dtrain = xgb.DMatrix(x_train, (y_train))\n",
    "cv_output = xgb.cv(xgb_params, dtrain, num_boost_round=1000, early_stopping_rounds=20,\n",
    "    verbose_eval=10, show_stdv=True)"
   ]
  },
  {
   "cell_type": "code",
   "execution_count": 22,
   "metadata": {
    "collapsed": true
   },
   "outputs": [],
   "source": [
    "dtrain = xgb.DMatrix(x_train, y_train)\n",
    "dtest = xgb.DMatrix(x_test)\n",
    "\n",
    "num_boost_rounds = 330#422\n",
    "model = xgb.train(dict(xgb_params, silent=0), dtrain, num_boost_round=num_boost_rounds)\n",
    "\n",
    "y_predict = model.predict(dtest)"
   ]
  },
  {
   "cell_type": "code",
   "execution_count": 23,
   "metadata": {},
   "outputs": [
    {
     "data": {
      "text/html": [
       "<div>\n",
       "<style>\n",
       "    .dataframe thead tr:only-child th {\n",
       "        text-align: right;\n",
       "    }\n",
       "\n",
       "    .dataframe thead th {\n",
       "        text-align: left;\n",
       "    }\n",
       "\n",
       "    .dataframe tbody tr th {\n",
       "        vertical-align: top;\n",
       "    }\n",
       "</style>\n",
       "<table border=\"1\" class=\"dataframe\">\n",
       "  <thead>\n",
       "    <tr style=\"text-align: right;\">\n",
       "      <th></th>\n",
       "      <th>id</th>\n",
       "      <th>price_doc</th>\n",
       "    </tr>\n",
       "  </thead>\n",
       "  <tbody>\n",
       "    <tr>\n",
       "      <th>0</th>\n",
       "      <td>30474</td>\n",
       "      <td>5242948.5</td>\n",
       "    </tr>\n",
       "    <tr>\n",
       "      <th>1</th>\n",
       "      <td>30475</td>\n",
       "      <td>7827290.5</td>\n",
       "    </tr>\n",
       "    <tr>\n",
       "      <th>2</th>\n",
       "      <td>30476</td>\n",
       "      <td>5219908.5</td>\n",
       "    </tr>\n",
       "    <tr>\n",
       "      <th>3</th>\n",
       "      <td>30477</td>\n",
       "      <td>6075087.5</td>\n",
       "    </tr>\n",
       "    <tr>\n",
       "      <th>4</th>\n",
       "      <td>30478</td>\n",
       "      <td>4779251.5</td>\n",
       "    </tr>\n",
       "  </tbody>\n",
       "</table>\n",
       "</div>"
      ],
      "text/plain": [
       "      id  price_doc\n",
       "0  30474  5242948.5\n",
       "1  30475  7827290.5\n",
       "2  30476  5219908.5\n",
       "3  30477  6075087.5\n",
       "4  30478  4779251.5"
      ]
     },
     "execution_count": 23,
     "metadata": {},
     "output_type": "execute_result"
    }
   ],
   "source": [
    "output = pd.DataFrame({'id': id_test, 'price_doc': y_predict})\n",
    "output.to_csv('model1.csv', index=None)\n",
    "output.head()"
   ]
  },
  {
   "cell_type": "markdown",
   "metadata": {},
   "source": [
    "# 2"
   ]
  },
  {
   "cell_type": "code",
   "execution_count": 16,
   "metadata": {
    "collapsed": true
   },
   "outputs": [],
   "source": [
    "lgb_params = {\n",
    "    'objective': 'regression',\n",
    "    'metric': 'rmse',\n",
    "    'boosting': 'gbdt',\n",
    "    'learning_rate': 0.04,\n",
    "    'verbose': 10,\n",
    "    'num_leaves': 32,\n",
    "    'bagging_fraction': 0.99,\n",
    "    'bagging_freq': 1,\n",
    "    'feature_fraction': 0.7,\n",
    "    'max_bin': 500,\n",
    "    'max_depth': 10,\n",
    "}"
   ]
  },
  {
   "cell_type": "code",
   "execution_count": 17,
   "metadata": {},
   "outputs": [
    {
     "name": "stdout",
     "output_type": "stream",
     "text": [
      "[10]\tcv_agg's rmse: 0.533207 + 0.00449067\n",
      "[20]\tcv_agg's rmse: 0.498594 + 0.00510635\n",
      "[30]\tcv_agg's rmse: 0.481379 + 0.00555389\n",
      "[40]\tcv_agg's rmse: 0.47151 + 0.00580002\n",
      "[50]\tcv_agg's rmse: 0.465594 + 0.00605258\n",
      "[60]\tcv_agg's rmse: 0.462096 + 0.0063232\n",
      "[70]\tcv_agg's rmse: 0.459646 + 0.00639501\n",
      "[80]\tcv_agg's rmse: 0.457666 + 0.006386\n",
      "[90]\tcv_agg's rmse: 0.456146 + 0.00635149\n",
      "[100]\tcv_agg's rmse: 0.454918 + 0.00634885\n",
      "[110]\tcv_agg's rmse: 0.454041 + 0.00628218\n",
      "[120]\tcv_agg's rmse: 0.453377 + 0.00630741\n",
      "[130]\tcv_agg's rmse: 0.452904 + 0.00650133\n",
      "[140]\tcv_agg's rmse: 0.452551 + 0.0064866\n",
      "[150]\tcv_agg's rmse: 0.452107 + 0.00640434\n",
      "[160]\tcv_agg's rmse: 0.451964 + 0.00643965\n",
      "[170]\tcv_agg's rmse: 0.451829 + 0.00653078\n",
      "[180]\tcv_agg's rmse: 0.451706 + 0.0065536\n",
      "[190]\tcv_agg's rmse: 0.451439 + 0.00651644\n",
      "[200]\tcv_agg's rmse: 0.451374 + 0.00666761\n",
      "[210]\tcv_agg's rmse: 0.451318 + 0.00662204\n",
      "[220]\tcv_agg's rmse: 0.451194 + 0.0065602\n",
      "[230]\tcv_agg's rmse: 0.451105 + 0.00655291\n",
      "[240]\tcv_agg's rmse: 0.451021 + 0.00658481\n",
      "[250]\tcv_agg's rmse: 0.451035 + 0.00659065\n",
      "[260]\tcv_agg's rmse: 0.45106 + 0.00646432\n"
     ]
    }
   ],
   "source": [
    "ltrain = lgb.Dataset(x_train, (y_train)/1e6)\n",
    "cv_output = lgb.cv(lgb_params, ltrain, num_boost_round=1000, nfold = 3, early_stopping_rounds=50,\n",
    "    verbose_eval=10, show_stdv=True)"
   ]
  },
  {
   "cell_type": "code",
   "execution_count": 18,
   "metadata": {
    "collapsed": true
   },
   "outputs": [],
   "source": [
    "ltrain = lgb.Dataset(x_train, y_train/1e6)\n",
    "num_boost_round = 600\n",
    "\n",
    "model = lgb.train(lgb_params, ltrain, num_boost_round=num_boost_round)\n",
    "\n",
    "y_predict_lgb = model.predict(x_test)*1e6"
   ]
  },
  {
   "cell_type": "code",
   "execution_count": 19,
   "metadata": {},
   "outputs": [
    {
     "data": {
      "text/html": [
       "<div>\n",
       "<style>\n",
       "    .dataframe thead tr:only-child th {\n",
       "        text-align: right;\n",
       "    }\n",
       "\n",
       "    .dataframe thead th {\n",
       "        text-align: left;\n",
       "    }\n",
       "\n",
       "    .dataframe tbody tr th {\n",
       "        vertical-align: top;\n",
       "    }\n",
       "</style>\n",
       "<table border=\"1\" class=\"dataframe\">\n",
       "  <thead>\n",
       "    <tr style=\"text-align: right;\">\n",
       "      <th></th>\n",
       "      <th>id</th>\n",
       "      <th>price_doc</th>\n",
       "    </tr>\n",
       "  </thead>\n",
       "  <tbody>\n",
       "    <tr>\n",
       "      <th>0</th>\n",
       "      <td>30474</td>\n",
       "      <td>5.204563e+06</td>\n",
       "    </tr>\n",
       "    <tr>\n",
       "      <th>1</th>\n",
       "      <td>30475</td>\n",
       "      <td>7.914491e+06</td>\n",
       "    </tr>\n",
       "    <tr>\n",
       "      <th>2</th>\n",
       "      <td>30476</td>\n",
       "      <td>4.635354e+06</td>\n",
       "    </tr>\n",
       "    <tr>\n",
       "      <th>3</th>\n",
       "      <td>30477</td>\n",
       "      <td>6.174865e+06</td>\n",
       "    </tr>\n",
       "    <tr>\n",
       "      <th>4</th>\n",
       "      <td>30478</td>\n",
       "      <td>4.813138e+06</td>\n",
       "    </tr>\n",
       "  </tbody>\n",
       "</table>\n",
       "</div>"
      ],
      "text/plain": [
       "      id     price_doc\n",
       "0  30474  5.204563e+06\n",
       "1  30475  7.914491e+06\n",
       "2  30476  4.635354e+06\n",
       "3  30477  6.174865e+06\n",
       "4  30478  4.813138e+06"
      ]
     },
     "execution_count": 19,
     "metadata": {},
     "output_type": "execute_result"
    }
   ],
   "source": [
    "output_lgb = pd.DataFrame({'id': id_test, 'price_doc': y_predict_lgb})\n",
    "output_lgb.to_csv('model1_lgb_log.csv', index=None)\n",
    "output_lgb.head()"
   ]
  },
  {
   "cell_type": "markdown",
   "metadata": {},
   "source": [
    "# 3"
   ]
  },
  {
   "cell_type": "code",
   "execution_count": 18,
   "metadata": {
    "collapsed": true
   },
   "outputs": [],
   "source": [
    "rf = RandomForestRegressor(n_estimators=500, max_features=120, n_jobs=-1)\n",
    "\n",
    "x_train_rf = x_train.fillna(x_train.median())\n",
    "x_test_rf  = x_test.fillna(x_train.median())\n",
    "\n",
    "rf.fit(x_train_rf, y_train)\n",
    "\n",
    "y_predict_rf = rf.predict(x_test_rf)"
   ]
  },
  {
   "cell_type": "code",
   "execution_count": 19,
   "metadata": {},
   "outputs": [
    {
     "data": {
      "text/html": [
       "<div>\n",
       "<style>\n",
       "    .dataframe thead tr:only-child th {\n",
       "        text-align: right;\n",
       "    }\n",
       "\n",
       "    .dataframe thead th {\n",
       "        text-align: left;\n",
       "    }\n",
       "\n",
       "    .dataframe tbody tr th {\n",
       "        vertical-align: top;\n",
       "    }\n",
       "</style>\n",
       "<table border=\"1\" class=\"dataframe\">\n",
       "  <thead>\n",
       "    <tr style=\"text-align: right;\">\n",
       "      <th></th>\n",
       "      <th>id</th>\n",
       "      <th>price_doc</th>\n",
       "    </tr>\n",
       "  </thead>\n",
       "  <tbody>\n",
       "    <tr>\n",
       "      <th>0</th>\n",
       "      <td>30474</td>\n",
       "      <td>5435984.446</td>\n",
       "    </tr>\n",
       "    <tr>\n",
       "      <th>1</th>\n",
       "      <td>30475</td>\n",
       "      <td>8353995.906</td>\n",
       "    </tr>\n",
       "    <tr>\n",
       "      <th>2</th>\n",
       "      <td>30476</td>\n",
       "      <td>5344476.910</td>\n",
       "    </tr>\n",
       "    <tr>\n",
       "      <th>3</th>\n",
       "      <td>30477</td>\n",
       "      <td>5943234.946</td>\n",
       "    </tr>\n",
       "    <tr>\n",
       "      <th>4</th>\n",
       "      <td>30478</td>\n",
       "      <td>4997280.254</td>\n",
       "    </tr>\n",
       "  </tbody>\n",
       "</table>\n",
       "</div>"
      ],
      "text/plain": [
       "      id    price_doc\n",
       "0  30474  5435984.446\n",
       "1  30475  8353995.906\n",
       "2  30476  5344476.910\n",
       "3  30477  5943234.946\n",
       "4  30478  4997280.254"
      ]
     },
     "execution_count": 19,
     "metadata": {},
     "output_type": "execute_result"
    }
   ],
   "source": [
    "output_rf = pd.DataFrame({'id': id_test, 'price_doc': y_predict_rf})\n",
    "output_rf.to_csv('model1_rf.csv', index=None)\n",
    "output_rf.head()"
   ]
  },
  {
   "cell_type": "code",
   "execution_count": null,
   "metadata": {
    "collapsed": true
   },
   "outputs": [],
   "source": []
  }
 ],
 "metadata": {
  "kernelspec": {
   "display_name": "Python 2",
   "language": "python",
   "name": "python2"
  },
  "language_info": {
   "codemirror_mode": {
    "name": "ipython",
    "version": 2
   },
   "file_extension": ".py",
   "mimetype": "text/x-python",
   "name": "python",
   "nbconvert_exporter": "python",
   "pygments_lexer": "ipython2",
   "version": "2.7.13"
  }
 },
 "nbformat": 4,
 "nbformat_minor": 2
}
